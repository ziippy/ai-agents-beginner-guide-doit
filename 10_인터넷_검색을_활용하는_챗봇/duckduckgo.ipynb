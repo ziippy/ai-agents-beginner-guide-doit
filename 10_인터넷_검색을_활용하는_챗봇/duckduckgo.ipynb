{
 "cells": [
  {
   "cell_type": "markdown",
   "metadata": {},
   "source": [
    "### 랭체인은 구글 검색, 빙 검색, 덕덕고 검색, 타빌리 검색 등 다양한 도구를 제공하여 인터넷 검색 기능을 추가할 수 있다.\n",
    "\n",
    "이번 실습에서는 무료로 사용할 수 있는 덕덕고 검색 엔진을 사용하겠다."
   ]
  },
  {
   "cell_type": "code",
   "execution_count": 7,
   "metadata": {},
   "outputs": [],
   "source": [
    "import os\n",
    "from dotenv import load_dotenv\n",
    "load_dotenv(dotenv_path=\"../.env\")\n",
    "OPENAI_API_KEY = os.getenv('OPENAI_API_KEY')"
   ]
  },
  {
   "cell_type": "code",
   "execution_count": 28,
   "metadata": {},
   "outputs": [
    {
     "data": {
      "text/plain": [
       "AIMessage(content='죄송하지만, 로제가 발표한 \"APT\"라는 신곡에 대한 특별한 정보를 가지고 있지 않습니다. 신곡에 대한 반응을 알고 싶다면 소셜 미디어, 음악 리뷰 사이트나 팬 커뮤니티를 통해 최신 반응과 리뷰를 확인해보는 것이 좋을 것 같습니다. 도움이 되길 바랍니다!', additional_kwargs={'refusal': None}, response_metadata={'token_usage': {'completion_tokens': 70, 'prompt_tokens': 20, 'total_tokens': 90, 'completion_tokens_details': {'accepted_prediction_tokens': 0, 'audio_tokens': 0, 'reasoning_tokens': 0, 'rejected_prediction_tokens': 0}, 'prompt_tokens_details': {'audio_tokens': 0, 'cached_tokens': 0}}, 'model_name': 'gpt-4o-2024-08-06', 'system_fingerprint': 'fp_46bff0e0c8', 'id': 'chatcmpl-C4poLGKH6aJOT830mXfwVsfezKit7', 'service_tier': 'default', 'finish_reason': 'stop', 'logprobs': None}, id='run--58355061-0a0b-4466-ac60-e1c0e4e11848-0', usage_metadata={'input_tokens': 20, 'output_tokens': 70, 'total_tokens': 90, 'input_token_details': {'audio': 0, 'cache_read': 0}, 'output_token_details': {'audio': 0, 'reasoning': 0}})"
      ]
     },
     "execution_count": 28,
     "metadata": {},
     "output_type": "execute_result"
    }
   ],
   "source": [
    "# 최신 정보를 알려주지 못하는 GPT\n",
    "from langchain_openai import ChatOpenAI\n",
    "\n",
    "model = ChatOpenAI(model=\"gpt-4o\", api_key=OPENAI_API_KEY)\n",
    "model.invoke(\"로제의 신곡 APT에 대한 반응은?\")"
   ]
  },
  {
   "cell_type": "markdown",
   "metadata": {},
   "source": [
    "#### 덕덕고 검색 설치"
   ]
  },
  {
   "cell_type": "code",
   "execution_count": 10,
   "metadata": {},
   "outputs": [
    {
     "name": "stdout",
     "output_type": "stream",
     "text": [
      "Collecting duckduckgo-search\n",
      "  Downloading duckduckgo_search-8.1.1-py3-none-any.whl.metadata (16 kB)\n",
      "Requirement already satisfied: click>=8.1.8 in /home/haiqv/conda/envs/agent-llm/lib/python3.11/site-packages (from duckduckgo-search) (8.2.1)\n",
      "Collecting primp>=0.15.0 (from duckduckgo-search)\n",
      "  Downloading primp-0.15.0-cp38-abi3-manylinux_2_17_x86_64.manylinux2014_x86_64.whl.metadata (13 kB)\n",
      "Requirement already satisfied: lxml>=5.3.0 in /home/haiqv/conda/envs/agent-llm/lib/python3.11/site-packages (from duckduckgo-search) (6.0.0)\n",
      "Downloading duckduckgo_search-8.1.1-py3-none-any.whl (18 kB)\n",
      "Downloading primp-0.15.0-cp38-abi3-manylinux_2_17_x86_64.manylinux2014_x86_64.whl (3.3 MB)\n",
      "\u001b[2K   \u001b[90m━━━━━━━━━━━━━━━━━━━━━━━━━━━━━━━━━━━━━━━━\u001b[0m \u001b[32m3.3/3.3 MB\u001b[0m \u001b[31m70.0 MB/s\u001b[0m  \u001b[33m0:00:00\u001b[0m\n",
      "\u001b[?25hInstalling collected packages: primp, duckduckgo-search\n",
      "\u001b[2K   \u001b[90m━━━━━━━━━━━━━━━━━━━━━━━━━━━━━━━━━━━━━━━━\u001b[0m \u001b[32m2/2\u001b[0m [duckduckgo-search]\n",
      "\u001b[1A\u001b[2KSuccessfully installed duckduckgo-search-8.1.1 primp-0.15.0\n"
     ]
    }
   ],
   "source": [
    "!pip install duckduckgo-search"
   ]
  },
  {
   "cell_type": "code",
   "execution_count": 20,
   "metadata": {},
   "outputs": [
    {
     "name": "stdout",
     "output_type": "stream",
     "text": [
      "Collecting ddgs\n",
      "  Downloading ddgs-9.5.2-py3-none-any.whl.metadata (18 kB)\n",
      "Requirement already satisfied: click>=8.1.8 in /home/haiqv/conda/envs/agent-llm/lib/python3.11/site-packages (from ddgs) (8.2.1)\n",
      "Requirement already satisfied: primp>=0.15.0 in /home/haiqv/conda/envs/agent-llm/lib/python3.11/site-packages (from ddgs) (0.15.0)\n",
      "Requirement already satisfied: lxml>=5.3.0 in /home/haiqv/conda/envs/agent-llm/lib/python3.11/site-packages (from ddgs) (6.0.0)\n",
      "Downloading ddgs-9.5.2-py3-none-any.whl (36 kB)\n",
      "Installing collected packages: ddgs\n",
      "Successfully installed ddgs-9.5.2\n"
     ]
    }
   ],
   "source": [
    "!pip install ddgs"
   ]
  },
  {
   "cell_type": "code",
   "execution_count": 29,
   "metadata": {},
   "outputs": [
    {
     "name": "stderr",
     "output_type": "stream",
     "text": [
      "/home/haiqv/conda/envs/agent-llm/lib/python3.11/site-packages/langchain_community/utilities/duckduckgo_search.py:63: RuntimeWarning: This package (`duckduckgo_search`) has been renamed to `ddgs`! Use `pip install ddgs` instead.\n",
      "  with DDGS() as ddgs:\n"
     ]
    },
    {
     "name": "stdout",
     "output_type": "stream",
     "text": [
      "snippet: 哔哩哔哩（bilibili.com)是国内知名的视频弹幕网站，这里有及时的动漫新番，活跃的ACG氛围，有创意的Up主。 大家可以在这里找到许多欢乐。, title: 哔哩哔哩 (゜-゜)つロ 干杯~-bilibili, link: https://www.bilibili.com/;\n",
      "snippet: 哔哩哔哩（bilibili.com)是国内知名的视频弹幕网站，这里有及时的动漫新番，活跃的ACG氛围，有创意的Up主。 大家可以在这里找到许多欢乐。, title: 哔哩哔哩 | 网页版-国内知名的视频弹幕网站, link: https://bilibili.ai-tab.cn/;\n",
      "snippet: Category - BiliBili, Southeast Asia's leading anime, comics, and games (ACG) community where people can create, watch and share engaging videos., title: Category - BiliBili, link: https://www.bilibili.tv/zh/category;\n",
      "snippet: bilibili是国内知名的视频弹幕网站，这里有最及时的动漫新番，最棒的ACG氛围，最有创意的Up主。 大家可以在这里找到许多欢乐。, title: 哔哩哔哩, link: https://www.bilibili.com/v/popular/rank/all/\n"
     ]
    }
   ],
   "source": [
    "# 덕덕고 검색 테스트\n",
    "from langchain_community.tools import DuckDuckGoSearchResults \n",
    "\n",
    "search = DuckDuckGoSearchResults(results_separator=';\\n')\n",
    "docs = search.invoke(\"로제의 신곡 APT에 대한 반응은?\")\n",
    "\n",
    "print(docs)"
   ]
  },
  {
   "cell_type": "markdown",
   "metadata": {},
   "source": [
    "#### 질의 확장 구현하기"
   ]
  },
  {
   "cell_type": "code",
   "execution_count": 30,
   "metadata": {},
   "outputs": [],
   "source": [
    "from langchain_core.prompts import ChatPromptTemplate, MessagesPlaceholder\n",
    "\n",
    "question_answering_prompt = ChatPromptTemplate.from_messages(\n",
    "    [\n",
    "        (\n",
    "            \"system\",\n",
    "            \"사용자의 질문에 대해 아래 context에 기반하여 답변하라.:\\n\\n{context}\",\n",
    "        ),\n",
    "        MessagesPlaceholder(variable_name=\"messages\"),\n",
    "    ]\n",
    ")\n",
    "\n",
    "document_chain = question_answering_prompt | model"
   ]
  },
  {
   "cell_type": "code",
   "execution_count": 31,
   "metadata": {},
   "outputs": [
    {
     "name": "stdout",
     "output_type": "stream",
     "text": [
      "content='죄송하지만, 로제의 신곡 \"APT\"에 대한 특정 반응은 확인할 수 없습니다. 그러나 빌리빌리는 애니메이션, 만화, 게임과 관련된 다양한 영상을 공유하고, 토론할 수 있는 플랫폼이므로, 이러한 플랫폼에서 팬들의 다양한 의견과 반응을 찾아보시는 것도 좋을 것 같습니다.' additional_kwargs={'refusal': None} response_metadata={'token_usage': {'completion_tokens': 76, 'prompt_tokens': 361, 'total_tokens': 437, 'completion_tokens_details': {'accepted_prediction_tokens': 0, 'audio_tokens': 0, 'reasoning_tokens': 0, 'rejected_prediction_tokens': 0}, 'prompt_tokens_details': {'audio_tokens': 0, 'cached_tokens': 0}}, 'model_name': 'gpt-4o-2024-08-06', 'system_fingerprint': 'fp_46bff0e0c8', 'id': 'chatcmpl-C4poe6qQM8n6aoOpX63oBofSsAnmc', 'service_tier': 'default', 'finish_reason': 'stop', 'logprobs': None} id='run--f943d0bc-4685-4be3-be96-8a23ce415358-0' usage_metadata={'input_tokens': 361, 'output_tokens': 76, 'total_tokens': 437, 'input_token_details': {'audio': 0, 'cache_read': 0}, 'output_token_details': {'audio': 0, 'reasoning': 0}}\n"
     ]
    }
   ],
   "source": [
    "# 메시지 저장하고 답변 생성 후 출력하기\n",
    "from langchain.memory import ChatMessageHistory\n",
    "\n",
    "# 채팅 메시지를 저장할 메모리 객체 생성\n",
    "chat_history = ChatMessageHistory() \n",
    "# 사용자 질문을 메모리에 저장\n",
    "chat_history.add_user_message(\"로제의 신곡 APT에 대한 반응은?\") \n",
    "\n",
    "# 문서 검색하고 답변 생성\n",
    "answer = document_chain.invoke(\n",
    "    {\n",
    "        \"messages\": chat_history.messages,\n",
    "        \"context\": docs,\n",
    "    }\n",
    ")\n",
    "\n",
    "# 생성된 답변을 메모리에 저장\n",
    "chat_history.add_ai_message(answer) \n",
    "\n",
    "print(answer)"
   ]
  },
  {
   "cell_type": "markdown",
   "metadata": {},
   "source": [
    "#### 검색 기능에 옵션 설정하기"
   ]
  },
  {
   "cell_type": "code",
   "execution_count": 32,
   "metadata": {},
   "outputs": [
    {
     "name": "stderr",
     "output_type": "stream",
     "text": [
      "/home/haiqv/conda/envs/agent-llm/lib/python3.11/site-packages/langchain_community/utilities/duckduckgo_search.py:63: RuntimeWarning: This package (`duckduckgo_search`) has been renamed to `ddgs`! Use `pip install ddgs` instead.\n",
      "  with DDGS() as ddgs:\n"
     ]
    },
    {
     "name": "stdout",
     "output_type": "stream",
     "text": [
      "snippet: 4 days ago · 신개념 기초영문법 훈민영음 간지본 2편 로제의 ‘APT.’ 와 윤수일의 ‘아파트’를 비교해보면 문화적 배경에서 비롯한 언어 표현 방식의 차이를 ..., title: 훈민영문법 1분 영문법: 2-1 로제의 \"APT.\" 영어가사의 직설적 표현 ..., link: /videos/riverview/relatedvideo?q=로제의+신곡+APT에+대한+반응은?&filters=ex1:\"ez2\"&ru=/search?q=%EB%A1%9C%EC%A0%9C%EC%9D%98+%EC%8B%A0%EA%B3%A1+APT%EC%97%90+%EB%8C%80%ED%95%9C+%EB%B0%98%EC%9D%91%EC%9D%80%3F&filters=ex1%3A%22ez2%22&mmscn=vwrc&mid=8F5A57AF4D10983B7A078F5A57AF4D10983B7A07&FORM=WRVORC&ntb=1&msockid=251b035c79e511f0b63f90b59eb7b955;\n",
      "snippet: 3 days ago · APT (Adversarial PhoneTic Prompting)는 가사의 핵심 구절을 발음과 리듬이 비슷한 다른 단어로 바꾸는 방식입니다. 래퍼 에미넴 (Eminem)의 유명한 랩  가사에 …, title: AI, 블랙핑크와 에미넴 표절 의혹에 휩싸이다, link: https://newneek.co/@mmmya_ai/article/34759;\n",
      "snippet: 5 days ago · 로제의 히트곡 ‘APT.’ 는 올해의 비디오, 올해의 노래, 최우수 팝 등 7개 부문 후보에 오르며 두각을 나타냈습니다.또한, 데뷔 앨범 “rosie”의 수록곡 ‘ Toxic Till the End ‘는 최우수 K-pop …, title: 로제의 8개 VMA 후보 지명이 그래미상 수상으로 이어질까?, link: https://amkstation.com/ko/로제의-8개-vma-후보-지명이-그래미상-수상으로-이어질까/;\n",
      "snippet: 4 days ago · 이 밖에 블랙핑크의 신곡 '뛰어' (JUMP)는 한 계단 오른 35위로 4주 연속 진입했고, 멤버 로제의 글로벌 히트곡 '아파트' (APT.)는 다섯 계단 오른 39위로 42주 연속 차트에 머물고 있다., title: \"케데헌\" 열풍 지속…OST \"골든\" 영국 싱글 차트 2위, link: https://m.radiokorea.com/news/article.php?uid=480448\n"
     ]
    }
   ],
   "source": [
    "# 최신 뉴스 기사만 검색하기\n",
    "from langchain_community.utilities import DuckDuckGoSearchAPIWrapper\n",
    "from langchain_community.tools import DuckDuckGoSearchResults \n",
    "\n",
    "# 한국 지역(\"kr-kr\")을 기준, 최근 일주일(\"w\") 내의 검색 결과를 가져오도록 초기화\n",
    "wrapper = DuckDuckGoSearchAPIWrapper(region=\"kr-kr\", time=\"w\")\n",
    "\n",
    "# 뉴스 소스 위주로 검색하도록 지정\n",
    "# 검색 기능을 위한 DuckDuckGoSearchResults 초기화\n",
    "search = DuckDuckGoSearchResults(\n",
    "    api_wrapper=wrapper,      # 앞에서 정의한 API wrapper를 사용\n",
    "    source=\"news\",            # 뉴스 소스에서만 검색하도록 지정\n",
    "    results_separator=';\\n'   # 결과 항목 사이에 구분자 사용 (세미콜론과 줄바꿈)\n",
    ")\n",
    "\n",
    "# 검색\n",
    "docs = search.invoke(\"로제의 신곡 APT에 대한 반응은?\")\n",
    "\n",
    "# 검색 결과 출력\n",
    "print(docs)"
   ]
  },
  {
   "cell_type": "code",
   "execution_count": 33,
   "metadata": {},
   "outputs": [
    {
     "name": "stderr",
     "output_type": "stream",
     "text": [
      "/home/haiqv/conda/envs/agent-llm/lib/python3.11/site-packages/langchain_community/utilities/duckduckgo_search.py:63: RuntimeWarning: This package (`duckduckgo_search`) has been renamed to `ddgs`! Use `pip install ddgs` instead.\n",
      "  with DDGS() as ddgs:\n"
     ]
    },
    {
     "data": {
      "text/plain": [
       "'snippet: 블루 쉐도우 색상의 갤럭시 Z 폴드7을 펼친 상태에서 메인 화면을 클로즈업한 모습입니다. 비스듬히 떠 있는 듯한 디자인으로 휴대폰의 매우 얇은 모서리를 보여줍니다., title: 스마트폰 | Samsung 대한민국, link: https://www.samsung.com/sec/smartphones/?msockid=05857eefc74961fe2dcf68a6c63d6053;\\nsnippet: 2009년 4월 삼성 갤럭시 (GT-I7500)를 출시하면서 삼성 갤럭시 시리즈가 시작되었고, 이후 갤럭시 스피카 (GT-I5700), 갤럭시 빔 (2010) (GT-I8520) 등의 모델을 출시하면서 갤럭시 시리즈 …, title: 삼성 갤럭시 - 나무위키, link: https://namu.wiki/w/삼성+갤럭시;\\nsnippet: Jun 9, 2025 · 2025년 갤럭시 S25 울트라부터 가성비 A시리즈까지! 최신 갤럭시 핸드폰 종류별 가격 비교, 할인 정보, 사용자별 맞춤 추천까지 한번에 확인하세요., title: 2025년 최신 갤럭시 핸드폰 종류, 가격 비교 및 추천 가이드, link: https://www.ajd.co.kr/contents/basic-tip/detail/2025년_최신_갤럭시_핸드폰_종류,_가격_비교_및_추천_가이드-63157;\\nsnippet: Jul 17, 2025 · 추가로 삼성 갤럭시 스마트폰은 기능적인 사용에 맞는 폴더블 디스플레이 스마트폰 및 S 펜 활용 제품 및 고급화로 다른 스마트폰과 차별점을 두고 있는 브랜드다.삼성전자의 …, title: 삼성 갤럭시 스마트폰 종류 정리 [ Z 폴드 플립 7 / S 25 엣지 ..., link: https://techwave.tistory.com/entry/Samsung-Galaxy-Smartphone-Types'"
      ]
     },
     "execution_count": 33,
     "metadata": {},
     "output_type": "execute_result"
    }
   ],
   "source": [
    "# 특정 웹 사이트에서 검색하기\n",
    "docs = search.invoke(\"site:ytn.co.kr 갤럭시 폴드7 에 대한 반응은?\")\n",
    "docs"
   ]
  },
  {
   "cell_type": "code",
   "execution_count": 34,
   "metadata": {},
   "outputs": [
    {
     "name": "stdout",
     "output_type": "stream",
     "text": [
      "snippet: 블루 쉐도우 색상의 갤럭시 Z 폴드7을 펼친 상태에서 메인 화면을 클로즈업한 모습입니다. 비스듬히 떠 있는 듯한 디자인으로 휴대폰의 매우 얇은 모서리를 보여줍니다., title: 스마트폰 | Samsung 대한민국, link: https://www.samsung.com/sec/smartphones/?msockid=05857eefc74961fe2dcf68a6c63d6053\n",
      "snippet: 2009년 4월 삼성 갤럭시 (GT-I7500)를 출시하면서 삼성 갤럭시 시리즈가 시작되었고, 이후 갤럭시 스피카 (GT-I5700), 갤럭시 빔 (2010) (GT-I8520) 등의 모델을 출시하면서 갤럭시 시리즈 …, title: 삼성 갤럭시 - 나무위키, link: https://namu.wiki/w/삼성+갤럭시\n",
      "snippet: Jun 9, 2025 · 2025년 갤럭시 S25 울트라부터 가성비 A시리즈까지! 최신 갤럭시 핸드폰 종류별 가격 비교, 할인 정보, 사용자별 맞춤 추천까지 한번에 확인하세요., title: 2025년 최신 갤럭시 핸드폰 종류, 가격 비교 및 추천 가이드, link: https://www.ajd.co.kr/contents/basic-tip/detail/2025년_최신_갤럭시_핸드폰_종류,_가격_비교_및_추천_가이드-63157\n",
      "snippet: Jul 17, 2025 · 추가로 삼성 갤럭시 스마트폰은 기능적인 사용에 맞는 폴더블 디스플레이 스마트폰 및 S 펜 활용 제품 및 고급화로 다른 스마트폰과 차별점을 두고 있는 브랜드다.삼성전자의 …, title: 삼성 갤럭시 스마트폰 종류 정리 [ Z 폴드 플립 7 / S 25 엣지 ..., link: https://techwave.tistory.com/entry/Samsung-Galaxy-Smartphone-Types\n",
      "['https://www.samsung.com/sec/smartphones/?msockid=05857eefc74961fe2dcf68a6c63d6053', 'https://namu.wiki/w/삼성+갤럭시', 'https://www.ajd.co.kr/contents/basic-tip/detail/2025년_최신_갤럭시_핸드폰_종류,_가격_비교_및_추천_가이드-63157', 'https://techwave.tistory.com/entry/Samsung-Galaxy-Smartphone-Types']\n"
     ]
    }
   ],
   "source": [
    "# 링크 확인하기\n",
    "\n",
    "# 검색 결과의 링크들을 저장할 빈 리스트 초기화\n",
    "links = []\n",
    "\n",
    "# 검색 결과를 세미콜론과 줄바꿈 기준으로 분리하고, 각 결과 항목에서 링크를 추출\n",
    "for doc in docs.split(\";\\n\"):\n",
    "    print(doc)  # 각 검색 결과 항목을 출력하여 확인\n",
    "    link = doc.split(\"link:\")[1].strip()  # 각 항목에서 'link:' 이후의 URL 부분만 추출\n",
    "    links.append(link)  # 추출한 링크를 리스트에 추가\n",
    "\n",
    "# 모든 링크를 출력\n",
    "print(links)"
   ]
  },
  {
   "cell_type": "code",
   "execution_count": 35,
   "metadata": {},
   "outputs": [
    {
     "name": "stderr",
     "output_type": "stream",
     "text": [
      "USER_AGENT environment variable not set, consider setting it to identify your requests.\n",
      "Fetching pages: 100%|##########| 4/4 [00:00<00:00,  8.69it/s]\n"
     ]
    },
    {
     "name": "stdout",
     "output_type": "stream",
     "text": [
      "page_content='스마트폰 | Samsung 대한민국본문 바로가기일주일 그만보기닫기갤럭시 AI 폰구매 고객님께 드리는스마트태그2를 지금 신청하세요!(대상 모델 : S24 시리즈, S23 FE, Z Fold5 | Z Flip5, S23 시리즈)신청하기갤럭시 캠퍼스 회원이시네요! 리뉴얼 이벤트와오리지널 콘텐츠, 더 풍성해진 커뮤니티까지!새로워진 갤럭시 캠퍼스를 만나보세요갤럭시 캠퍼스로 이동하기갤럭시 Z 폴드7기획전기획전모바일모바일TV/영상∙음향TV/영상∙음향주방가전주방가전리빙가전리빙가전PC/주변기기PC/주변기기웨어러블웨어러블소모품/액세서리소모품/액세서리AI 구독클럽AI 구독클럽혜택/추천 더 알아보기삼성닷컴에서 더 많은 혜택을삼성닷컴 앱 다운로드스마트싱스삼성케어플러스 모바일/PC삼성케어플러스 가전/TVAI for All갤럭시 캠퍼스갤럭시와 함께하는 AI 클래스고객지원고객지원비즈니스사업자몰삼성스토어삼성스토어지속가능경영주문/배송조회멤버십나의 제품 관리쿠폰존삼성닷컴 회원 혜택참여형 이벤트갤럭시 Z 폴드7뒤로가기홈으로 가기검색버튼장바구니 버튼유저 메뉴버튼메뉴전체삭제검색 하기검색창 닫기검색결과가 없습니다.다른 검색어 or 인기 검색어를 확인해보세요!최근 본 제품최근 본 제품 닫기검색 결과0개전체삭제※ 최근 본 제품은 30일간 보관됩니다.모바일이전갤럭시 스마트폰갤럭시 탭갤럭시 북갤럭시 워치갤럭시 버즈갤럭시 링갤럭시 액세서리다음갤럭시 Z대화면과 폴더블로확장되는 AI 경험갤럭시 S강력한 칩셋과 카메라,진화된 맞춤형 AI 경험갤럭시 A멀티 카메라와고성능 배터리비교하기나에게 딱 맞는갤럭시를 찾아보세요액세서리함께 쓰면 더 좋은스마트폰 액세서리전체 스마트폰스마트폰모두 보기갤럭시 Z 폴드7, 울트라를 펼치다더 알아보기구매하기블루 쉐도우 색상의 갤럭시 Z 폴드7을 펼친 상태에서 메인 화면을 클로즈업한 모습입니다. 비스듬히 떠 있는 듯한 디자인으로 휴대폰의 매우 얇은 모서리를 보여줍니다. Galaxy AI 로고가 함께 표시되어 있습니다.진정한 AI 폰,삼성닷컴 | 삼성 강남 전용 컬러를 만나보세요더 알아보기구매하기티타늄 실버블루 색상의 갤럭시 S25 Ultra 2대가 서로 교차된 모습입니다. 하나는 뒷면을, 다른 하나는 앞면 방향으로 놓여 있습니다. 앞면이 나타난 갤럭시 S25 Ultra의 화면에 'Get today's highlight.' 라는 Now Brief 알림이 표시되어 있습니다. 뒷면이 드러난 S25 Ultra 옆으로 S펜이 놓여 있습니다. Galaxy AI 로고가 함께 있습니다.이전 슬라이드다음 슬라이드자동재생 일시정지새로운 갤럭시갤럭시 Z 폴드7삼성닷컴/삼성 강남 전용컬러구매하기갤럭시 Z 플립7삼성닷컴/삼성 강남 전용컬러구매하기갤럭시 S25 | S25+삼성닷컴/삼성 강남 전용컬러구매하기갤럭시 S25 울트라삼성닷컴/삼성 강남 전용컬러구매하기갤럭시 S25 엣지삼성닷컴/삼성 강남 전용컬러구매하기또 다른 미래를 펼쳐보다또 다른 미래를 펼쳐보다더 알아보기제품 모두 보기Galaxy SGalaxy S진정한 AI폰을 만나다진정한 AI폰을 만나다더 알아보기제품 모두 보기Galaxy AGalaxy A놀라운 일상을 즐기다놀라운 일상을 즐기다제품 모두 보기함께하면 더 강력한갤럭시함께하면 더 강력한갤럭시더 알아보기제품 모두 보기갤럭시 간편보상 프로그램갤럭시 간편보상 프로그램중고폰 반납하고 갤럭시 S25 시리즈로 갈아타기중고폰 반납하고 갤럭시 S25 시리즈로 갈아타기더 알아보기삼성 제품은 역시삼성닷컴에서.삼성 제품은 역시삼성닷컴에서.프리미엄 서비스로 최상의 혜택을 누리세요프리미엄 서비스로 최상의 혜택을 누리세요자세히 보기*이해를 돕기 위해 연출된 이미지입니다. 특정 Galaxy AI 기능을 사용하려면 삼성 계정 로그인이 필요할 수 있습니다. 실제 UX/UI는 다를 수 있습니다.*삼성닷컴/삼성 강남 전용컬러 제품은 오직 삼성닷컴과 삼성 강남에서만 구매할 수 있습니다.*이해를 돕기 위해 연출된 이미지입니다. 워치 화면은 충전 중일 때만 회전합니다. 색상, 크기, 모델 및 워치 밴드의 사용 가능 여부는 국가 또는 통신사에 따라 다를 수 있습니다. 워치 본품과 트레일 밴드는 별도 판매입니다. 에너지 점수는 Android 10 이상의 스마트폰이 필요하며, 삼성 헬스 앱 6.27 버전 이상이 필요합니다. 삼성 계정에 로그인이 되어 있어야 합니다.*갤럭시 워치4 시리즈 및 그 이후 출시된 갤럭시 워치 시리즈 또는 갤럭시 링을 최소 1회 이상 사용해야 합니다. 서비스의 사용 가능 여부는 국가 또는 지역에 따라 다를 수 있습니다. 의학적 상태 또는 질병의 감지, 진단, 치료에 사용하도록 제작되지 않았습니다. 측정된 값은 개인 참조용입니다. 자세한 사항은 의료 전문가의 상담이 필요합니다.확인확인취소확인팝업닫기취소확인확인페이지 링크제품갤럭시 스마트폰갤럭시 탭갤럭시 워치갤럭시 버즈갤럭시 북모니터프린터메모리/스토리지TV라이프스타일 TV프로젝터삼성 오디오하만 오디오냉장고김치냉장고인덕션식기세척기세탁기건조기에어드레서에어컨시스템 에어컨공기청정기청소기스마트싱스소모품/액세서리데이코기획전/혜택기획전 전체 보기AI 구독클럽아울렛스토어 진열 할인 제품e식품관펫 케어 스토어홈클래스삼닷 Live갤럭시와 함께하는 AI 클래스닷컴 회원 혜택카드 혜택비즈니스갤럭시 캠퍼스고객서비스매뉴얼 & 다운로드삼성닷컴 FAQ삼성스토어삼성스토어 찾기서비스센터 찾기삼성케어플러스 모바일/PC삼성케어플러스 가전/TV오늘보장&시간 맞춤 설치 서비스삼성전자 멤버십비즈니스 협력제안삼성멤버스 커뮤니티E-카탈로그삼성닷컴 경험조사지속가능경영환경보안 & 개인정보 보호접근성다양성 · 형평성 · 포용성사회공헌Corporate Sustainability윤리&준법경영경영원칙부정제보법위반제보회사소개기업정보사업정보브랜드 아이덴티티채용투자자 정보뉴스룸윤리디자인 삼성배당조회공지사항부가정보협력회사 고충 건의폐카트리지 회수신청삼성전자 주식회사 대표이사 : 전영현사업자등록번호 : 124-81-00998사업자 정보확인통신판매업 신고 : 2000-경기수원-0515사업장주소 : 경기도 수원시 영통구 삼성로 129(매탄동)호스팅서비스사업자 : 한국아이비엠(주)대표번호 : 02-2255-0114제품/서비스/멤버십: 1588-3366(통화요금 : 발신자부담)삼성닷컴 구매문의 : 1588-6084#Samsung Experience 문의 : 1811-9228본 사이트에서 판매되는 상품 중에는 등록된 개별 판매자가 판매하는 상품이 포함되어 있습니다.개별 판매자 판매 상품의 경우 삼성전자(주)는 통신판매중개업자로서 통신판매의 당사자가 아니므로, 개별 판매자가 등록한 상품, 거래정보 및 거래 등에 대해 책임을 지지 않습니다.소비자분쟁해결기준본 사이트의 컨텐츠는 저작권법의 보호를 받는 바  무단 전재, 복사, 배포 등을 금합니다.Copyright © 1995-2025 Samsung. All Rights Reserved.Korean Stasndars Association 2024 디지털고객경험지수ccm 소비자 중심 공정거래 위원회웹접근성 우수사이트개인정보보호 우수사이트한국/한국어이메일 무단 수집거부아이디어 정책사이트맵이용약관하위 메뉴 있음삼성전자 대표사이트 이용약관삼성전자멤버십 이용약관Samsung 서비스 이용약관개인정보처리방침하위 메뉴 있음삼성닷컴 개인정보처리방침삼성닷컴 이벤트 개인정보처리방침삼성전자멤버십 개인정보처리방침경력채용 개인정보처리방침삼성케어서비스 개인정보처리방침영상정보처리기기 운영관리 방침삼성전자의 다양한 소식을 만나보세요!facebookyoutubeinstagram카카오톡 플러스친구트위터공유하기 툴팁보기(툴팁 열림)공유링크복사카카오톡페이스북툴팁 닫기팝업보기이메일 무단 수집거부본 웹사이트는 게시된 이메일 주소가 전자우편 수집 프로그램이나 그 밖의 기술적 장치를 이용하여 무단 수집되는 것을 거부합니다.이를 위반 시 『정보통신망 이용 촉진 및 정보보호 등에 관한 법률』등에 의해 처벌받을 수 있습니다.팝업닫기아이디어 제안에 대한 정책삼성전자 및 삼성전자 임직원은 당사가 공식적으로 요청하지 않았음에도 불구하고 여러분께서 일방적으로 당사에 제출하는 아이디어나 제안 등을 수령하거나 검토하지 않습니다.이는 제출하신 내용이 당사 내부적으로 개발한 제품, 기술, 서비스와 유사할 경우 발생할 수 있는 오해와 분쟁을 방지하고 나아가 여러분의 창의적인 아이디어를 적극 보호하기 위함입니다.이러한 취지를 이해하여 주시고 구체화되지 않은 아이디어나 콘셉트(Concept) 단계의 제안이 당사에 제출되지 않도록 하여 주시기 바랍니다.팝업닫기' metadata={'source': 'https://www.samsung.com/sec/smartphones/?msockid=05857eefc74961fe2dcf68a6c63d6053', 'title': '스마트폰 | Samsung 대한민국', 'description': '삼성 스마트폰에 대한 모든 궁금증을 해결하세요. 디자인과 기능, 사용 방법 등을 한눈에 비교하고 확인할 수 있어 제품 선택이 한결 쉬워집니다.', 'language': 'ko'}\n",
      "--------------\n",
      "page_content='삼성+갤럭시 - 나무위키최근 변경최근 토론특수 기능삼성+갤럭시편집편집IP 우회 수단(프록시 서버, VPN, Tor 등)이나 IDC 대역 IP로 접속하셨습니다. (#'30221697')(VPN이나 iCloud의 비공개 릴레이를 사용 중인 경우 나타날 수 있습니다.)잘못된 IDC 대역 차단이라고 생각하시는 경우게시판에 문의하시길 바랍니다.닫기토론역사해당 문서를 찾을 수 없습니다.[새 문서 만들기]더 보기namu.wikiContáctenosTérminos de usoOperado por umanle S.R.L.Hecho con ❤️ en Asunción, República del ParaguaySu zona horaria esGMTImpulsado por the seed engineThis site is protected by reCAPTCHA and the GooglePrivacy PolicyandTerms of Serviceapply. This site is protected by hCaptcha and itsPrivacy PolicyandTerms of Serviceapply.' metadata={'source': 'https://namu.wiki/w/삼성+갤럭시', 'title': '삼성+갤럭시 - 나무위키', 'language': 'ko'}\n",
      "--------------\n",
      "page_content='2025년 최신 갤럭시 핸드폰 종류, 가격 비교 및 추천 가이드1초만에 가입하고, 최대 지원금128만원받기오직 아정당에서 가입하면최대 지원금 128만원!생활솔루션 필요할 땐?아정당 가입하세요!마이페이지질문/답변꿀팁게시판후기이벤트불편접수로그인/회원가입인터넷가전렌탈휴대폰카드이사청소부동산인테리어매장패키지사업자인터넷가전렌탈휴대폰이사청소카드부동산인테리어매장패키지게시판후기질문/답변꿀팁게시판이벤트불편접수공지사항아정당 200% 활용하기아정백서꿀팁게시판휴대폰2025년 최신 갤럭시 핸드폰 종류, 가격 비교 및 추천 가이드URL 복사스크랩아정당2025.06.09조회5,029스크랩0댓글02025년 갤럭시 핸드폰 한눈에 보기갤럭시 핸드폰 종류갤럭시 S시리즈갤럭시 Z시리즈갤럭시 A시리즈2025년은 갤럭시 스마트폰이 AI 기능 발전과새로운 전환점을 맞이 했습니다.삼성전자가 올해 선보인 갤럭시 핸드폰은전례 없는 성능 향상과 가격이 동결됐어요.목차1. 2025년 갤럭시 핸드폰 가격2. 모델별 상세 스펙 비교3. 휴대폰 저렴하게 사용하는 방법▼갤럭시 S시리즈 최신 영상도 확인해보세요1. 2025년 갤럭시 핸드폰 가격2025년 갤럭시 핸드폰 가격✔갤럭시 S25 시리즈 가격모델256GB512GB1TB갤럭시 S25약 115만 원약 131만 원X갤럭시 S25+약 135만 원약 151만 원X갤럭시 S25 Ultra약 169만 원약 184만 원약 217만원갤럭시 S25 엣지약 150만 원약 164만 원X✔갤럭시 Z 시리즈 가격 (2024년 출시 기준)모델256GB512GB1TB갤럭시 Z 플립6약 148만원약 164만원X갤럭시 Z 폴드6약 222만원약 238만원약 270만원✔갤럭시 A 시리즈 예상 가격모델128GB256GB갤럭시 A16 5G약 30만원약 35만원갤럭시 A26 5G약 40만원약 45만원갤럭시 A36 5G약 50만원약 55만원갤럭시 A56 5G약 60만원약 65만원2. 모델별 상세 스펙 비교갤럭시 S25 시리즈✔ 갤럭시 S25 시리즈 스펙사양S25S25+S25 Ultra화면6.2인치 FHD+6.7인치 QHD+6.9인치 QHD+프로세서스냅드래곤 8 엘리트스냅드래곤 8 엘리트스냅드래곤 8 엘리트메모리12GB12GB12GB/16GB저장공간256/512GB256/512GB256GB/512GB/1TB후면카메라50MP+12MP+10MP50MP+12MP+10MP200MP+50MP+10MP+50MP전면카메라12MP12MP12MP배터리4,000mAh4,900mAh5,000mAh무게162g190g218g두께7.2mm7.3mm8.2mm모든 모델에 스냅드래곤 8 엘리트 칩셋 탑재기본형/플러스 모델도 울트라와 동일한 최상급 성능CPU 45%, GPU 48%, NPU 68% 성능 향상갤럭시 Z 시리즈✔ 갤럭시 Z 시리즈 스펙사양Z 플립6Z 폴드6메인 화면6.7인치 FHD+7.6인치 QXGA+커버 화면3.4인치6.3인치 HD+프로세서스냅드래곤 8 Gen 3스냅드래곤 8 Gen 3메모리12GB12GB저장공간256GB/512GB256GB/512GB/1TB후면카메라50MP+12MP50MP+10MP+12MP전면카메라10MP4MP(언더디스플레이)커버카메라-10MP배터리4,000mAh4,400mAh무게187g239g접었을 때 두께14.9mm12.1mm펼쳤을 때 두께6.9mm5.6mm방수등급IPX8IPX8외부 디스플레이로 메인 카메라 셀피 활용50MP 메인 카메라 업그레이드독특한 각도 촬영 가능플렉스 모드 활용한 창의적 촬영갤럭시 A 시리즈✔ 갤럭시 A 시리즈모델화면프로세서메모리카메라배터리A16 5G6.7인치 FHD+Helio G994/6GB50MP+5MP+2MP5,000mAhA26 5G6.6인치 FHD+Helio G996/8GB50MP+8MP+2MP5,000mAhA36 5G6.6인치 FHD+스냅드래곤 7s Gen 26/8GB50MP+8MP+5MP5,000mAhA56 5G6.7인치 FHD+엑시노스 15808GB50MP+12MP+5MP5,000mAh40-50만원대 합리적인 가격5,000mAh 대용량 배터리삼성페이 및 방수방진 지원6년 OS 업데이트 제공💡사용자별 갤럭시 추천 요약일반 사용자 & 성능 중시➔ 갤럭시 S시리즈가성비 중시 사용자➔ 갤럭시 A시리즈카메라 중시 사용자➔ 갤럭시 S25 Ultra3. 휴대폰 저렴하게 사용하는 방법1. 공시지원금 vs 선택약정 비교공시지원금선택약정할인기기 값 할인매월 25% 요금할인특징휴대폰기종, 요금제, 통신사 별할인 금액 다름정해진 기간 동안 할인 적용추천최신 기기가 필요없다한번 사면 오래 쓴다초기 비용을 아끼고 싶다휴대폰을 1년 주기로 바꾼다고가 요금제가 필요하다공시지원금 헤택이 적다통신사를 통해 개통하면성지보다 비싸지만 안전한 방법입니다.대리점을 방문홈페이지에서 구매공시지원금 or 선택약정으로 할인 받으면 돼요.Q. 무조건 선택약정이 유리한가요?A. 아닙니다. 단말기, 요금제, 통신사에 따라 달라져요!➔ 선택약정, 공시지원금 자세히 정리!2. 자급제+알뜰 요금제 사용알뜰 요금제를 사용한다면‘자급제’가 이득입니다.자급제+알뜰 요금제 사용시 2년 기준최대 50만원 이상절약이 가능합니다.알뜰 프로모션 요금제 만료 시 마다 갈아타기를 하면더 저렴하게 이용이 가능해요.하지만 알뜰 통신사가 너무 많아 모든 프로모션을개인이 파악하는데 한계가 있습니다.2.매장지원금 주는 판매점 찾기매장지원금 지급 구조휴대폰을 판매하면 통신사로수당을 받는데요.판매점에서 이 수당을 고객에게돌려주는 것을'매장지원금'이라 합니다.매장지원금을 주는 곳은평균 10곳 중 3곳도 안되는데요.준다 해도 휴지, 케이스, 필름 등다른 상품으로 지급합니다.지원금 범위가 고정되어 있지 않아매장마다 지급하는 금액이 다르죠.이를 악용하는 업체도 있어주의해야 합니다.※주의사항월 가입자 수가 많은지부가서비스 등 의무가입 조건이 없는지요금 업세일링 여부확인 후 가입을 권장합니다.잠깐!휴대폰 구매 시 최대 50만 원 전환 지원금+@받고 계신가요?아직도 모른다면 딱10초만읽어보세요.﻿본사가 절대 알려주지 않는 휴대폰 꿀팁📌아이폰 17 출시일과 디자인 루머 및 모델별 성능갤럭시 A55, 스펙 비교 총정리 (가격 무게 성능)폴드 SE vs 폴드6 가격 스펙 비교 및 구매25년 통신사 최신정보, 놓치면 못 받는 혜택📢아이폰 공시지원금 vs 선택약정 어떤게 더 좋을까?뽐뿌 휴대폰, 시세만 믿고 구매하면 호갱 됩니다.휴대폰 싸게 사는법, 대리점 망할 수도 있어요갤럭시 핸드폰에 대해 알아봤습니다!더 궁금하신 사항이 있다면부담없이 아정당으로 문의주세요!아정당은 365일 24시간 열려있답니다🤗목록으로갤럭시 핸드폰, 갤럭시 핸드폰 종류, 갤럭시 핸드폰 가격댓글0관심글 댓글 알림비회원(로그인필요)비밀 댓글등록꿀팁게시판더보기SKT 유심 해킹? 피해 문제점부터 대처법 총정리! (유심보호서비스)1,88900갤럭시 S25 가격 동결! 성능은 오르고 가격은 그대로?103,23320아이폰17 출시일은 언제? 에어·프로맥스 디자인과 가격, 사전예약 혜택 총정리142,99901Item 1 of 3회사소개공지사항이벤트사은품 지급 명단(주) 아정네트웍스사이트명아정당대표자김민기사업자등록번호329-88-02173통신판매업제2021-부산북구-0914호대표번호1833-3504팩스02-6944-8126주소부산광역시 북구 금곡대로8번길 33, 아남프라자 3층개인정보 책임관리자김환수 (zeus@ajd.co.kr)광고제휴문의contact@ajd.co.krCS 고객센터help@ajd.co.kr(주)아정네트웍스는 통신판매중개자이며 통신판매의 당사자가 아닙니다. 상품, 상품정보, 거래에 관한 의무와 책임은 거래당사자에게 있습니다.개인정보처리방침서비스 이용약관마케팅 정보수신 동의이메일 무단수집 거부Copyright (주)아정네트웍스 2024-2025 All rights reserved.이동통신서비스 판매점사전승낙 판매점이동통신서비스 판매점사전승낙 판매점이동통신서비스 판매점사전승낙 판매점한국 브랜드선호도 1위서비스 2년 연속 1위상담하기비밀 혜택 3초 안내실시간 카톡상담가입하기셀프 바로가입나에게 맞는 상품 찾기아정당은 365일24시간 상담OK1833-3504아정당은 365일 24시간 상담OK가입하기셀프 바로가입상담하기비밀 혜택 3초 안내실시간 카톡 상담전화상담' metadata={'source': 'https://www.ajd.co.kr/contents/basic-tip/detail/2025년_최신_갤럭시_핸드폰_종류,_가격_비교_및_추천_가이드-63157', 'title': '2025년 최신 갤럭시 핸드폰 종류, 가격 비교 및 추천 가이드', 'description': '2025년 갤럭시 S25 울트라부터 가성비 A시리즈까지! 최신 갤럭시 핸드폰 종류별 가격 비교, 할인 정보, 사용자별 맞춤 추천까지 한번에 확인하세요. 아정당 꿀팁으로 똑똑하게 갤럭시 구매하기.', 'language': 'ko'}\n",
      "--------------\n",
      "page_content='삼성 갤럭시 스마트폰 종류 정리 [ Z 폴드 플립 7 / S 25 엣지 플러스 울트라 / A 16 36 ]본문 바로가기테크웨이브블로그 내 검색검색관리글쓰기로그인로그아웃메뉴홈태그방명록제품 종류삼성 갤럭시 스마트폰 종류 정리 [ Z 폴드 플립 7 / S 25 엣지 플러스 울트라 / A 16 36 ]by TechWave2025. 7. 17.반응형현재 스마트폰 시장 점유율은 삼성 갤럭시와 애플 아이폰이 가장 높다.​애플이 독자적인 OS 사용 및 자체 설계 칩셋 TSMC 위탁 생산 등으로 차별화된 모델을 내놓는 반면, 삼성의 경우 오픈 소스 기반의 안드로이드 운영체제를 사용해 차별화는 적으나 높은 호환성을 가지며, 칩셋은 아직 기술 격차가 있어 최상급기에는 퀄컴에서 TSMC 위탁 생산하는 스냅드래곤 AP를 쓰나 독자 설계 후 자사 파운드리에서 생산하는 엑시노스 칩셋도 활용하고 있다.​추가로 삼성 갤럭시 스마트폰은 기능적인 사용에 맞는 폴더블 디스플레이 스마트폰 및 S 펜 활용 제품 및 고급화로 다른 스마트폰과 차별점을 두고 있는 브랜드다.삼성전자의 스마트폰은 크게 폴더블 디스플레이의Z 시리즈, 주력 모델인S 시리즈, 보급형 모델인A 시리즈로 나뉜다. 이외에 해외 판매되는 모델과 단종 모델들이 있지만, 국내에서 삼성 스마트폰 구매 시에는 3가지만 알면 된다.​삼성 갤럭시 Z 시리즈대형소형연도갤럭시 Z 폴드 7갤럭시 Z 플립 7갤럭시 Z 플립 7 FE2025갤럭시 Z 폴드 6갤럭시 폴드 SE갤럭시 Z 플립 62024갤럭시 Z 폴드 5갤럭시 Z 플립 52023갤럭시 Z 폴드 4갤럭시 Z 플립 42022갤럭시 Z 폴드 3갤럭시 Z 플립 32021갤럭시 Z 폴드 2갤럭시 Z 플립플립 5G2020갤럭시 폴드X2019SE : 스페셜 에디션, 특별판FE : 팬 에디션, 보급형접히는 화면, 폴더블 디스플레이를 적용한 스마트폰 시리즈.​갤럭시 Z 폴드 제품은 접은 상태에서는 일반 휴대폰, 펼치면 태블릿 정도의 크기가 되는 대화면 제품이고, 갤럭시 Z 플립 제품인 펼친 상태에서 일반 휴대폰, 접으면 반으로 줄어드는 소형 모델이다.​기능적으로 폴드는 큰 화면의 기기를 반으로 접어서 휴대할 수 있는 강점을 가지고, 플립은 더 작은 사이즈로 휴대 및 반쯤 접은 상태로 거치해 거치대 없이 타이머로 사진을 찍는 등의 사용성을 가진다.쿠팡 갤럭시 Z폴드7 플립7 플립7Fe 사전예약 구매 혜택 (~7.21)2025 쿠팡 갤럭시 Z 시리즈 사전구매 쿠팡 갤럭시 Z 신제품 사전 예약 구매쿠팡에서 7월 15일 부터 21일까지 사전 구매 이벤트를 진행한다. 이번에 신규 발매한 갤럭시 Z 신제품인 폴드 7과 플립7, 그techwave.tistory.com삼성 스마트폰 갤럭시 Z 시리즈 종류 정리 [ 폴드7 6 / 플립7 6 / 7FE ]삼성 갤럭시 Z 시리즈 종류 2019년 2월 20일 대화면 폴더블 디스플레이의 갤럭시 폴드 발표를 시작으로, ...blog.naver.com삼성 갤럭시 S 시리즈기본형 / 보급형대화면기능성 대화면S25S25+/S25 EdgeS25 UltraS24/S24 FES24+S24 UltraS23 / S23 FES23+S23 UltraS22 / S22 FES22+S22 UltraS21 / S21 FES21+S21 UltraS20 / S20 FES20+S20 UltraS10 / S10 LiteS10+S10 5GFE : 팬 에디션, 보급형 6.1~6.2인치+ : 플러스, 6.6~6.7인치 대화면Edge : 엣지, 매우 얇은 두께Ultra : 울트라, 6.8~6.9인치 고성능삼성의 주력 스마트폰 시리즈.​2020년부터 제품 넘버링이 바뀌면서, 숫자가 곧 발매 연도를 의미한다. 즉 S25는 2025년형. 또한 갤럭시 울트라 시리즈는 기존 갤럭시 노트를 대체했으며, S21 Ultra 부터 S펜을 지원한다.​기본 S 제품 또는 + 제품은 크기 차이이므로 취향에 따라 선택하면 되고, 울트라 제품은 S펜을 활용할 수 있으며 성능이 소폭 강화된다. FE의 경우 일반 제품에서 일부 부품을 바꾸거나, 이전 폼팩터를 활용하는 등으로 가격을 낮춘 제품.​삼성 갤럭시 A 시리즈연도기기명칭2025A16/ A26 /A36/ A562024A15 / A25 / A35 / A552023A14 / A24 / A342022A13 / A23 / A33 / A532021A02 / A22 / A32 / A42 / A52 / A72 / A52s2020A11 / A31 / A51 / A712019A20 / A30 / A50 / A70 / A80 / A90A20s / A30s / A50s / A70s2018A7 / A8 / A8+ / A9삼성의 보급형 스마트폰 시리즈.​2019년 부터 10의 자리 숫자가 등급, 1의 자리 숫자가 발매 시기로 보면 된다. 4G까지 지원하는 모델은 LTE, 5G까지 지원하는 모델은 5G 명칭이 붙는다.​라인업별 일관적인 차이가 있지는 않고, 칩셋 성능, 화면 해상도, 카메라, 충전 속도, 외관 소재 등에 등급별로 약간씩 차이가 존재한다.​그 외A 시리즈 보다 더 저렴한 M 시리즈가 있으나 해외 시장 판매로 돌렸고, 이 외 개발 도상국용, 중국 용 제품으로 다른 시리즈도 있으며, 각 통신사 별로 갤럭시 A / M 시리즈를 기반으로 리네이밍한 버디 / 점프 / 와이드 등의 제품이 있다. 따라서 전체로 보면 보급형 라인업은 더 복잡한 편이므로 A 시리즈만 알아두자.​기기별 칩셋 성능칩셋 명칭삼성 갤럭시 스마트폰AnTuTu 점수스냅드래곤 8 엘리트 Gen4갤럭시 Z 폴드 7갤럭시 S25 울트라갤럭시 S25 엣지갤럭시 S25+갤럭시 S252742717엑시노스 2500갤럭시 Z 플립 72213797스냅드래곤 8 Gen3갤럭시 S24 울트라갤럭시 Z 폴드 6갤럭시 Z 플립 62087940엑시노스 2400갤럭시 Z 플립 7 FE갤럭시 S24갤럭시 S24+갤럭시 S24 FE1777263스냅드래곤 6 Gen3갤럭시 A36625622엑시노스 1380갤럭시 A35593369Helio G99갤럭시 A16갤럭시 A15416194주요 스마트폰 순위 [ AP 벤치마크 ]스마트폰의 성능은 AP라고 불리는 칩셋이 좌우한다. AP는 이는 컴퓨터로 보면 CPU + GPU + 메모리 + SSD 등이 하나의 칩에 모두 모여있는 SoC(시스템 온 칩) 구조로 되어있는데, 이는 컴퓨터에 비해 협techwave.tistory.com각 기기에 내장된 AP 칩셋에 따른 성능은 위와 같다. AnTuTu 벤치 점수로, 칩셋의 CPU 및 GPU 점수를 합산한 점수로, 게임 실행 성능과 연관성이 있다.​점수는 해당 AP 칩셋 장착 제품의 평균이고, 스마트폰 크기가 크고 램 용량이 클수록 성능이 잘 나오므로 범주만 참고하자.쿠팡 갤럭시 Z폴드7 플립7 플립7Fe 사전예약 구매 혜택 (~7.21)2025 쿠팡 갤럭시 Z 시리즈 사전구매 쿠팡 갤럭시 Z 신제품 사전 예약 구매쿠팡에서 7월 15일 부터 21일까지 사전 구매 이벤트를 진행한다. 이번에 신규 발매한 갤럭시 Z 신제품인 폴드 7과 플립7, 그techwave.tistory.com아이폰 시리즈 종류 정리 [ 16 프로 / 프로 맥스 / 플러스 / 16e / SE ]잡스, 워즈니악, 웨인 3명이서 설립한 '애플'은 컴퓨터 제조 회사로 시작해 현재 미국 시가총액 1위의 대기업이 되었고, 그 중심에는 아이폰이 있다. 아이폰의 중심 전략은 유저 경험 차별화 및techwave.tistory.com반응형공유하기게시글 관리테크웨이브'제품 종류' 카테고리의 다른 글아이패드 시리즈 종류 정리 [ 일반 / 미니 / 에어 / 프로 ](0)2025.07.23마이크로소프트 노트북, 서피스 종류 정리 [ MS Surface ](0)2025.07.23노트북 회사 / 브랜드 종류 정리(0)2025.07.17삼성 노트북, 갤럭시북 종류 정리 [ 일반 / 프로 / 울트라 ](0)2025.07.17LG 노트북 종류 정리 [ 그램 프로 360 엣지 / 울트라 PC ](0)2025.07.17태그갤럭시,삼성,종류관련글아이패드 시리즈 종류 정리 [ 일반 / 미니 / 에어 / 프로 ]마이크로소프트 노트북, 서피스 종류 정리 [ MS Surface ]노트북 회사 / 브랜드 종류 정리삼성 노트북, 갤럭시북 종류 정리 [ 일반 / 프로 / 울트라 ]분류 전체보기컴퓨터 가이드데스크탑노트북전자기기제품 종류성능 설명반응형공지사항테스트최근글HP 노트북 종류 정리 [ 스펙터 / 옴니북 / ⋯2025.08.13아이패드 프로 M5 출시일 및 가격, 성능 예측2025.08.11LG 그램 시리즈 종류 정리 [ Gram Pro ⋯2025.08.11레노버 리전 게이밍 노트북 시리즈 [ Legion⋯2025.08.09노트북 추천2025.08.08인기글3가지 방법으로 윈도우 11 설치 USB 만들기2025.08.02주요 데스크탑 그래픽카드 성능 순위2025.08.07AMD 라이젠 데스크탑 CPU 세대별 성능 순위2025.07.23유튜브 프리미엄 우회 방법2025.07.17아이패드 시리즈 종류 정리 [ 일반 / 미니 / ⋯2025.07.23최근댓글창신동 동아완구 스위치 판매안합니다.제 메인폰 6T인데 안투투10기준 142~145만 긱벤⋯7코어 1800Mhz로 7330u와 동일합니다ryzen 5 7430u 내장그래픽은 어느정도 성능인건⋯태그순위갤럭시북램맥북에어마이크로소프트사전예약노트북서피스갤럭시삼성게임사양노트북가이드컴퓨터가이드닌텐도노트북추천그램에어팟에이수스그래픽카드rtx5090ROG윈도우유튜브애플성능순위성능설명워크스테이션아이패드cpu종류전체 방문자1,038,117Today : 576Yesterday : 2,017TOPDesigned by 티스토리© Kakao Corp.티스토리툴바' metadata={'source': 'https://techwave.tistory.com/entry/Samsung-Galaxy-Smartphone-Types', 'title': '삼성 갤럭시 스마트폰 종류 정리 [ Z 폴드 플립 7 / S 25 엣지 플러스 울트라 / A 16 36 ]', 'description': '현재 스마트폰 시장 점유율은 삼성 갤럭시와 애플 아이폰이 가장 높다.\\u200b애플이 독자적인 OS 사용 및 자체 설계 칩셋 TSMC 위탁 생산 등으로 차별화된 모델을 내놓는 반면, 삼성의 경우 오픈 소스 기반의 안드로이드 운영체제를 사용해 차별화는 적으나 높은 호환성을 가지며, 칩셋은 아직 기술 격차가 있어 최상급기에는 퀄컴에서 TSMC 위탁 생산하는 스냅드래곤 AP를 쓰나 독자 설계 후 자사 파운드리에서 생산하는 엑시노스 칩셋도 활용하고 있다.\\u200b추가로 삼성 갤럭시 스마트폰은 기능적인 사용에 맞는 폴더블 디스플레이 스마트폰 및 S 펜 활용 제품 및 고급화로 다른 스마트폰과 차별점을 두고 있는 브랜드다.삼성전자의 스마트폰은 크게 폴더블 디스플레이의 Z 시리즈, 주력 모델인 S 시리즈, 보급형 모델인 A 시리즈로 ..', 'language': 'ko'}\n",
      "--------------\n"
     ]
    }
   ],
   "source": [
    "# 웹 페이지의 내용을 비동기로 읽어 오기\n",
    "# Langchain의 WebBaseLoader를 사용하여 웹 페이지의 내용을 불러옵니다.\n",
    "from langchain_community.document_loaders import WebBaseLoader\n",
    "\n",
    "# WebBaseLoader 객체를 생성. 'links'는 웹 페이지의 URL 목록을 담고 있는 변수\n",
    "# bs_get_text_kwargs는 BeautifulSoup의 get_text() 메소드에 전달될 추가 인자\n",
    "loader = WebBaseLoader(\n",
    "    web_paths=links,  # 웹 페이지의 링크 목록을 지정\n",
    "    bs_get_text_kwargs={\n",
    "        \"strip\": True  # 웹 페이지에서 텍스트를 가져올 때 앞뒤의 공백을 제거\n",
    "    },\n",
    ")\n",
    "\n",
    "# 비동기로 웹 페이지의 내용을 로드하고, 각 문서를 page_contents 리스트에 추가\n",
    "page_contents = []  # 각 웹 페이지의 내용을 저장할 리스트입니다.\n",
    "async for doc in loader.alazy_load():\n",
    "    page_contents.append(doc)  # 불러온 문서를 page_contents 리스트에 추가\n",
    "\n",
    "# page_contents에 있는 각 웹 페이지의 내용을 출력\n",
    "for content in page_contents:\n",
    "    print(content)  # 웹 페이지의 내용을 출력\n",
    "    print('--------------')  # 페이지 구분을 위해 구분선을 출력"
   ]
  },
  {
   "cell_type": "code",
   "execution_count": null,
   "metadata": {},
   "outputs": [],
   "source": []
  }
 ],
 "metadata": {
  "language_info": {
   "name": "python"
  }
 },
 "nbformat": 4,
 "nbformat_minor": 2
}
