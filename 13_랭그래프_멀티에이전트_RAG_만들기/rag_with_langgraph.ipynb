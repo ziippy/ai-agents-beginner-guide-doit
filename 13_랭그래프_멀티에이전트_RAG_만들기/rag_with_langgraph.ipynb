{
 "cells": [
  {
   "cell_type": "markdown",
   "metadata": {},
   "source": [
    "### 랭그래프를 활용한 멀티에이전트 RAG 만들기\n",
    "\n",
    "하나의 AI 에이전트에게 모든 작업을 맡기는 것보다 각각의 AI 에이전트에게 단순한 업무 단위로 명확하게 지시를 내리고 이를 결합한 워크플로를 만들면  \n",
    "마치 각 분야의 전문가들이 협업하는 것처럼 시너지를 낼 수 있다.\n",
    "\n",
    "이런 방식으로 AI 에이전트에게 작업을 분배하고 서로 협력하여 복잡한 작업을 처리하는 시스템을 멀티에이전트라고 한다."
   ]
  },
  {
   "cell_type": "markdown",
   "metadata": {},
   "source": [
    "#### RAG의 한계 개선하기\n",
    "\n",
    "'그렇구나. 잘 찾아왔네. 고마워.' 라고 하거나 '잘 지냈어?' 와 같은 일상적인 질문을 하는 경우에도 만든 RAG는 관련 문서를 찾아와서 답변하므로 시간과 토큰 비용을 낭비한다.\n",
    "\n",
    "랭그래프를 이용하면 사용자의 질문을 분석해서 RAG를 사용할지 말지 판단하고 RAG가 필요한 경우에만 검색을 사용할 수 있다.  \n",
    "RAG를 실행할 때에도 필요하지 않는 청크들은 제외하고 답변을 생성하는 등 다양한 작업을 추가할 수 있다."
   ]
  },
  {
   "cell_type": "markdown",
   "metadata": {},
   "source": [
    "#### PDF 전처리하고 벡터 DB 만들기"
   ]
  },
  {
   "cell_type": "code",
   "execution_count": 2,
   "metadata": {},
   "outputs": [
    {
     "data": {
      "text/plain": [
       "True"
      ]
     },
     "execution_count": 2,
     "metadata": {},
     "output_type": "execute_result"
    }
   ],
   "source": [
    "import os\n",
    "from dotenv import load_dotenv\n",
    "load_dotenv(dotenv_path=\"../.env\")"
   ]
  },
  {
   "cell_type": "code",
   "execution_count": 3,
   "metadata": {},
   "outputs": [
    {
     "name": "stdout",
     "output_type": "stream",
     "text": [
      "./data/2040_seoul_plan.pdf\n",
      "./data/OneNYC-2050-Summary.pdf\n"
     ]
    }
   ],
   "source": [
    "# 랭그래프에 기반한 RAG를 구현해보자\n",
    "from glob import glob \n",
    "for g in glob('./data/*.pdf'):\n",
    "    print(g)"
   ]
  },
  {
   "cell_type": "code",
   "execution_count": 4,
   "metadata": {},
   "outputs": [],
   "source": [
    "# read_pdf_and_split_text 함수 만들기\n",
    "from langchain_community.document_loaders import PyPDFLoader\n",
    "from langchain_text_splitters import RecursiveCharacterTextSplitter\n",
    "\n",
    "def read_pdf_and_split_text(pdf_path, chunk_size=1000, chunk_overlap=100):\n",
    "    \"\"\"\n",
    "    주어진 PDF 파일을 읽고 텍스트를 분할합니다.\n",
    "    매개변수:\n",
    "        pdf_path (str): PDF 파일의 경로.\n",
    "        chunk_size (int, 선택적): 각 텍스트 청크의 크기. 기본값은 1000입니다.\n",
    "        chunk_overlap (int, 선택적): 청크 간의 중첩 크기. 기본값은 100입니다.\n",
    "    반환값:\n",
    "        list: 분할된 텍스트 청크의 리스트.\n",
    "    \"\"\"\n",
    "    print(f\"PDF: {pdf_path} -----------------------------\")\n",
    "\n",
    "    pdf_loader = PyPDFLoader(pdf_path)\n",
    "    data_from_pdf = pdf_loader.load()\n",
    "\n",
    "    text_splitter = RecursiveCharacterTextSplitter(\n",
    "        chunk_size=chunk_size, chunk_overlap=chunk_overlap\n",
    "    )\n",
    "\n",
    "    splits = text_splitter.split_documents(data_from_pdf)\n",
    "    \n",
    "    print(f\"Number of splits: {len(splits)}\\n\")\n",
    "    return splits"
   ]
  },
  {
   "cell_type": "code",
   "execution_count": 5,
   "metadata": {},
   "outputs": [
    {
     "name": "stdout",
     "output_type": "stream",
     "text": [
      "Creating new Chroma store\n",
      "PDF: ./data/2040_seoul_plan.pdf -----------------------------\n",
      "Number of splits: 308\n",
      "\n",
      "PDF: ./data/OneNYC-2050-Summary.pdf -----------------------------\n",
      "Number of splits: 176\n",
      "\n"
     ]
    }
   ],
   "source": [
    "# vectorstore 설정하고 청크 처리하기\n",
    "from langchain_openai import OpenAIEmbeddings\n",
    "from langchain_chroma import Chroma\n",
    "import os\n",
    "\n",
    "##### Vectorstore 설정 #####\n",
    "embedding = OpenAIEmbeddings(model='text-embedding-3-large')\n",
    "\n",
    "persist_directory='./chroma_store'\n",
    "\n",
    "if os.path.exists(persist_directory):\n",
    "    print(\"Loading existing Chroma store\")\n",
    "    vectorstore = Chroma(\n",
    "        persist_directory=persist_directory, \n",
    "        embedding_function=embedding\n",
    "    )\n",
    "else:\n",
    "    print(\"Creating new Chroma store\")\n",
    "    \n",
    "    vectorstore = None\n",
    "    for g in glob('./data/*.pdf'):\n",
    "        chunks = read_pdf_and_split_text(g)\n",
    "        # 100개씩 나눠서 저장\n",
    "        for i in range(0, len(chunks), 100):\n",
    "            if vectorstore is None:\n",
    "                vectorstore = Chroma.from_documents(\n",
    "                    documents=chunks[i:i+100],\n",
    "                    embedding=embedding,\n",
    "                    persist_directory=persist_directory\n",
    "                )\n",
    "            else:\n",
    "                vectorstore.add_documents(\n",
    "                    documents=chunks[i:i+100]\n",
    "                )"
   ]
  },
  {
   "cell_type": "code",
   "execution_count": 7,
   "metadata": {},
   "outputs": [
    {
     "name": "stdout",
     "output_type": "stream",
     "text": [
      "page_content='제4절 기후·환경 부문1. 개요Ÿ기후변화는 21세기에 전 지구적으로 가장 위중한 영향을 미칠 것으로 예상되며, 시민 생활의 모든 측면과 연관되어 있어 향후 서울시의 적극적인 대응이 필요하다.Ÿ탄소중립 목표뿐만 아니라 미세먼지로부터 시민 건강을 지키기 위해서는 건물, 교통, 에너지 등 도시의 주요 인프라 전반의 혁신이 요구되며, 이를 위해 새로운 기술과 혁신적 제도가 필요하다. 제로에너지 건물, 친환경 차량 및 교통 인프라의 확대, 자원·에너지 순환 기반 조성으로 온실가스와 미세먼지 배출량을 획기적으로 감축해야 한다. Ÿ기후변화에 따른 폭염, 풍수해, 도심열섬현상 등 기후재난 및 극한 기후현상이 심해질 것으로 전망되어 보다 능동적인 대비가 필요하다. Ÿ한편, 환경보존과 쾌적한 도시환경을 위해 도심 곳곳 시민 모두가 누릴 수 있는 도심숲과 생활공원 등 녹색공간을 조성하고, 이를 수변 공간과 연계하여 풍부하고 지속가능한 자연환경이 확보될 수 있도록 한다.Ÿ장기적인 측면에서 시민 개개인과 기업 등 다양한 도시 내 행위자의 적극적인 협조가 필수적이며 이를 위해 중앙정부와 서울시 환경계획 담당부서와의 협력적이고 포용적인 거버넌스 체계를 구축하도록 한다.목표 전략3-12050 탄소중립 실현을 위한 도시 인프라 전환3-1-1건물 부문의 탄소배출을 감축하기 위한 친환경 기술 개발 및 적극 적용3-1-2미래 모빌리티 기술 활용과 친환경 수송 차량 및 관련 인프라 확충3-1-3에너지 전환을 위한 청정에너지 기반 구축3-1-4대기 환경을 고려한 공간계획과 배출원 관리체계 강화3-2건강한 순환도시 조성을 위한자립적인 자원순환 체계 구축3-2-1자원순환·관리 자립을 위한 분산형 폐기물처리 시설 구축3-2-2기후 행동 포용적 거버넌스 구축을 위한 시민 행동 활성화3-3사람과 자연의 공존을 위한친환경 생태도시 구축3-3-1건물 에너지 분야 효율성 개선 및 도심 속 생물 다양성 확보3-3-2지속가능한 통합 물순환 체계 구축3-4다양한 수변을 경험할 수 있는수변감성도시 조성3-4-1수변' metadata={'source': './data/2040_seoul_plan.pdf', 'page': 85, 'total_pages': 205, 'creator': 'Hwp 2020 11.0.0.5178', 'pdfversion': '1.4', 'producer': 'Hancom PDF 1.3.0.542', 'creationdate': '2024-12-12T18:16:11+09:00', 'author': 'SI', 'page_label': '86', 'moddate': '2024-12-12T18:16:11+09:00'}\n",
      "------\n",
      "page_content='제4절 기후·환경 부문813-2-2 기후 행동 포용적 거버넌스 구축을 위한 시민 행동 활성화Ÿ자원순환부터 기후 행동까지 수도권 시민과 정부, 기업의 협력을 위해, 서울시-중앙부처-수도권이 함께 기후환경 관리를 위한 협력체계를 마련하고, 시민 정책참여 플랫폼과 민·관 협력형 사업 확대로 효과적인 규제·관리 기반을 강화한다.-개인·단체·기업 등 서울시 모든 구성원의 자원순환 인식을 제고하기 위한 사업과 시책을 발굴하여 적극적으로 자원순환 문화 활성화Ÿ에너지 공급자뿐만 아니라 생산된 에너지를 활용하는 수요자 측면에서도 에너지 전환에 대한 공감대를 확산하기 위한 지원정책 및 캠페인을 확대한다.-연령, 직업, 국적 등을 고려한 친환경 교육 계획을 수립하여 대중교통 이용 및 일회용품 사용 감축 등 시민에게 기후 행동을 실천할 수 있는 가이드라인 제공3-3 사람과 자연의 공존을 위한 친환경 생태도시 구축3-3-1 건물 에너지 분야 효율성 개선 및 도심 속 생물 다양성 확보Ÿ기후변화에 대응하고 건물 에너지 분야 효율을 개선하기 위하여 녹지, 하천, 농지, 옥상·벽면·실내녹화 등 다양한 입체 녹화 기법 도입을 권장하고 시민참여를 적극 유도한다.-토양이 함유한 수분의 증발산 기능, 빗물의 투수 및 저장을 통한 기후 상태 개선 기능, 건전한 생태환경 제공 기능 등 자연 순환의 기능을 가지는 생태면적률 계획기법 반영-공원·녹지 조성 시, 공공자전거(따릉이) 거치대, 자전거 주차시설, 자전거 이용 편의시설 등을 설치하여 기후변화에 대응하기 위한 시민참여 유도Ÿ서울을 가로지르는 한강과 이로 흘러드는 지류천의 자연성을 회복하고 생태경관보전지역 및 야생생물보호구역 등 자연보호지역 지정을 통해 생물 다양성의 증진을 도모한다.3-3-2 지속가능한 통합 물순환 체계 구축Ÿ수질·수량·수생태 등 도시 내 물순환 시스템을 통합적으로 관리할 수 있는 물관리체계를 만들어 지속가능하고 일원화·고도화된 물관리 시설 연결망을 구축한다.Ÿ물순환을 회복하기 위해 건물, 가로, 녹지 등 도시공간 전체에 원활한' metadata={'page': 88, 'source': './data/2040_seoul_plan.pdf', 'creationdate': '2024-12-12T18:16:11+09:00', 'pdfversion': '1.4', 'moddate': '2024-12-12T18:16:11+09:00', 'creator': 'Hwp 2020 11.0.0.5178', 'total_pages': 205, 'producer': 'Hancom PDF 1.3.0.542', 'author': 'SI', 'page_label': '89'}\n",
      "------\n",
      "page_content='180제6장 계획의 실현\n",
      "부문지표명지표의 통계명내용 및 산정식출처목표치 및 관리방향\n",
      "기후·환경\n",
      "탄소중립온실가스 배출량건물·수송·폐기물 처리 등에 따른 서울의 온실가스 배출량서울시 내부자료(기후환경정책과)2005년 대비 70% 감축대기질개선초미세먼지 농도*서울시 대기 중 2.5㎛보다 작은 초미세먼지의 농도서울특별시 대기환경정보10㎍/㎥(2040)신재생에너지신재생에너지 보급률*서울시 총 에너지보급량 중 신·재생에너지 보급 비율한국에너지공단21%(2030)탄소배출감축건물 에너지 효율화 사업 수에너지다소비건물, 공공건물, 상업건물, 주택 등에 대한 건물에너지효율화 사업 개소수(누적) 서울시 내부자료(친환경건물과)100만 호(2026)자원순환인구당 생활폐기물 발생량(매립률)서울시민 1인당 하루 평균 생활폐기물 배출량(서울 하루 평균 생활폐기물 배출량/인구 수)과 생활폐기물 중 매립되는 비율 서울통계0.86㎏/인/일(2027)물순환물재이용량*빗물, 중수도시설, 하수처리수로 대체하여 이용한 물의 양서울시 내부자료(수변감성도시과)증가녹지환경만족녹지환경만족도시민이 현재 거주하는 지역의 녹지환경(공원, 숲 등)에 대하여 만족하는 정도서울서베이증가공원확충1인당 공원면적*공원 면적(도시자연공원구역+도시계획시설 공원+국립공원)/인구수서울시 공원통계증가수변공간활성화한강공원 이용객수산책, 낚시, 자전거, 인라인, 운동·수상시설, 수영장, 행사 등을 위하여 한강공원을 이용한 이용객 수서울시 통계정보시스템증가\n",
      "안전·방재' metadata={'total_pages': 205, 'source': './data/2040_seoul_plan.pdf', 'creator': 'Hwp 2020 11.0.0.5178', 'author': 'SI', 'page_label': '188', 'moddate': '2024-12-12T18:16:11+09:00', 'page': 187, 'producer': 'Hancom PDF 1.3.0.542', 'pdfversion': '1.4', 'creationdate': '2024-12-12T18:16:11+09:00'}\n",
      "------\n",
      "page_content='제3절 권역별 구상147보행 중심 교통체계 전환을 위한 친환경 교통 인프라 구축 및 제도 개선 Ÿ주차상한제 강화, 공해 차량 통행 제한 확대, 탄력적인 주차요금제 적용 등으로 도심 내 승용차 수요관리 체계를 정립하고 도심 우회도로를 조속히 확충하여 서울도심 내 도로·교통시설체계를 재편한다.Ÿ신분당선 서북부연장 등 도시철도망을 확대하고 간선급행버스(BRT) 확충 등 버스노선체계를 개편하여 대중교통 접근성을 개선한다.Ÿ개인이동수단(PM), 자전거 등 친환경 교통수단 중심으로 지상 도로를 정비하고 자전거 간선도로(CRT)를 확대 설치하며 보행환경개선지구 지정 및 사업을 추진하여 사람 중심의 교통체계로 개선 및 확대·재편한다.기반시설 입체복합화 등 다양한 방법으로 도심권 생활물류시설 확충Ÿ도심권역에서 생활물류가 원활하게 배송될 수 있도록 공영주차장 등 저이용 기반시설에 대해 물류 복합화를 추진하고, 대규모 정비사업 추진 시 소규모 집배송시설 또는 도심형 물류센터 등이 설치될 수 있도록 인센티브 등을 활용하여 유도한다.4) 공원녹지서울도심을 녹지생태 공간이 가득한 경쟁력 있는 복합도심으로 구축Ÿ지역 특성을 고려한 맞춤형 전략으로 도심 내 다양한 녹지공간을 확보하여 도심의 녹지공간의 비율을 세계 선진 대도시 수준으로 끌어올린다.-정비사업 추진에 따른 녹지공간 조성 시 오픈스페이스 집적·연계를 위한 배치와 개방형 녹지 확대 등을 유도하고 녹지생태 네트워크를 구축-정비사업이 이미 완료된 구역에 대해서는 리모델링 시 공개공지 재조성이나 입체녹화 등으로 녹지공간의 추가 확보를 유도-인사동, 북촌 등 특색 지역에는 장소 맞춤형 보행 녹지 가로 조성을 통한 네트워크를 구축용산공원의 정체성·역사성·상징성 회복을 위한 종합계획 및 적극적 관리방안 수립Ÿ남북녹지축과 동서수경축이 만나는 서울의 지리적 중심인 용산공원을 입지적 중요성과 역사적인 상징성에 따라 시민과 공감대를 형성하여 활용방안을 모색한다.-공원 조성 및 관리 운영 과정에 중앙정부와 협의하여 서울시가 적극적으로 참여' metadata={'author': 'SI', 'moddate': '2024-12-12T18:16:11+09:00', 'creator': 'Hwp 2020 11.0.0.5178', 'total_pages': 205, 'page_label': '155', 'page': 154, 'source': './data/2040_seoul_plan.pdf', 'creationdate': '2024-12-12T18:16:11+09:00', 'pdfversion': '1.4', 'producer': 'Hancom PDF 1.3.0.542'}\n",
      "------\n"
     ]
    }
   ],
   "source": [
    "# retrieving\n",
    "retriever = vectorstore.as_retriever(k=5)\n",
    "chunks = retriever.invoke(\"서울시의 환경 정책에 대해 궁금해\")\n",
    "\n",
    "for chunk in chunks:\n",
    "    print(chunk)\n",
    "    print('------')"
   ]
  },
  {
   "cell_type": "code",
   "execution_count": 8,
   "metadata": {},
   "outputs": [
    {
     "data": {
      "text/plain": [
       "AIMessage(content='안녕하세요! 어떻게 도와드릴까요?', additional_kwargs={'refusal': None}, response_metadata={'token_usage': {'completion_tokens': 10, 'prompt_tokens': 10, 'total_tokens': 20, 'completion_tokens_details': {'accepted_prediction_tokens': 0, 'audio_tokens': 0, 'reasoning_tokens': 0, 'rejected_prediction_tokens': 0}, 'prompt_tokens_details': {'audio_tokens': 0, 'cached_tokens': 0}}, 'model_name': 'gpt-4o-mini-2024-07-18', 'system_fingerprint': 'fp_560af6e559', 'id': 'chatcmpl-C5ASSucTP6cPlZwOZSBonsdJ6tpHx', 'service_tier': 'default', 'finish_reason': 'stop', 'logprobs': None}, id='run--253f53aa-4de7-4406-9d3b-542db6e5c516-0', usage_metadata={'input_tokens': 10, 'output_tokens': 10, 'total_tokens': 20, 'input_token_details': {'audio': 0, 'cache_read': 0}, 'output_token_details': {'audio': 0, 'reasoning': 0}})"
      ]
     },
     "execution_count": 8,
     "metadata": {},
     "output_type": "execute_result"
    }
   ],
   "source": [
    "# 언어 모델 설정하기\n",
    "from langchain_openai import ChatOpenAI\n",
    "\n",
    "# 모델 초기화\n",
    "model = ChatOpenAI(model=\"gpt-4o-mini\")\n",
    "model.invoke(\"안녕?\")"
   ]
  },
  {
   "cell_type": "markdown",
   "metadata": {},
   "source": [
    "#### 챗봇에 라우터 설정하기\n",
    "\n",
    "GPT와 같은 언어 모델이 사용자의 입력을 일상적인 대화인지 RAG가 필요한 질문인지 판단하는 기능을 구현해 보자.\n",
    "\n",
    "일상적인 대화라면 casual_talk를 반환하고  \n",
    "RAG가 필요하면 vector_store를 반환\n",
    "\n",
    "이 판단에 따라 conditional_edge를 이용해 어떤 노드를 활용할지를 판단하게 된다."
   ]
  },
  {
   "cell_type": "code",
   "execution_count": 9,
   "metadata": {},
   "outputs": [],
   "source": [
    "# 라우터 설정하기\n",
    "from langchain_core.prompts import ChatPromptTemplate\n",
    "from typing import Literal # 문자열 리터럴 타입을 지원하는 typing 모듈의 클래스\n",
    "from pydantic import BaseModel, Field\n",
    "\n",
    "# Data model\n",
    "class RouteQuery(BaseModel):\n",
    "    \"\"\"사용자 쿼리를 가장 관련성이 높은 데이터 소스로 라우팅합니다.\"\"\"\n",
    "    \n",
    "    datasource: Literal[\"vectorstore\", \"casual_talk\"] = Field(\n",
    "        ...,\n",
    "        description=\"\"\"\n",
    "        사용자 질문에 따라 casual_talk 또는 vectorstore로 라우팅합니다.\n",
    "        - casual_talk: 일상 대화를 위한 데이터 소스. 사용자가 일상적인 질문을 할 때 사용합니다.\n",
    "        - vectorstore: 사용자 질문에 답하기 위해 RAG로 vectorstore 검색이 필요한 경우 사용합니다.\n",
    "        \"\"\",\n",
    "    )"
   ]
  },
  {
   "cell_type": "code",
   "execution_count": 10,
   "metadata": {},
   "outputs": [],
   "source": [
    "# 사용자 질문 받고 판단하기\n",
    "# 특정 모델을 structured output (구조화된 출력)과 함께 사용하기 위해 설정\n",
    "structured_llm_router = model.with_structured_output(RouteQuery)\n",
    "\n",
    "router_system = \"\"\"\n",
    "당신은 사용자의 질문을 vectorstore 또는 casual_talk으로 라우팅하는 전문가입니다.\n",
    "- vectorstore에는 서울, 뉴욕의 발전계획과 관련된 문서가 포함되어 있습니다. 이 주제에 대한 질문에는 vectorstore를 사용하십시오.\n",
    "- 사용자의 질문이 일상 대화에 관련된 경우 casual_talk을 사용하십시오.\n",
    "\"\"\"\n",
    "\n",
    "# 시스템 메시지와 사용자의 질문을 포함하는 프롬프트 템플릿 생성\n",
    "route_prompt = ChatPromptTemplate.from_messages([\n",
    "    (\"system\", router_system),\n",
    "    (\"human\", \"{question}\"),\n",
    "])\n",
    "\n",
    "# 라우터 프롬프트와 구조화된 출력 모델을 결합한 객체\n",
    "question_router = route_prompt | structured_llm_router"
   ]
  },
  {
   "cell_type": "code",
   "execution_count": 11,
   "metadata": {},
   "outputs": [
    {
     "name": "stdout",
     "output_type": "stream",
     "text": [
      "datasource='vectorstore'\n"
     ]
    }
   ],
   "source": [
    "# 코드 동작 테스트\n",
    "print(\n",
    "    question_router.invoke({\n",
    "        \"question\": \"서울 온실가스 저감 계획은 무엇인가요?\"\n",
    "    })\n",
    ")\n"
   ]
  },
  {
   "cell_type": "code",
   "execution_count": 12,
   "metadata": {},
   "outputs": [
    {
     "name": "stdout",
     "output_type": "stream",
     "text": [
      "datasource='casual_talk'\n"
     ]
    }
   ],
   "source": [
    "# 코드 동작 테스트\n",
    "print(question_router.invoke({\"question\": \"잘 지냈어?\"}))"
   ]
  },
  {
   "cell_type": "markdown",
   "metadata": {},
   "source": [
    "#### 랭그래프로 RAG에이전트 만들기\n",
    "\n",
    "관련 있는 청크만 필터링하기\n",
    "\n",
    "리트리버는 벡터 DB에서 유사도를 기준으로 가장 관련있는 문서를 가져오는데, 질문과 관련 없는 청크를 포함하는 경우 답변을 생성할 때 혼란을 일으킬 수 있으므로 미리 삭제하는 편이 좋다.\n",
    "\n",
    "문서의 관련성을 판단하는 방법을 프롬프트로 작성하고, 판단 결과는 BaseModel과 .with_structured_output을 활용해 출력 형식을 제한해 보겠다."
   ]
  },
  {
   "cell_type": "code",
   "execution_count": 13,
   "metadata": {},
   "outputs": [],
   "source": [
    "# BaseModel을 사용해 출력 방식을 yes 또는 no로 제한하는 GradeDocuments 클래스 정의\n",
    "# GPT 모델을 그대로 쓰지 않고, .with_structured_output을 사용해 출력 형식을 제한한 structured_llm_grader를 만들어서 사용하자.\n",
    "\n",
    "from langchain_core.prompts import PromptTemplate\n",
    "\n",
    "class GradeDocuments(BaseModel):\n",
    "    \"\"\"검색된 문서가 질문과 관련성 있는지 yes 또는 no로 평가합니다.\"\"\"\n",
    "\n",
    "    binary_score: Literal[\"yes\", \"no\"] = Field(\n",
    "        description=\"문서가 질문과 관련이 있는지 여부를 'yes' 또는 'no'로 평가합니다.\"\n",
    "    )\n",
    "\n",
    "structured_llm_grader = model.with_structured_output(GradeDocuments)"
   ]
  },
  {
   "cell_type": "code",
   "execution_count": 14,
   "metadata": {},
   "outputs": [],
   "source": [
    "# 프롬프트 작성하고 테스트하기\n",
    "grader_prompt = PromptTemplate.from_template(\"\"\"\n",
    "당신은 검색된 문서가 사용자 질문과 관련이 있는지 평가하는 평가자입니다. \\n \n",
    "문서에 사용자 질문과 관련된 키워드 또는 의미가 포함되어 있으면, 해당 문서를 관련성이 있다고 평가하십시오. \\n\n",
    "엄격한 테스트가 필요하지 않습니다. 목표는 잘못된 검색 결과를 걸러내는 것입니다. \\n\n",
    "문서가 질문과 관련이 있는지 여부를 나타내기 위해 'yes' 또는 'no'로 이진 점수를 부여하십시오.\n",
    "                                             \n",
    "Retrieved document: \\n {document} \\n\\n \n",
    "User question: {question}\n",
    "\"\"\")\n",
    "\n",
    "retrieval_grader = grader_prompt | structured_llm_grader"
   ]
  },
  {
   "cell_type": "code",
   "execution_count": 15,
   "metadata": {},
   "outputs": [
    {
     "name": "stdout",
     "output_type": "stream",
     "text": [
      "page_content='54제2장 미래상과 목표\n",
      "5. 기술발전에 선제적 대응, ‘미래교통 인프라 구축’1) 배경미래교통수단 도입에 따른 도시 활동 변화 및 공간구조 재편 대비Ÿ빠르게 진화하는 미래 신 교통수단은 도시공간에 새로운 변화를 일으킬 것이며, 도시 내 이동패턴의 변화를 가져올 것으로 예측된다. 이러한 점을 고려하여 도시 내 다양한 통행행태가 공존하는 포용적인 교통체계 구축을 준비해야 한다.미래교통수단 정착을 위한 도시 인프라 확충지원 필요Ÿ기존에 없던 새로운 교통은 통상 인프라 구축에 많은 시간이 소요되기 때문에 교통수단이 도입된 이후에 준비하기보다는 개발단계에서부터 이를 지원하기 위한 교통인프라 구축 구상이 요구되며, 새로운 도시 인프라 확충에 대한 도시계획적 지원이 필요하다.2) 추진전략자율주행 자동차 본격 운영 체계 구축Ÿ자율주행은 현재 제일 가시화되고 있는 미래 교통기술로 시장의 주도권을 확보하기 위해 각국의 노력이 집중되고 있다. 단계적으로 2030년까지 간선도로급 이상 도로에서 운영할 수 있는 도로 인프라 환경을 조성하고, 2040년까지 서울 전역 자율주행 운행 환경 구축을 목표로 한다.-2040년까지 서울 전역 자율주행차량의 운행 환경을 구축하고 수송 분담률 10%를 달성서울형 도심 항공교통 기반 마련 및 터미널 확충Ÿ도심에서 김포공항까지 시범노선을 운영하는 등 상용화 노선을 확보하고, 장기적으로 한강, 지천 등 주요 수변 공간 중심으로 광역노선을 확보한다. 또한 UAM 인프라 확보를 위한 인센티브 및 도시계획적인 지원 방안도 함께 검토한다.-UAM 시범노선을 운영하고, 한강 등 주요 수변 공간 중심에 단계적 광역노선을 확장서울 전역에 모빌리티 허브 구축Ÿ도심 및 광역거점에 서울 내부와 외부의 연계를 위한 미래 교통과 기존 교통을 연결하는 시설을 도입한다. 또한 교통뿐 아니라 공공서비스, 물류, 상업 등 다양한 기능들이 복합적으로 제공되는 지역 거점 모빌리티 허브를 서울 전역에 도입한다.' metadata={'pdfversion': '1.4', 'page': 61, 'creationdate': '2024-12-12T18:16:11+09:00', 'moddate': '2024-12-12T18:16:11+09:00', 'page_label': '62', 'producer': 'Hancom PDF 1.3.0.542', 'total_pages': 205, 'creator': 'Hwp 2020 11.0.0.5178', 'author': 'SI', 'source': './data/2040_seoul_plan.pdf'}\n",
      "page_content='36제2장 미래상과 목표\n",
      "6) 미래교통수단의 등장과 첨단 인프라 요구 증대자율주행, UAM 등 미래 교통에 공간적 대응방안 마련 필요Ÿ자율주행차량, 전동킥보드 등 교통 기술의 발전에 따라 새로운 교통환경이 조성되고 있음에도 불구하고, 이에 대한 정착 가이드라인이 없어, 위험한 교통 사고가 유발되고 있다.-최근 3년간 서울시에서 발생한 전동킥보드 관련 사고 대다수는 전동 킥보드와 차량 간 충돌 사고Ÿ안전하고 효율적인 기존-신규 교통수단의 조화를 도모하고, 이와 함께 발생할 도시공간구조 변화에 대비하기 위해 통합적인 교통수단 정착 가이드라인이 필요하다.7) 시가지 공간의 포화, 개발가용지의 부족새로운 도시공간에 대한 수요 대응과 성장동력 확보 한계Ÿ서울의 녹지지역을 제외한 대부분의 개발가용지는 고갈된 상태이며, 남은 공간은 주택공급을 위주로 개발하고 있다.-서울시에서 개발제한구역 25%를 제외하면 65%에 해당하는 시가화면적 366㎢ 중 미개발지는 거의 없는 상태Ÿ외연적 팽창이 아닌, 선택과 집중을 통한 콤팩트 시티로의 공간구조 재편을 지향하고 복합 개발을 통해 약해진 도시경쟁력 강화가 필요한 시점이다.8) 늙어가는 서울, 도시 정비의 정체에 따른 환경 악화정비사업 추진동력 저하, 쾌적한 도시환경에 대한 요구 증대Ÿ2038년 서울시 기반시설 노후화 비율은 2018년 대비 2.7배 급증, 1960~70년대 집중 조성된 기반시설의 노후화에 따른 시설 안전성 확보가 필요하다.-2040년, 서울 전체 주택 중 노후 물량 50%로 추정Ÿ때문에, 쾌적한 도시환경 구축을 위해서는 노후 기반시설로 인한 안전성 검토와 개선비용 증가에 따른 선제적인 대응이 필요하다.\n",
      "[그림 2-19] 서울시 전동킥보드 사고 추이자료: 서울시 소방재난본부' metadata={'author': 'SI', 'page': 43, 'creationdate': '2024-12-12T18:16:11+09:00', 'producer': 'Hancom PDF 1.3.0.542', 'total_pages': 205, 'moddate': '2024-12-12T18:16:11+09:00', 'creator': 'Hwp 2020 11.0.0.5178', 'source': './data/2040_seoul_plan.pdf', 'pdfversion': '1.4', 'page_label': '44'}\n",
      "page_content='제1절 도시공간구조105기능이 공존하는 미래 도심으로 조성-국제 디지털 금융중심지인 여의도·영등포는 한강을 중심으로 한 글로벌 혁신코어 조성-국제 업무 중심지인 강남은 영동대로와 경부간선도로의 입체복합화로 가용지를 확보하여 업무복합기능을 강화 Ÿ수도 서울의 위상 강화를 위해 “광화문~용산~영등포”축을 국가중심공간으로 조성한다.-북악산~청와대~광화문광장~서울역~용산~한강을 잇는 도심축을 보행로·녹지와 연결하며 통합 개발하여 국가상징가로로 조성 Ÿ도심을 보행 중심의 쾌적하고 매력 있는 공간으로 조성하여 장소성을 강화하고 가로를 활성화한다.-3도심에 녹색교통지역 지정 등 보행 중심 공간을 조성하기 위한 다양한 유도·지원방안을 마련하고, 도심의 공원·녹지축 체계, 자전거 등 친환경 교통수단 확대, 한강·지천의 수변명소 간 보행로·신 교통수단 연계 등을 추진도시계획체계 유연화로 도심 가용지 확보 및 복합 개발 추진Ÿ도심의 활력을 제고하기 위하여 높이 기준 유연화, 용적률 기준 완화 등 도시계획적 규제를 유연하게 운영함과 동시에 공공기여 등 공적기능을 확보한다.Ÿ노후 환경 개선이 필요한 구도심에 쾌적한 업무·주거 공간을 제공하고 도심 속 녹지공간을 확충하여 다기능 녹지생태도시를 구현하도록 정비사업 추진 시 적극 지원한다. -노후지역 재정비 시 지역 특성을 고려하며 다양한 활동·기능이 이루어질 수 있도록 지원하고, 기반시설의 입체복합개발을 추진하여 새로운 공간을 창출3도심 간 직결체계 완성을 위하여 광역급행철도망 연계 및 도심 간 이동 수단 다양화Ÿ3도심과 용산의 대중교통 연결성을 강화하고 광역급행노선의 도심 내 정차·환승역의 신설 제안을 검토하여 3+1(서울도심-여의도·영등포-강남-용산)의 직결체계를 완성한다.-도심의 광역접근성을 강화하기 위해 기 계획된 광역급행노선 외에 추가적으로 GTX-A 노선은 광화문·시청역을, GTX-B 노선은 종로3가역 또는 동대문역 신설 제안을 검토Ÿ자전거를 비롯하여 개인용 이동수단(PM), 수상교통, 도심항공교통(UAM) 등 신 이동수단으로' metadata={'total_pages': 205, 'creationdate': '2024-12-12T18:16:11+09:00', 'creator': 'Hwp 2020 11.0.0.5178', 'producer': 'Hancom PDF 1.3.0.542', 'page_label': '113', 'moddate': '2024-12-12T18:16:11+09:00', 'source': './data/2040_seoul_plan.pdf', 'page': 112, 'pdfversion': '1.4', 'author': 'SI'}\n",
      "page_content='광화문·시청역을, GTX-B 노선은 종로3가역 또는 동대문역 신설 제안을 검토Ÿ자전거를 비롯하여 개인용 이동수단(PM), 수상교통, 도심항공교통(UAM) 등 신 이동수단으로 도심 간 연결 수단을 다양화하고, 교통수단 상용화에 필요한 인프라를 구축한다.-여의도~잠실종합운동장, 남산공원~용산공원~용산역(정비창)~여의도 등을 연결하는 신 이동수단의 인프라 신설을 검토하여 글로벌 비즈니스 편의와 관광 매력을 증진' metadata={'creationdate': '2024-12-12T18:16:11+09:00', 'author': 'SI', 'creator': 'Hwp 2020 11.0.0.5178', 'page_label': '113', 'producer': 'Hancom PDF 1.3.0.542', 'page': 112, 'moddate': '2024-12-12T18:16:11+09:00', 'total_pages': 205, 'source': './data/2040_seoul_plan.pdf', 'pdfversion': '1.4'}\n"
     ]
    }
   ],
   "source": [
    "question = \"서울시 자율주행 관련 계획\"\n",
    "documents = retriever.invoke(question)\n",
    "\n",
    "for doc in documents:\n",
    "    print(doc)"
   ]
  },
  {
   "cell_type": "code",
   "execution_count": 16,
   "metadata": {},
   "outputs": [
    {
     "name": "stdout",
     "output_type": "stream",
     "text": [
      "Document 1:\n",
      "binary_score='yes'\n",
      "54제2장 미래상과 목표\n",
      "5. 기술발전에 선제적 대응, ‘미래교통 인프라 구축’1) 배경미래교통수단 도입에 따른 도시 활동 변화 및 공간구조 재편 대비Ÿ빠르게 진화하는 미래 신 교통수단은 도시공간에 새로운 변화를 일으킬 것이며, 도시 내 이동패턴의 변화를 가져올 것으로 예측된다. 이러한 점을 고려하여 도시 내 다양한 통행행태가 공존하는 포용적인 교통체계 구\n",
      "=================================\n",
      "\n",
      "\n",
      "Document 2:\n",
      "binary_score='yes'\n",
      "36제2장 미래상과 목표\n",
      "6) 미래교통수단의 등장과 첨단 인프라 요구 증대자율주행, UAM 등 미래 교통에 공간적 대응방안 마련 필요Ÿ자율주행차량, 전동킥보드 등 교통 기술의 발전에 따라 새로운 교통환경이 조성되고 있음에도 불구하고, 이에 대한 정착 가이드라인이 없어, 위험한 교통 사고가 유발되고 있다.-최근 3년간 서울시에서 발생한 전동킥보드 관련 사고 \n",
      "=================================\n",
      "\n",
      "\n",
      "Document 3:\n",
      "binary_score='no'\n",
      "제1절 도시공간구조105기능이 공존하는 미래 도심으로 조성-국제 디지털 금융중심지인 여의도·영등포는 한강을 중심으로 한 글로벌 혁신코어 조성-국제 업무 중심지인 강남은 영동대로와 경부간선도로의 입체복합화로 가용지를 확보하여 업무복합기능을 강화 Ÿ수도 서울의 위상 강화를 위해 “광화문~용산~영등포”축을 국가중심공간으로 조성한다.-북악산~청와대~광화문광장~서울\n",
      "=================================\n",
      "\n",
      "\n",
      "Document 4:\n",
      "binary_score='yes'\n",
      "광화문·시청역을, GTX-B 노선은 종로3가역 또는 동대문역 신설 제안을 검토Ÿ자전거를 비롯하여 개인용 이동수단(PM), 수상교통, 도심항공교통(UAM) 등 신 이동수단으로 도심 간 연결 수단을 다양화하고, 교통수단 상용화에 필요한 인프라를 구축한다.-여의도~잠실종합운동장, 남산공원~용산공원~용산역(정비창)~여의도 등을 연결하는 신 이동수단의 인프라 신설을\n",
      "=================================\n",
      "\n",
      "\n",
      "Filtered documents: 3\n"
     ]
    }
   ],
   "source": [
    "# 관련된 청크만 리스트에 추가하기\n",
    "filtered_docs = []\n",
    "\n",
    "for i, doc in enumerate(documents):\n",
    "    print(f\"Document {i + 1}:\")\n",
    "    is_relevant = retrieval_grader.invoke({\"question\": question, \"document\": doc.page_content})\n",
    "    print(is_relevant)\n",
    "    print(doc.page_content[:200])\n",
    "    print(\"=================================\\n\\n\")\n",
    "\n",
    "    if is_relevant.binary_score == \"yes\":\n",
    "        filtered_docs.append(doc)\n",
    "\n",
    "print(f\"Filtered documents: {len(filtered_docs)}\")"
   ]
  },
  {
   "cell_type": "code",
   "execution_count": 17,
   "metadata": {},
   "outputs": [],
   "source": [
    "# RAG로 답변 생성하기\n",
    "# GPT로 질문 내용과 관련된 청크들만 필터링하여 남겼으니 이제 답변을 생성할 차례\n",
    "\n",
    "### Generate\n",
    "# PromptTemplate을 사용하여 RAG를 위한 프롬프트를 생성합니다.\n",
    "\n",
    "rag_generate_system = \"\"\"\n",
    "너는 사용자의 질문에 대해 주어진 context에 기반하여 답변하는 도시 계획 전문가이다. \n",
    "주어진 context는 vectorstore에서 검색된 결과이다. \n",
    "주어진 context를 기반으로 사용자의 question에 대해 답변하라.\n",
    "\n",
    "=================================\n",
    "question: {question}\n",
    "context: {context}\n",
    "\"\"\"\n",
    "\n",
    "# PromptTemplate을 생성하여 question과 context를 포맷팅\n",
    "rag_prompt = PromptTemplate(\n",
    "    input_variables=[\"question\", \"context\"],\n",
    "    template=rag_generate_system\n",
    ")\n",
    "\n",
    "# rag chain\n",
    "rag_chain = rag_prompt | model "
   ]
  },
  {
   "cell_type": "code",
   "execution_count": 18,
   "metadata": {},
   "outputs": [
    {
     "data": {
      "text/plain": [
       "AIMessage(content='서울시는 자율주행 관련하여 다수의 계획을 세우고 있습니다. 주요 내용은 다음과 같습니다:\\n\\n1. **기술 발전과 인프라 구축**: 서울시는 자율주행 자동차의 본격 운영을 위해 2030년까지 간선도로에서 운영할 수 있는 도로 인프라 환경을 조성하고, 2040년까지 서울 전역에 자율주행 차의 운행 환경을 구축할 계획입니다. 이로 인해 수송 분담률 10%를 달성하는 것을 목표로 하고 있습니다.\\n\\n2. **모빌리티 허브 구축**: 서울 전역에 모빌리티 허브를 구축하여, 도심과 광역거점을 연결하는 미래 교통 및 기존 교통을 통합한 시설을 도입할 예정입니다. 모빌리티 허브는 교통 서비스를 넘어 공공서비스, 물류, 상업 등 다양한 기능을 복합적으로 제공하는 공간으로 설계될 것입니다.\\n\\n3. **도심 항공교통(UAM) 기반 마련**: 도심에서 김포공항까지의 시범 노선을 운영하고, 향후 한강 및 주요 수변 공간을 중심으로 광역 노선을 확장하는 방안도 포함되어 있습니다.\\n\\n4. **교통수단 가이드라인**: 자율주행차량 및 전동킥보드와 같은 새로운 교통 수단의 안전한 정착을 위한 통합적인 교통수단 정착 가이드라인 마련이 요구되고 있습니다.\\n\\n위와 같은 계획들은 서울시의 미래 교통 환경 변화에 대응하고, 안전하며 효율적인 교통 체계를 구축하기 위한 기반을 마련하고자 하는 목적으로 추진되고 있습니다.', additional_kwargs={'refusal': None}, response_metadata={'token_usage': {'completion_tokens': 366, 'prompt_tokens': 1794, 'total_tokens': 2160, 'completion_tokens_details': {'accepted_prediction_tokens': 0, 'audio_tokens': 0, 'reasoning_tokens': 0, 'rejected_prediction_tokens': 0}, 'prompt_tokens_details': {'audio_tokens': 0, 'cached_tokens': 0}}, 'model_name': 'gpt-4o-mini-2024-07-18', 'system_fingerprint': 'fp_560af6e559', 'id': 'chatcmpl-C5AigziBIaXa6ii08m4CaslS5STe1', 'service_tier': 'default', 'finish_reason': 'stop', 'logprobs': None}, id='run--85bb55c8-1e8e-4746-8f0b-b2dc37a06a47-0', usage_metadata={'input_tokens': 1794, 'output_tokens': 366, 'total_tokens': 2160, 'input_token_details': {'audio': 0, 'cache_read': 0}, 'output_token_details': {'audio': 0, 'reasoning': 0}})"
      ]
     },
     "execution_count": 18,
     "metadata": {},
     "output_type": "execute_result"
    }
   ],
   "source": [
    "# 사용자 질문과 검색된 문서를 입력으로 사용하여 RAG를 실행\n",
    "question = \"서울시 자율주행 관련 계획\"\n",
    "\n",
    "rag_chain.invoke({\"question\": question, \"context\": filtered_docs})"
   ]
  },
  {
   "cell_type": "markdown",
   "metadata": {},
   "source": [
    "#### 그래프 정의하기\n",
    "\n",
    "이제 RAG 에이전트에 필요한 기능을 다 만들었으니 이 기능들을 엮어서 하나의 그래프로 만들어 보자."
   ]
  },
  {
   "cell_type": "code",
   "execution_count": 19,
   "metadata": {},
   "outputs": [],
   "source": [
    "# 그래프 상태 선언\n",
    "from typing import List\n",
    "from typing_extensions import TypedDict\n",
    "\n",
    "class GraphState(TypedDict):\n",
    "    question: str   # 사용자 질문\n",
    "    generation: str # LLM 생성 결과\n",
    "    documents: List[str] # 검색된 문서"
   ]
  },
  {
   "cell_type": "code",
   "execution_count": 20,
   "metadata": {},
   "outputs": [],
   "source": [
    "# route_question 함수 만들기\n",
    "# state 매배견수를 받고 질문 내용을 바탕으로 RAG가 필요하면 vector_store를, 일반 대화 내용이면 casual_talk를 반환\n",
    "\n",
    "def route_question(state): \n",
    "    \"\"\"\n",
    "    사용자 질문을 vectorstore 또는 casual_talk로 라우팅합니다.\n",
    "    \n",
    "    Args:\n",
    "        state (dict): 현재 graph state\n",
    "\n",
    "    return:\n",
    "        state (dict): 라우팅된 데이터 소스와 사용자 질문을 포함하는 새로운 graph state\n",
    "    \"\"\"\n",
    "    print('------ROUTE------')\n",
    "    question = state['question']\n",
    "    route = question_router.invoke({\"question\": question})\n",
    "\n",
    "    \n",
    "    print(f\"---Routing to {route.datasource}---\")\n",
    "    return route.datasource   "
   ]
  },
  {
   "cell_type": "code",
   "execution_count": 21,
   "metadata": {},
   "outputs": [],
   "source": [
    "# retriever 노드 정의\n",
    "# 이 노드는 state의 question으로 검색을 수행. 그 검색된 결과를 딕셔너리 형태로 반환하여 graph state를 업데이트\n",
    "\n",
    "def retrieve(state): \n",
    "    \"\"\"\n",
    "    vectorstore에서 질문에 대한 문서를 검색합니다.\n",
    "    \n",
    "    Args:\n",
    "        state (dict): 현재 graph state\n",
    "\n",
    "    return:\n",
    "        state (dict): 검색된 문서와 사용자 질문을 포함하는 새로운 graph state\n",
    "    \"\"\"\n",
    "    print('------RETRIEVE------')\n",
    "    question = state['question']\n",
    "\n",
    "    # Retrieve documents\n",
    "    documents = retriever.invoke(question)\n",
    "    return {\"documents\": documents, \"question\": question}"
   ]
  },
  {
   "cell_type": "code",
   "execution_count": 22,
   "metadata": {},
   "outputs": [],
   "source": [
    "# graph_documents 노드 정의하기\n",
    "# retrieve 노드에서 검색된 문서를 기반으로 관련성 평가를 수행하고, 관련성이 있는 문서만 필터링하여 graph state를 업데이트\n",
    "\n",
    "def grade_documents(state):\n",
    "    \"\"\"\n",
    "    검색된 문서를 평가하여 질문과 관련성이 있는지 확인합니다.\n",
    "\n",
    "    Args:\n",
    "        state (dict): 현재 graph state\n",
    "\n",
    "    return:\n",
    "        state (dict): 관련성이 있는 문서와 사용자 질문을 포함하는 새로운 graph state\n",
    "    \"\"\"\n",
    "    print('------GRADE------')\n",
    "    question = state['question']\n",
    "    documents = state['documents']\n",
    "    filtered_docs = []\n",
    "\n",
    "    for i, doc in enumerate(documents):\n",
    "        is_relevant = retrieval_grader.invoke({\"question\": question, \"document\": doc.page_content})\n",
    "        if is_relevant.binary_score == \"yes\":\n",
    "            filtered_docs.append(doc)\n",
    "    return {\"documents\": filtered_docs, \"question\": question}  "
   ]
  },
  {
   "cell_type": "code",
   "execution_count": 23,
   "metadata": {},
   "outputs": [],
   "source": [
    "# generate 노드 정의\n",
    "# 이 노드는 앞 단계의 grade_documents 노드에서 필터링한 state의 documents를 이용해 최종 답변을 생성하는 역할 수행\n",
    "\n",
    "def generate(state):\n",
    "    \"\"\"\n",
    "    LLM을 사용하여 문서와 사용자 질문에 대한 답변을 생성합니다.\n",
    "\n",
    "    Args:\n",
    "        state (dict): 현재 graph state\n",
    "\n",
    "    return:\n",
    "        state (dict): LLM 생성 결과와 사용자 질문을 포함하는 새로운 graph state\n",
    "    \"\"\"\n",
    "    print('------GENERATE------')\n",
    "    question = state['question']\n",
    "    documents = state['documents']\n",
    "    generation = rag_chain.invoke({\"question\": question, \"context\": documents})\n",
    "    return {\n",
    "        \"documents\": documents,\n",
    "        \"question\": question,\n",
    "        \"generation\": generation\n",
    "    }"
   ]
  },
  {
   "cell_type": "code",
   "execution_count": 24,
   "metadata": {},
   "outputs": [],
   "source": [
    "# casual_talk 노드 정의\n",
    "\n",
    "def casual_talk(state):\n",
    "    \"\"\"\n",
    "    일상 대화를 위한 답변을 생성합니다.\n",
    "\n",
    "    Args:\n",
    "        state (dict): 현재 graph state\n",
    "\n",
    "    return:\n",
    "        state (dict): 일상 대화 결과와 사용자 질문을 포함하는 새로운 graph state\n",
    "    \"\"\"\n",
    "    print('------CASUAL TALK------')\n",
    "    question = state['question']\n",
    "    generation = model.invoke(question)\n",
    "    return {\n",
    "        \"question\": question,\n",
    "        \"generation\": generation\n",
    "    }"
   ]
  },
  {
   "cell_type": "markdown",
   "metadata": {},
   "source": [
    "#### StateGraph 만들기"
   ]
  },
  {
   "cell_type": "code",
   "execution_count": 25,
   "metadata": {},
   "outputs": [],
   "source": [
    "# StateGraph 객체 생성하기\n",
    "from langgraph.graph import START, StateGraph, END\n",
    "\n",
    "workflow = StateGraph(GraphState)"
   ]
  },
  {
   "cell_type": "code",
   "execution_count": 26,
   "metadata": {},
   "outputs": [
    {
     "data": {
      "text/plain": [
       "<langgraph.graph.state.StateGraph at 0x7f597a618850>"
      ]
     },
     "execution_count": 26,
     "metadata": {},
     "output_type": "execute_result"
    }
   ],
   "source": [
    "# 노드 등록하고 연결하기\n",
    "workflow.add_node(\"retrieve\", retrieve)\n",
    "workflow.add_node(\"grade_documents\", grade_documents)\n",
    "workflow.add_node(\"generate\", generate)\n",
    "workflow.add_node(\"casual_talk\", casual_talk)"
   ]
  },
  {
   "cell_type": "code",
   "execution_count": 27,
   "metadata": {},
   "outputs": [],
   "source": [
    "# 그래프 정의\n",
    "workflow.add_conditional_edges(\n",
    "    START, \n",
    "    route_question,\n",
    "    {\n",
    "        \"vectorstore\": \"retrieve\",\n",
    "        \"casual_talk\": \"casual_talk\"\n",
    "    }\n",
    ")\n",
    "workflow.add_edge(\"casual_talk\", END)\n",
    "workflow.add_edge(\"retrieve\", \"grade_documents\")\n",
    "workflow.add_edge(\"grade_documents\", \"generate\")\n",
    "workflow.add_edge(\"generate\", END)\n",
    "\n",
    "app = workflow.compile() # workflow를 컴파일"
   ]
  },
  {
   "cell_type": "code",
   "execution_count": 28,
   "metadata": {},
   "outputs": [
    {
     "data": {
      "image/png": "[encoded data removed]",
      "text/plain": [
       "<IPython.core.display.Image object>"
      ]
     },
     "metadata": {},
     "output_type": "display_data"
    }
   ],
   "source": [
    "# 그래프 도식화하기\n",
    "from IPython.display import Image, display\n",
    "\n",
    "try:\n",
    "    display(Image(app.get_graph().draw_mermaid_png()))\n",
    "except Exception: \n",
    "    pass"
   ]
  },
  {
   "cell_type": "markdown",
   "metadata": {},
   "source": [
    "#### 멀티에이전트 테스트하기"
   ]
  },
  {
   "cell_type": "code",
   "execution_count": 29,
   "metadata": {},
   "outputs": [
    {
     "name": "stdout",
     "output_type": "stream",
     "text": [
      "------ROUTE------\n",
      "---Routing to vectorstore---\n",
      "------RETRIEVE------\n",
      "------GRADE------\n",
      "------GENERATE------\n"
     ]
    },
    {
     "data": {
      "text/plain": [
       "{'question': '서울시 자율주행 계획',\n",
       " 'generation': AIMessage(content='서울시의 자율주행 계획은 2030년까지 간선도로급 이상의 도로에서 자율주행 자동차의 운행 환경을 조성하고, 2040년까지 서울 전역에서 자율주행차량 운행 환경을 구축하는 것을 목표로 하고 있습니다. 이 계획은 미래 교통수단의 도입에 따른 도시의 변화에 대응하기 위한 것으로, 자율주행이 가장 가시화된 미래 교통기술로 자리잡고 있다는 점에 주목하고 있습니다.\\n\\n구체적으로, 서울시는 2040년까지 자율주행차량의 수송 분담률을 10%까지 끌어올리는 것을 목표로 하고 있으며, 도심 항공교통(UAM) 기반 시설도 확충할 예정입니다. 이를 위해 도심과 김포공항을 연결하는 시범노선을 운영하고, 한강과 주요 수변 공간을 중심으로 광역노선을 개발하는 계획도 포함되어 있습니다. 또한, 서울 전역에 모빌리티 허브를 구축하여 미래 교통과 기존 교통의 연계를 강화하고 다양한 기능이 복합적으로 제공되는 지역 거점을 마련할 예정입니다.\\n\\n이러한 계획은 서울의 미래 교통 환경을 선제적으로 준비하고, 안전하고 효율적인 교통체계 구축을 위한 도시 인프라의 확충을 목표로 하고 있습니다.', additional_kwargs={'refusal': None}, response_metadata={'token_usage': {'completion_tokens': 295, 'prompt_tokens': 1481, 'total_tokens': 1776, 'completion_tokens_details': {'accepted_prediction_tokens': 0, 'audio_tokens': 0, 'reasoning_tokens': 0, 'rejected_prediction_tokens': 0}, 'prompt_tokens_details': {'audio_tokens': 0, 'cached_tokens': 0}}, 'model_name': 'gpt-4o-mini-2024-07-18', 'system_fingerprint': 'fp_34a54ae93c', 'id': 'chatcmpl-C5B5joix6VJnOlvSfVgU0wLpxIhnn', 'service_tier': 'default', 'finish_reason': 'stop', 'logprobs': None}, id='run--e21c5836-14d4-4f44-a89a-39ca45867b8c-0', usage_metadata={'input_tokens': 1481, 'output_tokens': 295, 'total_tokens': 1776, 'input_token_details': {'audio': 0, 'cache_read': 0}, 'output_token_details': {'audio': 0, 'reasoning': 0}}),\n",
       " 'documents': [Document(id='8586f8e9-69cf-4244-8226-c5a696f4625f', metadata={'moddate': '2024-12-12T18:16:11+09:00', 'author': 'SI', 'source': './data/2040_seoul_plan.pdf', 'creationdate': '2024-12-12T18:16:11+09:00', 'pdfversion': '1.4', 'page_label': '62', 'total_pages': 205, 'page': 61, 'creator': 'Hwp 2020 11.0.0.5178', 'producer': 'Hancom PDF 1.3.0.542'}, page_content='54제2장 미래상과 목표\\n5. 기술발전에 선제적 대응, ‘미래교통 인프라 구축’1) 배경미래교통수단 도입에 따른 도시 활동 변화 및 공간구조 재편 대비Ÿ빠르게 진화하는 미래 신 교통수단은 도시공간에 새로운 변화를 일으킬 것이며, 도시 내 이동패턴의 변화를 가져올 것으로 예측된다. 이러한 점을 고려하여 도시 내 다양한 통행행태가 공존하는 포용적인 교통체계 구축을 준비해야 한다.미래교통수단 정착을 위한 도시 인프라 확충지원 필요Ÿ기존에 없던 새로운 교통은 통상 인프라 구축에 많은 시간이 소요되기 때문에 교통수단이 도입된 이후에 준비하기보다는 개발단계에서부터 이를 지원하기 위한 교통인프라 구축 구상이 요구되며, 새로운 도시 인프라 확충에 대한 도시계획적 지원이 필요하다.2) 추진전략자율주행 자동차 본격 운영 체계 구축Ÿ자율주행은 현재 제일 가시화되고 있는 미래 교통기술로 시장의 주도권을 확보하기 위해 각국의 노력이 집중되고 있다. 단계적으로 2030년까지 간선도로급 이상 도로에서 운영할 수 있는 도로 인프라 환경을 조성하고, 2040년까지 서울 전역 자율주행 운행 환경 구축을 목표로 한다.-2040년까지 서울 전역 자율주행차량의 운행 환경을 구축하고 수송 분담률 10%를 달성서울형 도심 항공교통 기반 마련 및 터미널 확충Ÿ도심에서 김포공항까지 시범노선을 운영하는 등 상용화 노선을 확보하고, 장기적으로 한강, 지천 등 주요 수변 공간 중심으로 광역노선을 확보한다. 또한 UAM 인프라 확보를 위한 인센티브 및 도시계획적인 지원 방안도 함께 검토한다.-UAM 시범노선을 운영하고, 한강 등 주요 수변 공간 중심에 단계적 광역노선을 확장서울 전역에 모빌리티 허브 구축Ÿ도심 및 광역거점에 서울 내부와 외부의 연계를 위한 미래 교통과 기존 교통을 연결하는 시설을 도입한다. 또한 교통뿐 아니라 공공서비스, 물류, 상업 등 다양한 기능들이 복합적으로 제공되는 지역 거점 모빌리티 허브를 서울 전역에 도입한다.'),\n",
       "  Document(id='637a8a25-c234-4534-aa4c-8a32e7f4dbc0', metadata={'source': './data/2040_seoul_plan.pdf', 'pdfversion': '1.4', 'moddate': '2024-12-12T18:16:11+09:00', 'total_pages': 205, 'creationdate': '2024-12-12T18:16:11+09:00', 'author': 'SI', 'page': 43, 'producer': 'Hancom PDF 1.3.0.542', 'page_label': '44', 'creator': 'Hwp 2020 11.0.0.5178'}, page_content='36제2장 미래상과 목표\\n6) 미래교통수단의 등장과 첨단 인프라 요구 증대자율주행, UAM 등 미래 교통에 공간적 대응방안 마련 필요Ÿ자율주행차량, 전동킥보드 등 교통 기술의 발전에 따라 새로운 교통환경이 조성되고 있음에도 불구하고, 이에 대한 정착 가이드라인이 없어, 위험한 교통 사고가 유발되고 있다.-최근 3년간 서울시에서 발생한 전동킥보드 관련 사고 대다수는 전동 킥보드와 차량 간 충돌 사고Ÿ안전하고 효율적인 기존-신규 교통수단의 조화를 도모하고, 이와 함께 발생할 도시공간구조 변화에 대비하기 위해 통합적인 교통수단 정착 가이드라인이 필요하다.7) 시가지 공간의 포화, 개발가용지의 부족새로운 도시공간에 대한 수요 대응과 성장동력 확보 한계Ÿ서울의 녹지지역을 제외한 대부분의 개발가용지는 고갈된 상태이며, 남은 공간은 주택공급을 위주로 개발하고 있다.-서울시에서 개발제한구역 25%를 제외하면 65%에 해당하는 시가화면적 366㎢ 중 미개발지는 거의 없는 상태Ÿ외연적 팽창이 아닌, 선택과 집중을 통한 콤팩트 시티로의 공간구조 재편을 지향하고 복합 개발을 통해 약해진 도시경쟁력 강화가 필요한 시점이다.8) 늙어가는 서울, 도시 정비의 정체에 따른 환경 악화정비사업 추진동력 저하, 쾌적한 도시환경에 대한 요구 증대Ÿ2038년 서울시 기반시설 노후화 비율은 2018년 대비 2.7배 급증, 1960~70년대 집중 조성된 기반시설의 노후화에 따른 시설 안전성 확보가 필요하다.-2040년, 서울 전체 주택 중 노후 물량 50%로 추정Ÿ때문에, 쾌적한 도시환경 구축을 위해서는 노후 기반시설로 인한 안전성 검토와 개선비용 증가에 따른 선제적인 대응이 필요하다.\\n[그림 2-19] 서울시 전동킥보드 사고 추이자료: 서울시 소방재난본부')]}"
      ]
     },
     "execution_count": 29,
     "metadata": {},
     "output_type": "execute_result"
    }
   ],
   "source": [
    "inputs = {\n",
    "    \"question\": \"서울시 자율주행 계획\"\n",
    "}\n",
    "\n",
    "app.invoke(inputs) # workflow를 실행합니다."
   ]
  },
  {
   "cell_type": "code",
   "execution_count": 30,
   "metadata": {},
   "outputs": [
    {
     "name": "stdout",
     "output_type": "stream",
     "text": [
      "------ROUTE------\n",
      "---Routing to casual_talk---\n",
      "------CASUAL TALK------\n"
     ]
    },
    {
     "data": {
      "text/plain": [
       "{'question': '잘 지내고 있어?',\n",
       " 'generation': AIMessage(content='네, 잘 지내고 있습니다! 당신은 어떻게 지내고 계신가요?', additional_kwargs={'refusal': None}, response_metadata={'token_usage': {'completion_tokens': 19, 'prompt_tokens': 13, 'total_tokens': 32, 'completion_tokens_details': {'accepted_prediction_tokens': 0, 'audio_tokens': 0, 'reasoning_tokens': 0, 'rejected_prediction_tokens': 0}, 'prompt_tokens_details': {'audio_tokens': 0, 'cached_tokens': 0}}, 'model_name': 'gpt-4o-mini-2024-07-18', 'system_fingerprint': 'fp_51db84afab', 'id': 'chatcmpl-C5B65JzQWQnTzHyPunarueiVHLgXR', 'service_tier': 'default', 'finish_reason': 'stop', 'logprobs': None}, id='run--ee52329c-adb7-4f24-9db7-5274cb646327-0', usage_metadata={'input_tokens': 13, 'output_tokens': 19, 'total_tokens': 32, 'input_token_details': {'audio': 0, 'cache_read': 0}, 'output_token_details': {'audio': 0, 'reasoning': 0}})}"
      ]
     },
     "execution_count": 30,
     "metadata": {},
     "output_type": "execute_result"
    }
   ],
   "source": [
    "inputs = {\n",
    "    \"question\": \"잘 지내고 있어?\"\n",
    "}\n",
    "\n",
    "app.invoke(inputs) # workflow를 실행합니다."
   ]
  },
  {
   "cell_type": "code",
   "execution_count": null,
   "metadata": {},
   "outputs": [],
   "source": []
  }
 ],
 "metadata": {
  "language_info": {
   "name": "python"
  }
 },
 "nbformat": 4,
 "nbformat_minor": 2
}
