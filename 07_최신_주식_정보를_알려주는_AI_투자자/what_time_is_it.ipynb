{
 "cells": [
  {
   "cell_type": "markdown",
   "metadata": {},
   "source": [
    "## 펑션 콜링 기초\n",
    "\n",
    "현재시간을 구하는 것을 해보면서 펑션 콜링에 대해서 알아보자"
   ]
  },
  {
   "cell_type": "code",
   "execution_count": 1,
   "metadata": {},
   "outputs": [],
   "source": [
    "from time_functions import get_current_time, tools \n",
    "from openai import OpenAI\n",
    "from dotenv import load_dotenv\n",
    "import os\n",
    "import json"
   ]
  },
  {
   "cell_type": "code",
   "execution_count": 2,
   "metadata": {},
   "outputs": [],
   "source": [
    "load_dotenv(dotenv_path=\"../.env\")\n",
    "api_key = os.getenv(\"OPENAI_API_KEY\")  # 환경 변수에서 API 키 가져오기\n",
    "\n",
    "client = OpenAI(api_key=api_key)  # 오픈AI 클라이언트의 인스턴스 생성"
   ]
  },
  {
   "cell_type": "code",
   "execution_count": 3,
   "metadata": {},
   "outputs": [],
   "source": [
    "def get_ai_response(messages, tools=None):\n",
    "    response = client.chat.completions.create(\n",
    "        model=\"gpt-4o\",  # 응답 생성에 사용할 모델 지정\n",
    "        messages=messages,  # 대화 기록을 입력으로 전달\n",
    "        tools=tools,  # 사용 가능한 도구 목록 전달\n",
    "    )\n",
    "    return response  # 생성된 응답 내용 반환"
   ]
  },
  {
   "cell_type": "code",
   "execution_count": 4,
   "metadata": {},
   "outputs": [
    {
     "name": "stdout",
     "output_type": "stream",
     "text": [
      "ChatCompletionMessage(content='죄송하지만, 현재 시각을 실시간으로 확인할 수 없습니다. 서울의 현재 시각을 확인하려면 인터넷 검색이나 스마트폰, 컴퓨터 등의 시계를 참고해 주세요.', refusal=None, role='assistant', annotations=[], audio=None, function_call=None, tool_calls=None)\n",
      "AI\t: 죄송하지만, 현재 시각을 실시간으로 확인할 수 없습니다. 서울의 현재 시각을 확인하려면 인터넷 검색이나 스마트폰, 컴퓨터 등의 시계를 참고해 주세요.\n"
     ]
    }
   ],
   "source": [
    "messages = [\n",
    "    {\"role\": \"system\", \"content\": \"너는 사용자를 도와주는 상담사야.\"},\n",
    "]\n",
    "\n",
    "user_input = \"서울은 지금 몇 시지?\"\n",
    "\n",
    "messages.append({\"role\": \"user\", \"content\": user_input})\n",
    "\n",
    "ai_response = get_ai_response(messages, tools=None)\n",
    "ai_message = ai_response.choices[0].message\n",
    "print(ai_message)\n",
    "\n",
    "print(\"AI\\t: \" + ai_message.content)"
   ]
  },
  {
   "cell_type": "markdown",
   "metadata": {},
   "source": [
    "### 펑션 콜링 해보기"
   ]
  },
  {
   "cell_type": "code",
   "execution_count": 5,
   "metadata": {},
   "outputs": [
    {
     "name": "stdout",
     "output_type": "stream",
     "text": [
      "ChatCompletionMessage(content=None, refusal=None, role='assistant', annotations=[], audio=None, function_call=None, tool_calls=[ChatCompletionMessageFunctionToolCall(id='call_J6LxYddMevtzzE6uYfmRUms9', function=Function(arguments='{\"timezone\":\"Asia/Seoul\"}', name='get_current_time'), type='function')])\n"
     ]
    },
    {
     "ename": "TypeError",
     "evalue": "can only concatenate str (not \"NoneType\") to str",
     "output_type": "error",
     "traceback": [
      "\u001b[31m---------------------------------------------------------------------------\u001b[39m",
      "\u001b[31mTypeError\u001b[39m                                 Traceback (most recent call last)",
      "\u001b[36mCell\u001b[39m\u001b[36m \u001b[39m\u001b[32mIn[5]\u001b[39m\u001b[32m, line 15\u001b[39m\n\u001b[32m     12\u001b[39m ai_message = ai_response.choices[\u001b[32m0\u001b[39m].message\n\u001b[32m     13\u001b[39m \u001b[38;5;28mprint\u001b[39m(ai_message)\n\u001b[32m---> \u001b[39m\u001b[32m15\u001b[39m \u001b[38;5;28mprint\u001b[39m(\u001b[33;43m\"\u001b[39;49m\u001b[33;43mAI\u001b[39;49m\u001b[38;5;130;43;01m\\t\u001b[39;49;00m\u001b[33;43m: \u001b[39;49m\u001b[33;43m\"\u001b[39;49m\u001b[43m \u001b[49m\u001b[43m+\u001b[49m\u001b[43m \u001b[49m\u001b[43mai_message\u001b[49m\u001b[43m.\u001b[49m\u001b[43mcontent\u001b[49m)\n",
      "\u001b[31mTypeError\u001b[39m: can only concatenate str (not \"NoneType\") to str"
     ]
    }
   ],
   "source": [
    "from time_functions import get_current_time, tools\n",
    "\n",
    "messages = [\n",
    "    {\"role\": \"system\", \"content\": \"너는 사용자를 도와주는 상담사야.\"},\n",
    "]\n",
    "\n",
    "user_input = \"서울은 지금 몇 시지?\"\n",
    "\n",
    "messages.append({\"role\": \"user\", \"content\": user_input})\n",
    "\n",
    "ai_response = get_ai_response(messages, tools=tools)\n",
    "ai_message = ai_response.choices[0].message\n",
    "print(ai_message)\n",
    "\n",
    "print(\"AI\\t: \" + ai_message.content)"
   ]
  },
  {
   "cell_type": "code",
   "execution_count": 10,
   "metadata": {},
   "outputs": [
    {
     "name": "stdout",
     "output_type": "stream",
     "text": [
      "ChatCompletionMessage(content=None, refusal=None, role='assistant', annotations=[], audio=None, function_call=None, tool_calls=[ChatCompletionMessageFunctionToolCall(id='call_W79eK70YPfQX7FQZ2i1FYgFN', function=Function(arguments='{\"timezone\":\"Asia/Seoul\"}', name='get_current_time'), type='function')])\n",
      "2025-08-14 22:33:27 Asia/Seoul\n",
      "AI\t: 현재 서울의 시간은 2025년 8월 14일 오후 10시 33분입니다.\n"
     ]
    }
   ],
   "source": [
    "from time_functions import get_current_time, tools\n",
    "\n",
    "messages = [\n",
    "    {\"role\": \"system\", \"content\": \"너는 사용자를 도와주는 상담사야.\"},\n",
    "]\n",
    "\n",
    "user_input = \"서울은 지금 몇 시지?\"\n",
    "\n",
    "messages.append({\"role\": \"user\", \"content\": user_input})\n",
    "\n",
    "ai_response = get_ai_response(messages, tools=tools)\n",
    "ai_message = ai_response.choices[0].message\n",
    "print(ai_message) # GPT 응답 확인용\n",
    "\n",
    "tool_calls = ai_message.tool_calls  # AI 응답에 포함된 tool_calls를 가져옵니다.\n",
    "if tool_calls:  # tool_calls가 있는 경우\n",
    "    for tool_call in tool_calls:\n",
    "        tool_name = tool_call.function.name # 실행해야한다고 판단한 함수명 받기\n",
    "        tool_call_id = tool_call.id         # tool_call 아이디 받기    \n",
    "        arguments = json.loads(tool_call.function.arguments) # (1) 문자열을 딕셔너리로 변환    \n",
    "        \n",
    "        if tool_name == \"get_current_time\":  # 만약 tool_name이 \"get_current_time\"이라면\n",
    "            messages.append({\n",
    "                \"role\": \"function\",  # role을 \"function\"으로 설정\n",
    "                \"tool_call_id\": tool_call_id,\n",
    "                \"name\": tool_name,\n",
    "                \"content\": get_current_time(timezone=arguments['timezone']),  # 타임존 추가\n",
    "            })\n",
    "    messages.append({\"role\": \"system\", \"content\": \"이제 주어진 결과를 바탕으로 답변할 차례다.\"})  # 함수 실행 완료 메시지 추가\n",
    "    ai_response = get_ai_response(messages, tools=tools) # 다시 GPT 응답 받기\n",
    "    ai_message = ai_response.choices[0].message\n",
    "\n",
    "messages.append(ai_message)  # AI 응답을 대화 기록에 추가하기\n",
    "\n",
    "print(\"AI\\t: \" + ai_message.content)"
   ]
  },
  {
   "cell_type": "code",
   "execution_count": null,
   "metadata": {},
   "outputs": [],
   "source": []
  }
 ],
 "metadata": {
  "language_info": {
   "name": "python"
  }
 },
 "nbformat": 4,
 "nbformat_minor": 2
}
