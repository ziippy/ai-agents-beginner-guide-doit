{
 "cells": [
  {
   "cell_type": "code",
   "execution_count": 1,
   "metadata": {},
   "outputs": [
    {
     "data": {
      "text/plain": [
       "True"
      ]
     },
     "execution_count": 1,
     "metadata": {},
     "output_type": "execute_result"
    }
   ],
   "source": [
    "import os\n",
    "from dotenv import load_dotenv\n",
    "load_dotenv(dotenv_path=\"../.env\")"
   ]
  },
  {
   "cell_type": "code",
   "execution_count": 3,
   "metadata": {},
   "outputs": [
    {
     "name": "stdout",
     "output_type": "stream",
     "text": [
      "Collecting langchain_ollama\n",
      "  Downloading langchain_ollama-0.3.6-py3-none-any.whl.metadata (2.1 kB)\n",
      "Collecting ollama<1.0.0,>=0.5.1 (from langchain_ollama)\n",
      "  Downloading ollama-0.5.3-py3-none-any.whl.metadata (4.3 kB)\n",
      "Requirement already satisfied: langchain-core<1.0.0,>=0.3.70 in /home/haiqv/conda/envs/agent-llm/lib/python3.11/site-packages (from langchain_ollama) (0.3.74)\n",
      "Requirement already satisfied: langsmith>=0.3.45 in /home/haiqv/conda/envs/agent-llm/lib/python3.11/site-packages (from langchain-core<1.0.0,>=0.3.70->langchain_ollama) (0.4.14)\n",
      "Requirement already satisfied: tenacity!=8.4.0,<10.0.0,>=8.1.0 in /home/haiqv/conda/envs/agent-llm/lib/python3.11/site-packages (from langchain-core<1.0.0,>=0.3.70->langchain_ollama) (9.1.2)\n",
      "Requirement already satisfied: jsonpatch<2.0,>=1.33 in /home/haiqv/conda/envs/agent-llm/lib/python3.11/site-packages (from langchain-core<1.0.0,>=0.3.70->langchain_ollama) (1.33)\n",
      "Requirement already satisfied: PyYAML>=5.3 in /home/haiqv/conda/envs/agent-llm/lib/python3.11/site-packages (from langchain-core<1.0.0,>=0.3.70->langchain_ollama) (6.0.2)\n",
      "Requirement already satisfied: typing-extensions>=4.7 in /home/haiqv/conda/envs/agent-llm/lib/python3.11/site-packages (from langchain-core<1.0.0,>=0.3.70->langchain_ollama) (4.14.1)\n",
      "Requirement already satisfied: packaging>=23.2 in /home/haiqv/conda/envs/agent-llm/lib/python3.11/site-packages (from langchain-core<1.0.0,>=0.3.70->langchain_ollama) (25.0)\n",
      "Requirement already satisfied: pydantic>=2.7.4 in /home/haiqv/conda/envs/agent-llm/lib/python3.11/site-packages (from langchain-core<1.0.0,>=0.3.70->langchain_ollama) (2.11.7)\n",
      "Requirement already satisfied: jsonpointer>=1.9 in /home/haiqv/conda/envs/agent-llm/lib/python3.11/site-packages (from jsonpatch<2.0,>=1.33->langchain-core<1.0.0,>=0.3.70->langchain_ollama) (3.0.0)\n",
      "Requirement already satisfied: httpx>=0.27 in /home/haiqv/conda/envs/agent-llm/lib/python3.11/site-packages (from ollama<1.0.0,>=0.5.1->langchain_ollama) (0.28.1)\n",
      "Requirement already satisfied: anyio in /home/haiqv/conda/envs/agent-llm/lib/python3.11/site-packages (from httpx>=0.27->ollama<1.0.0,>=0.5.1->langchain_ollama) (4.10.0)\n",
      "Requirement already satisfied: certifi in /home/haiqv/conda/envs/agent-llm/lib/python3.11/site-packages (from httpx>=0.27->ollama<1.0.0,>=0.5.1->langchain_ollama) (2025.8.3)\n",
      "Requirement already satisfied: httpcore==1.* in /home/haiqv/conda/envs/agent-llm/lib/python3.11/site-packages (from httpx>=0.27->ollama<1.0.0,>=0.5.1->langchain_ollama) (1.0.9)\n",
      "Requirement already satisfied: idna in /home/haiqv/conda/envs/agent-llm/lib/python3.11/site-packages (from httpx>=0.27->ollama<1.0.0,>=0.5.1->langchain_ollama) (3.10)\n",
      "Requirement already satisfied: h11>=0.16 in /home/haiqv/conda/envs/agent-llm/lib/python3.11/site-packages (from httpcore==1.*->httpx>=0.27->ollama<1.0.0,>=0.5.1->langchain_ollama) (0.16.0)\n",
      "Requirement already satisfied: orjson>=3.9.14 in /home/haiqv/conda/envs/agent-llm/lib/python3.11/site-packages (from langsmith>=0.3.45->langchain-core<1.0.0,>=0.3.70->langchain_ollama) (3.11.2)\n",
      "Requirement already satisfied: requests-toolbelt>=1.0.0 in /home/haiqv/conda/envs/agent-llm/lib/python3.11/site-packages (from langsmith>=0.3.45->langchain-core<1.0.0,>=0.3.70->langchain_ollama) (1.0.0)\n",
      "Requirement already satisfied: requests>=2.0.0 in /home/haiqv/conda/envs/agent-llm/lib/python3.11/site-packages (from langsmith>=0.3.45->langchain-core<1.0.0,>=0.3.70->langchain_ollama) (2.32.4)\n",
      "Requirement already satisfied: zstandard>=0.23.0 in /home/haiqv/conda/envs/agent-llm/lib/python3.11/site-packages (from langsmith>=0.3.45->langchain-core<1.0.0,>=0.3.70->langchain_ollama) (0.23.0)\n",
      "Requirement already satisfied: annotated-types>=0.6.0 in /home/haiqv/conda/envs/agent-llm/lib/python3.11/site-packages (from pydantic>=2.7.4->langchain-core<1.0.0,>=0.3.70->langchain_ollama) (0.7.0)\n",
      "Requirement already satisfied: pydantic-core==2.33.2 in /home/haiqv/conda/envs/agent-llm/lib/python3.11/site-packages (from pydantic>=2.7.4->langchain-core<1.0.0,>=0.3.70->langchain_ollama) (2.33.2)\n",
      "Requirement already satisfied: typing-inspection>=0.4.0 in /home/haiqv/conda/envs/agent-llm/lib/python3.11/site-packages (from pydantic>=2.7.4->langchain-core<1.0.0,>=0.3.70->langchain_ollama) (0.4.1)\n",
      "Requirement already satisfied: charset_normalizer<4,>=2 in /home/haiqv/conda/envs/agent-llm/lib/python3.11/site-packages (from requests>=2.0.0->langsmith>=0.3.45->langchain-core<1.0.0,>=0.3.70->langchain_ollama) (3.4.3)\n",
      "Requirement already satisfied: urllib3<3,>=1.21.1 in /home/haiqv/conda/envs/agent-llm/lib/python3.11/site-packages (from requests>=2.0.0->langsmith>=0.3.45->langchain-core<1.0.0,>=0.3.70->langchain_ollama) (2.5.0)\n",
      "Requirement already satisfied: sniffio>=1.1 in /home/haiqv/conda/envs/agent-llm/lib/python3.11/site-packages (from anyio->httpx>=0.27->ollama<1.0.0,>=0.5.1->langchain_ollama) (1.3.1)\n",
      "Downloading langchain_ollama-0.3.6-py3-none-any.whl (24 kB)\n",
      "Downloading ollama-0.5.3-py3-none-any.whl (13 kB)\n",
      "Installing collected packages: ollama, langchain_ollama\n",
      "\u001b[2K   \u001b[90m━━━━━━━━━━━━━━━━━━━━━━━━━━━━━━━━━━━━━━━━\u001b[0m \u001b[32m2/2\u001b[0m [langchain_ollama]\n",
      "\u001b[1A\u001b[2KSuccessfully installed langchain_ollama-0.3.6 ollama-0.5.3\n"
     ]
    }
   ],
   "source": [
    "!pip install langchain_ollama"
   ]
  },
  {
   "cell_type": "code",
   "execution_count": 4,
   "metadata": {},
   "outputs": [],
   "source": [
    "# from langchain_openai import ChatOpenAI\n",
    "from langchain_ollama import ChatOllama\n",
    "from langchain_core.messages import HumanMessage, AIMessage, SystemMessage"
   ]
  },
  {
   "cell_type": "code",
   "execution_count": 11,
   "metadata": {},
   "outputs": [],
   "source": [
    "# llm = ChatOllama(model=\"deepseek-r1:14b\") \n",
    "llm = ChatOllama(model=\"deepseek-r1:14b\", base_url=\"http://serving-deepseek.ns-1:11434\")"
   ]
  },
  {
   "cell_type": "code",
   "execution_count": 6,
   "metadata": {},
   "outputs": [],
   "source": [
    "messages = [\n",
    "    SystemMessage(\"너는 사용자를 도와주는 상담사야.\"),\n",
    "]"
   ]
  },
  {
   "cell_type": "code",
   "execution_count": 12,
   "metadata": {},
   "outputs": [
    {
     "name": "stdout",
     "output_type": "stream",
     "text": [
      "<think>\n",
      "Alright, the user is reaching out to talk, so I should respond in a friendly and open way. They mentioned their feelings three times, so maybe they're looking for someone to listen.\n",
      "\n",
      "I'll acknowledge their message warmly and express that I'm here to help with whatever they need. It's important to make them feel comfortable and encourage them to share more.\n",
      "\n",
      "Let me keep it simple and inviting, showing empathy and readiness to assist.\n",
      "</think>\n",
      "\n",
      "안녕! 오늘 기분이 어때? 무슨 일이 있거나 도와만 needing인가요? 언제든지 이야기를 들어줄게요.\n"
     ]
    }
   ],
   "source": [
    "messages.append( \n",
    "    HumanMessage(\"안녕? 나는 너와 대화하고 싶어. 오늘 기분이 어때?\")\n",
    ")  \n",
    "\n",
    "response = llm.stream(messages)\n",
    "ai_message = None\n",
    "for chunk in response:\n",
    "    print(chunk.content, end=\"\")\n",
    "    if ai_message is None:\n",
    "        ai_message = chunk\n",
    "    else:\n",
    "        ai_message += chunk\n",
    "print('')"
   ]
  },
  {
   "cell_type": "code",
   "execution_count": null,
   "metadata": {},
   "outputs": [],
   "source": []
  }
 ],
 "metadata": {
  "language_info": {
   "name": "python"
  }
 },
 "nbformat": 4,
 "nbformat_minor": 2
}
