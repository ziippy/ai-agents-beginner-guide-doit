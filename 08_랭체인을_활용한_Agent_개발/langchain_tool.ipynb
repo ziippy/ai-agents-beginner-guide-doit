{
 "cells": [
  {
   "cell_type": "markdown",
   "metadata": {},
   "source": [
    "### 랭체인 도구로 에이전트 만들기"
   ]
  },
  {
   "cell_type": "code",
   "execution_count": 1,
   "metadata": {},
   "outputs": [],
   "source": [
    "import os\n",
    "from dotenv import load_dotenv\n",
    "\n",
    "load_dotenv(dotenv_path=\"../.env\")\n",
    "api_key = os.getenv(\"OPENAI_API_KEY\")  # 환경 변수에서 API 키 가져오기"
   ]
  },
  {
   "cell_type": "code",
   "execution_count": 3,
   "metadata": {},
   "outputs": [
    {
     "data": {
      "text/plain": [
       "AIMessage(content='네, 잘 지냈어요. 감사합니다! 어떻게 지내셨나요?', additional_kwargs={'refusal': None}, response_metadata={'token_usage': {'completion_tokens': 15, 'prompt_tokens': 12, 'total_tokens': 27, 'completion_tokens_details': {'accepted_prediction_tokens': 0, 'audio_tokens': 0, 'reasoning_tokens': 0, 'rejected_prediction_tokens': 0}, 'prompt_tokens_details': {'audio_tokens': 0, 'cached_tokens': 0}}, 'model_name': 'gpt-4o-2024-08-06', 'system_fingerprint': 'fp_46bff0e0c8', 'id': 'chatcmpl-C4kvPLL3EK1Bb5ksICg6m75HeIwDm', 'service_tier': 'default', 'finish_reason': 'stop', 'logprobs': None}, id='run--9fda1f4c-b15f-4792-9241-856a90fa6389-0', usage_metadata={'input_tokens': 12, 'output_tokens': 15, 'total_tokens': 27, 'input_token_details': {'audio': 0, 'cache_read': 0}, 'output_token_details': {'audio': 0, 'reasoning': 0}})"
      ]
     },
     "execution_count": 3,
     "metadata": {},
     "output_type": "execute_result"
    }
   ],
   "source": [
    "from langchain_openai import ChatOpenAI\n",
    "from langchain_core.messages import HumanMessage\n",
    "llm = ChatOpenAI(model=\"gpt-4o\")\n",
    "\n",
    "llm.invoke([HumanMessage(\"잘 지냈어?\")])"
   ]
  },
  {
   "cell_type": "code",
   "execution_count": 4,
   "metadata": {},
   "outputs": [],
   "source": [
    "from langchain_core.tools import tool\n",
    "from datetime import datetime\n",
    "import pytz\n",
    "\n",
    "@tool # @tool 데코레이터를 사용하여 함수를 도구로 등록\n",
    "def get_current_time(timezone: str, location: str) -> str:\n",
    "    \"\"\" 현재 시각을 반환하는 함수\n",
    "\n",
    "    Args:\n",
    "        timezone (str): 타임존 (예: 'Asia/Seoul') 실제 존재하는 타임존이어야 함\n",
    "        location (str): 지역명. 타임존이 모든 지명에 대응되지 않기 때문에 이후 llm 답변 생성에 사용됨\n",
    "    \"\"\"\n",
    "    tz = pytz.timezone(timezone)\n",
    "    now = datetime.now(tz).strftime(\"%Y-%m-%d %H:%M:%S\")\n",
    "    location_and_local_time = f'{timezone} ({location}) 현재시각 {now} ' # 타임존, 지역명, 현재시각을 문자열로 반환\n",
    "    print(location_and_local_time)\n",
    "    return location_and_local_time"
   ]
  },
  {
   "cell_type": "code",
   "execution_count": 5,
   "metadata": {},
   "outputs": [],
   "source": [
    "# .bind_tools() 메서드를 사용하여 도구를 LLM에 바인딩\n",
    "\n",
    "# 도구를 tools 리스트에 추가하고, tool_dict에도 추가\n",
    "tools = [get_current_time,]\n",
    "tool_dict = {\"get_current_time\": get_current_time,}\n",
    "\n",
    "# 도구를 모델에 바인딩: 모델에 도구를 바인딩하면, 도구를 사용하여 llm 답변을 생성할 수 있음\n",
    "llm_with_tools = llm.bind_tools(tools)"
   ]
  },
  {
   "cell_type": "code",
   "execution_count": 6,
   "metadata": {},
   "outputs": [
    {
     "name": "stdout",
     "output_type": "stream",
     "text": [
      "[SystemMessage(content='당신은 현재 시각을 알려주는 도구를 사용할 수 있는 AI 어시스턴트입니다. 사용자가 요청한 타임존과 지역명에 따라 현재 시각을 반환하세요.', additional_kwargs={}, response_metadata={}), HumanMessage(content='서울의 현재 시각을 알려줘.', additional_kwargs={}, response_metadata={}), AIMessage(content='', additional_kwargs={'tool_calls': [{'id': 'call_ZVvYLJhhk98pmVYJyyjkttJN', 'function': {'arguments': '{\"timezone\":\"Asia/Seoul\",\"location\":\"서울\"}', 'name': 'get_current_time'}, 'type': 'function'}], 'refusal': None}, response_metadata={'token_usage': {'completion_tokens': 22, 'prompt_tokens': 161, 'total_tokens': 183, 'completion_tokens_details': {'accepted_prediction_tokens': 0, 'audio_tokens': 0, 'reasoning_tokens': 0, 'rejected_prediction_tokens': 0}, 'prompt_tokens_details': {'audio_tokens': 0, 'cached_tokens': 0}}, 'model_name': 'gpt-4o-2024-08-06', 'system_fingerprint': 'fp_ea40d5097a', 'id': 'chatcmpl-C4ky12LYGFcDe3WzuNR65qnBIVSAW', 'service_tier': 'default', 'finish_reason': 'tool_calls', 'logprobs': None}, id='run--06806981-f017-4fdf-8ef7-572965c92606-0', tool_calls=[{'name': 'get_current_time', 'args': {'timezone': 'Asia/Seoul', 'location': '서울'}, 'id': 'call_ZVvYLJhhk98pmVYJyyjkttJN', 'type': 'tool_call'}], usage_metadata={'input_tokens': 161, 'output_tokens': 22, 'total_tokens': 183, 'input_token_details': {'audio': 0, 'cache_read': 0}, 'output_token_details': {'audio': 0, 'reasoning': 0}})]\n"
     ]
    }
   ],
   "source": [
    "from langchain_core.messages import SystemMessage\n",
    "\n",
    "messages = [\n",
    "    SystemMessage(\n",
    "        content=\"당신은 현재 시각을 알려주는 도구를 사용할 수 있는 AI 어시스턴트입니다. \"\n",
    "                \"사용자가 요청한 타임존과 지역명에 따라 현재 시각을 반환하세요.\"\n",
    "    ),\n",
    "    HumanMessage(\n",
    "        content=\"서울의 현재 시각을 알려줘.\"\n",
    "    )\n",
    "]\n",
    "\n",
    "response = llm_with_tools.invoke(messages)\n",
    "messages.append(response)\n",
    "\n",
    "print(messages)"
   ]
  },
  {
   "cell_type": "code",
   "execution_count": 16,
   "metadata": {},
   "outputs": [
    {
     "name": "stdout",
     "output_type": "stream",
     "text": [
      "get_current_time  >>>  {'timezone': 'Asia/Seoul', 'location': '서울'}\n",
      "Asia/Seoul (서울) 현재시각 2025-08-15 18:33:20 \n",
      "get_current_time  >>>  {'timezone': 'America/New_York', 'location': '뉴욕'}\n",
      "America/New_York (뉴욕) 현재시각 2025-08-15 05:33:20 \n",
      "[SystemMessage(content='너는 사용자의 질문에 답변을 하기 위해 tools를 사용할 수 있다.', additional_kwargs={}, response_metadata={}), HumanMessage(content='서울과 뉴욕은 지금 몇시야?', additional_kwargs={}, response_metadata={}), AIMessage(content='', additional_kwargs={'tool_calls': [{'id': 'call_IHjqXfn0ScgEWWQb49mthzQF', 'function': {'arguments': '{\"timezone\": \"Asia/Seoul\", \"location\": \"서울\"}', 'name': 'get_current_time'}, 'type': 'function'}, {'id': 'call_mhsHmRrP899KmbEfNvmQjnDR', 'function': {'arguments': '{\"timezone\": \"America/New_York\", \"location\": \"뉴욕\"}', 'name': 'get_current_time'}, 'type': 'function'}], 'refusal': None}, response_metadata={'token_usage': {'completion_tokens': 61, 'prompt_tokens': 137, 'total_tokens': 198, 'completion_tokens_details': {'accepted_prediction_tokens': 0, 'audio_tokens': 0, 'reasoning_tokens': 0, 'rejected_prediction_tokens': 0}, 'prompt_tokens_details': {'audio_tokens': 0, 'cached_tokens': 0}}, 'model_name': 'gpt-4o-2024-08-06', 'system_fingerprint': 'fp_46bff0e0c8', 'id': 'chatcmpl-C4l6FMGi3CF6BmmXcatEMGJDOKyJN', 'service_tier': 'default', 'finish_reason': 'tool_calls', 'logprobs': None}, id='run--aa1370ef-ace6-4949-a87f-4f035562b8b8-0', tool_calls=[{'name': 'get_current_time', 'args': {'timezone': 'Asia/Seoul', 'location': '서울'}, 'id': 'call_IHjqXfn0ScgEWWQb49mthzQF', 'type': 'tool_call'}, {'name': 'get_current_time', 'args': {'timezone': 'America/New_York', 'location': '뉴욕'}, 'id': 'call_mhsHmRrP899KmbEfNvmQjnDR', 'type': 'tool_call'}], usage_metadata={'input_tokens': 137, 'output_tokens': 61, 'total_tokens': 198, 'input_token_details': {'audio': 0, 'cache_read': 0}, 'output_token_details': {'audio': 0, 'reasoning': 0}}), ToolMessage(content='Asia/Seoul (서울) 현재시각 2025-08-15 18:33:20 ', name='get_current_time', tool_call_id='call_IHjqXfn0ScgEWWQb49mthzQF'), ToolMessage(content='America/New_York (뉴욕) 현재시각 2025-08-15 05:33:20 ', name='get_current_time', tool_call_id='call_mhsHmRrP899KmbEfNvmQjnDR')]\n"
     ]
    }
   ],
   "source": [
    "from langchain_core.messages import SystemMessage\n",
    "\n",
    "messages = [\n",
    "    SystemMessage(\"너는 사용자의 질문에 답변을 하기 위해 tools를 사용할 수 있다.\"),\n",
    "    HumanMessage(\"서울과 뉴욕은 지금 몇시야?\"),\n",
    "]\n",
    "\n",
    "response = llm_with_tools.invoke(messages)\n",
    "messages.append(response)\n",
    "\n",
    "for tool_call in response.tool_calls:\n",
    "    selected_tool = tool_dict[tool_call[\"name\"]] # (7) tool_dict를 사용하여 도구 함수를 선택\n",
    "    print(selected_tool.name, ' >>> ', tool_call[\"args\"]) # (8) 도구 호출 시 전달된 인자 출력\n",
    "    tool_msg = selected_tool.invoke(tool_call) # (9) 도구 함수를 호출하여 결과를 반환\n",
    "    messages.append(tool_msg)\n",
    "    \n",
    "print(messages)"
   ]
  },
  {
   "cell_type": "code",
   "execution_count": 17,
   "metadata": {},
   "outputs": [
    {
     "data": {
      "text/plain": [
       "AIMessage(content='지금 서울은 2025년 8월 15일 18시 33분이고, 뉴욕은 같은 날 5시 33분입니다.', additional_kwargs={'refusal': None}, response_metadata={'token_usage': {'completion_tokens': 36, 'prompt_tokens': 285, 'total_tokens': 321, 'completion_tokens_details': {'accepted_prediction_tokens': 0, 'audio_tokens': 0, 'reasoning_tokens': 0, 'rejected_prediction_tokens': 0}, 'prompt_tokens_details': {'audio_tokens': 0, 'cached_tokens': 0}}, 'model_name': 'gpt-4o-2024-08-06', 'system_fingerprint': 'fp_46bff0e0c8', 'id': 'chatcmpl-C4l6JPXBajgcn3etoJjHdgSC18Upv', 'service_tier': 'default', 'finish_reason': 'stop', 'logprobs': None}, id='run--867d37b1-1811-49af-b3cd-df4112d2a94f-0', usage_metadata={'input_tokens': 285, 'output_tokens': 36, 'total_tokens': 321, 'input_token_details': {'audio': 0, 'cache_read': 0}, 'output_token_details': {'audio': 0, 'reasoning': 0}})"
      ]
     },
     "execution_count": 17,
     "metadata": {},
     "output_type": "execute_result"
    }
   ],
   "source": [
    "llm_with_tools.invoke(messages)  # (10) 도구 호출 결과를 포함한 메시지를 LLM에 전달하여 최종 응답 생성"
   ]
  },
  {
   "cell_type": "markdown",
   "metadata": {},
   "source": [
    "### 파이단틱(pydantic) 이용하기\n",
    "\n",
    "pydantic은 입력된 데이터의 유효성과 형식을 검증하고 특정 데이터 형식으로 명확하게 표현할 때 사용하는 라이브러리입니다.\n",
    "\n",
    "07 장의 get_yf_stock_history 함수에 사용되는 ticker 와 period 를 매개변수로 받는데,  \n",
    "이를 pydantic의 BaseModel 과 Field 를 이용해 더욱 명확하게 정의할 수 있다."
   ]
  },
  {
   "cell_type": "code",
   "execution_count": 18,
   "metadata": {},
   "outputs": [],
   "source": [
    "from pydantic import BaseModel, Field\n",
    "\n",
    "class StockHistoryInput(BaseModel):\n",
    "    ticker: str = Field(..., title=\"주식 코드\", description=\"주식 코드 (예: AAPL)\")\n",
    "    period: str = Field(..., title=\"기간\", description=\"주식 데이터 조회 기간 (예: 1d, 1mo, 1y)\")"
   ]
  },
  {
   "cell_type": "code",
   "execution_count": 24,
   "metadata": {},
   "outputs": [
    {
     "name": "stdout",
     "output_type": "stream",
     "text": [
      "content='' additional_kwargs={'tool_calls': [{'id': 'call_rXVV61A8qOtJdL6pkrEdFtTH', 'function': {'arguments': '{\"stock_history_input\":{\"ticker\":\"TSLA\",\"period\":\"1mo\"}}', 'name': 'get_yf_stock_history'}, 'type': 'function'}], 'refusal': None} response_metadata={'token_usage': {'completion_tokens': 27, 'prompt_tokens': 215, 'total_tokens': 242, 'completion_tokens_details': {'accepted_prediction_tokens': 0, 'audio_tokens': 0, 'reasoning_tokens': 0, 'rejected_prediction_tokens': 0}, 'prompt_tokens_details': {'audio_tokens': 0, 'cached_tokens': 0}}, 'model_name': 'gpt-4o-2024-08-06', 'system_fingerprint': 'fp_46bff0e0c8', 'id': 'chatcmpl-C4n4U2ZZeB57slTdTbvV9cDBBEskR', 'service_tier': 'default', 'finish_reason': 'tool_calls', 'logprobs': None} id='run--005c8c80-ed9f-421e-af8a-3cbc960e1a46-0' tool_calls=[{'name': 'get_yf_stock_history', 'args': {'stock_history_input': {'ticker': 'TSLA', 'period': '1mo'}}, 'id': 'call_rXVV61A8qOtJdL6pkrEdFtTH', 'type': 'tool_call'}] usage_metadata={'input_tokens': 215, 'output_tokens': 27, 'total_tokens': 242, 'input_token_details': {'audio': 0, 'cache_read': 0}, 'output_token_details': {'audio': 0, 'reasoning': 0}}\n",
      "get_yf_stock_history  >>>  {'stock_history_input': {'ticker': 'TSLA', 'period': '1mo'}}\n",
      "content='| Date                      |   Open |   High |    Low |   Close |      Volume |   Dividends |   Stock Splits |\\n|:--------------------------|-------:|-------:|-------:|--------:|------------:|------------:|---------------:|\\n| 2025-07-15 00:00:00-04:00 | 319.68 | 321.2  | 310.5  |  310.78 | 7.75563e+07 |           0 |              0 |\\n| 2025-07-16 00:00:00-04:00 | 312.8  | 323.5  | 312.62 |  321.67 | 9.72848e+07 |           0 |              0 |\\n| 2025-07-17 00:00:00-04:00 | 323.15 | 324.34 | 317.06 |  319.41 | 7.39229e+07 |           0 |              0 |\\n| 2025-07-18 00:00:00-04:00 | 321.66 | 330.9  | 321.42 |  329.65 | 9.4255e+07  |           0 |              0 |\\n| 2025-07-21 00:00:00-04:00 | 334.4  | 338    | 326.88 |  328.49 | 7.57688e+07 |           0 |              0 |\\n| 2025-07-22 00:00:00-04:00 | 329.74 | 335.41 | 321.55 |  332.11 | 7.73704e+07 |           0 |              0 |\\n| 2025-07-23 00:00:00-04:00 | 330.9  | 336.2  | 328.67 |  332.56 | 9.25538e+07 |           0 |              0 |\\n| 2025-07-24 00:00:00-04:00 | 310    | 310.15 | 300.41 |  305.3  | 1.56966e+08 |           0 |              0 |\\n| 2025-07-25 00:00:00-04:00 | 308.74 | 323.63 | 308.01 |  316.06 | 1.48227e+08 |           0 |              0 |\\n| 2025-07-28 00:00:00-04:00 | 318.45 | 330.49 | 315.69 |  325.59 | 1.12674e+08 |           0 |              0 |\\n| 2025-07-29 00:00:00-04:00 | 325.55 | 326.25 | 318.25 |  321.2  | 8.73589e+07 |           0 |              0 |\\n| 2025-07-30 00:00:00-04:00 | 322.18 | 324.45 | 311.62 |  319.04 | 8.39319e+07 |           0 |              0 |\\n| 2025-07-31 00:00:00-04:00 | 319.61 | 321.37 | 306.1  |  308.27 | 8.52709e+07 |           0 |              0 |\\n| 2025-08-01 00:00:00-04:00 | 306.21 | 309.31 | 297.82 |  302.63 | 8.91214e+07 |           0 |              0 |\\n| 2025-08-04 00:00:00-04:00 | 309.08 | 312.12 | 303    |  309.26 | 7.86839e+07 |           0 |              0 |\\n| 2025-08-05 00:00:00-04:00 | 308.95 | 312.45 | 305.5  |  308.72 | 5.79613e+07 |           0 |              0 |\\n| 2025-08-06 00:00:00-04:00 | 307.89 | 320.47 | 306.93 |  319.91 | 7.85236e+07 |           0 |              0 |\\n| 2025-08-07 00:00:00-04:00 | 319.79 | 322.4  | 316.16 |  322.27 | 6.66587e+07 |           0 |              0 |\\n| 2025-08-08 00:00:00-04:00 | 321.43 | 335.15 | 320.98 |  329.65 | 9.12003e+07 |           0 |              0 |\\n| 2025-08-11 00:00:00-04:00 | 335    | 346.64 | 334.15 |  339.03 | 1.0532e+08  |           0 |              0 |\\n| 2025-08-12 00:00:00-04:00 | 345    | 345.26 | 332.94 |  340.84 | 8.05221e+07 |           0 |              0 |\\n| 2025-08-13 00:00:00-04:00 | 341.5  | 348.98 | 338.2  |  339.38 | 6.78389e+07 |           0 |              0 |\\n| 2025-08-14 00:00:00-04:00 | 335.76 | 340.47 | 330.4  |  335.58 | 7.48122e+07 |           0 |              0 |' name='get_yf_stock_history' tool_call_id='call_rXVV61A8qOtJdL6pkrEdFtTH'\n"
     ]
    }
   ],
   "source": [
    "import yfinance as yf\n",
    "\n",
    "# def get_yf_stock_history(ticker: str, period: str):\n",
    "#     stock = yf.Ticker(ticker)\n",
    "#     history = stock.history(period=period)\n",
    "#     history_md = history.to_markdown() # 데이터프레임을 마크다운 형식으로 변환\n",
    "#     print(history_md)\n",
    "#     return history_md\n",
    "\n",
    "@tool\n",
    "def get_yf_stock_history(stock_history_input: StockHistoryInput):\n",
    "    \"\"\" 주식 종목의 가격 데이터를 조회하는 함수 \"\"\"\n",
    "    stock = yf.Ticker(stock_history_input.ticker)\n",
    "    history = stock.history(period=stock_history_input.period)\n",
    "    history_md = history.to_markdown() # 데이터프레임을 마크다운 형식으로 변환\n",
    "    # print(history_md)\n",
    "    return history_md\n",
    "\n",
    "llm = ChatOpenAI(model=\"gpt-4o\")\n",
    "\n",
    "# 도구를 tools 리스트에 추가하고, tool_dict에도 추가\n",
    "tools = [get_current_time, get_yf_stock_history,]\n",
    "tool_dict = {\"get_current_time\": get_current_time, \"get_yf_stock_history\": get_yf_stock_history,}\n",
    "\n",
    "# 도구를 모델에 바인딩: 모델에 도구를 바인딩하면, 도구를 사용하여 llm 답변을 생성할 수 있음\n",
    "llm_with_tools = llm.bind_tools(tools)\n",
    "\n",
    "messages = [\n",
    "    SystemMessage(\"너는 사용자의 질문에 답변을 하기 위해 tools를 사용할 수 있다.\")\n",
    "]\n",
    "\n",
    "# messages.append(HumanMessage(\"서울과 뉴욕은 지금 몇시야?\"))\n",
    "# response = llm_with_tools.invoke(messages)\n",
    "# print(response)\n",
    "\n",
    "# messages.append(response)\n",
    "\n",
    "messages.append(HumanMessage(\"테슬라는 한 달 전에 비해 주가가 올랐나? 내렸나?\"))\n",
    "response = llm_with_tools.invoke(messages)\n",
    "print(response)\n",
    "\n",
    "messages.append(response)\n",
    "\n",
    "for tool_call in response.tool_calls:\n",
    "    selected_tool = tool_dict[tool_call[\"name\"]] # (7) tool_dict를 사용하여 도구 함수를 선택\n",
    "    print(selected_tool.name, ' >>> ', tool_call[\"args\"]) # (8) 도구 호출 시 전달된 인자 출력\n",
    "    tool_msg = selected_tool.invoke(tool_call) # (9) 도구 함수를 호출하여 결과를 반환\n",
    "    print(tool_msg)  # 도구 호출 결과 출력 \n",
    "    messages.append(tool_msg)\n"
   ]
  },
  {
   "cell_type": "code",
   "execution_count": 25,
   "metadata": {},
   "outputs": [
    {
     "data": {
      "text/plain": [
       "AIMessage(content='한 달 전 테슬라의 종가가 $310.78이었고, 어제의 종가는 $335.58입니다. 따라서 지난 한 달 동안 테슬라의 주가는 상승하였습니다.', additional_kwargs={'refusal': None}, response_metadata={'token_usage': {'completion_tokens': 45, 'prompt_tokens': 1632, 'total_tokens': 1677, 'completion_tokens_details': {'accepted_prediction_tokens': 0, 'audio_tokens': 0, 'reasoning_tokens': 0, 'rejected_prediction_tokens': 0}, 'prompt_tokens_details': {'audio_tokens': 0, 'cached_tokens': 0}}, 'model_name': 'gpt-4o-2024-08-06', 'system_fingerprint': 'fp_46bff0e0c8', 'id': 'chatcmpl-C4n4pbUfxovEHixKYXiCshvj47J4m', 'service_tier': 'default', 'finish_reason': 'stop', 'logprobs': None}, id='run--c121c439-c26d-441e-a899-121906c61017-0', usage_metadata={'input_tokens': 1632, 'output_tokens': 45, 'total_tokens': 1677, 'input_token_details': {'audio': 0, 'cache_read': 0}, 'output_token_details': {'audio': 0, 'reasoning': 0}})"
      ]
     },
     "execution_count": 25,
     "metadata": {},
     "output_type": "execute_result"
    }
   ],
   "source": [
    "llm_with_tools.invoke(messages)  # (10) 도구 호출 결과를 포함한 메시지를 LLM에 전달하여 최종 응답 생성"
   ]
  },
  {
   "cell_type": "code",
   "execution_count": null,
   "metadata": {},
   "outputs": [],
   "source": []
  }
 ],
 "metadata": {
  "language_info": {
   "name": "python"
  }
 },
 "nbformat": 4,
 "nbformat_minor": 2
}
