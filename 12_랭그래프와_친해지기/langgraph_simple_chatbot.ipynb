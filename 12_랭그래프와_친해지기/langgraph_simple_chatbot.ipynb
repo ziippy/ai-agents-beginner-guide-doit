{
 "cells": [
  {
   "cell_type": "code",
   "execution_count": 1,
   "metadata": {},
   "outputs": [
    {
     "name": "stdout",
     "output_type": "stream",
     "text": [
      "Requirement already satisfied: langgraph in /home/haiqv/conda/envs/agent-llm/lib/python3.11/site-packages (0.6.5)\n",
      "Requirement already satisfied: langchain-core>=0.1 in /home/haiqv/conda/envs/agent-llm/lib/python3.11/site-packages (from langgraph) (0.3.74)\n",
      "Requirement already satisfied: langgraph-checkpoint<3.0.0,>=2.1.0 in /home/haiqv/conda/envs/agent-llm/lib/python3.11/site-packages (from langgraph) (2.1.1)\n",
      "Requirement already satisfied: langgraph-prebuilt<0.7.0,>=0.6.0 in /home/haiqv/conda/envs/agent-llm/lib/python3.11/site-packages (from langgraph) (0.6.4)\n",
      "Requirement already satisfied: langgraph-sdk<0.3.0,>=0.2.0 in /home/haiqv/conda/envs/agent-llm/lib/python3.11/site-packages (from langgraph) (0.2.0)\n",
      "Requirement already satisfied: pydantic>=2.7.4 in /home/haiqv/conda/envs/agent-llm/lib/python3.11/site-packages (from langgraph) (2.11.7)\n",
      "Requirement already satisfied: xxhash>=3.5.0 in /home/haiqv/conda/envs/agent-llm/lib/python3.11/site-packages (from langgraph) (3.5.0)\n",
      "Requirement already satisfied: ormsgpack>=1.10.0 in /home/haiqv/conda/envs/agent-llm/lib/python3.11/site-packages (from langgraph-checkpoint<3.0.0,>=2.1.0->langgraph) (1.10.0)\n",
      "Requirement already satisfied: httpx>=0.25.2 in /home/haiqv/conda/envs/agent-llm/lib/python3.11/site-packages (from langgraph-sdk<0.3.0,>=0.2.0->langgraph) (0.28.1)\n",
      "Requirement already satisfied: orjson>=3.10.1 in /home/haiqv/conda/envs/agent-llm/lib/python3.11/site-packages (from langgraph-sdk<0.3.0,>=0.2.0->langgraph) (3.11.2)\n",
      "Requirement already satisfied: anyio in /home/haiqv/conda/envs/agent-llm/lib/python3.11/site-packages (from httpx>=0.25.2->langgraph-sdk<0.3.0,>=0.2.0->langgraph) (4.10.0)\n",
      "Requirement already satisfied: certifi in /home/haiqv/conda/envs/agent-llm/lib/python3.11/site-packages (from httpx>=0.25.2->langgraph-sdk<0.3.0,>=0.2.0->langgraph) (2025.8.3)\n",
      "Requirement already satisfied: httpcore==1.* in /home/haiqv/conda/envs/agent-llm/lib/python3.11/site-packages (from httpx>=0.25.2->langgraph-sdk<0.3.0,>=0.2.0->langgraph) (1.0.9)\n",
      "Requirement already satisfied: idna in /home/haiqv/conda/envs/agent-llm/lib/python3.11/site-packages (from httpx>=0.25.2->langgraph-sdk<0.3.0,>=0.2.0->langgraph) (3.10)\n",
      "Requirement already satisfied: h11>=0.16 in /home/haiqv/conda/envs/agent-llm/lib/python3.11/site-packages (from httpcore==1.*->httpx>=0.25.2->langgraph-sdk<0.3.0,>=0.2.0->langgraph) (0.16.0)\n",
      "Requirement already satisfied: langsmith>=0.3.45 in /home/haiqv/conda/envs/agent-llm/lib/python3.11/site-packages (from langchain-core>=0.1->langgraph) (0.4.14)\n",
      "Requirement already satisfied: tenacity!=8.4.0,<10.0.0,>=8.1.0 in /home/haiqv/conda/envs/agent-llm/lib/python3.11/site-packages (from langchain-core>=0.1->langgraph) (9.1.2)\n",
      "Requirement already satisfied: jsonpatch<2.0,>=1.33 in /home/haiqv/conda/envs/agent-llm/lib/python3.11/site-packages (from langchain-core>=0.1->langgraph) (1.33)\n",
      "Requirement already satisfied: PyYAML>=5.3 in /home/haiqv/conda/envs/agent-llm/lib/python3.11/site-packages (from langchain-core>=0.1->langgraph) (6.0.2)\n",
      "Requirement already satisfied: typing-extensions>=4.7 in /home/haiqv/conda/envs/agent-llm/lib/python3.11/site-packages (from langchain-core>=0.1->langgraph) (4.14.1)\n",
      "Requirement already satisfied: packaging>=23.2 in /home/haiqv/conda/envs/agent-llm/lib/python3.11/site-packages (from langchain-core>=0.1->langgraph) (25.0)\n",
      "Requirement already satisfied: jsonpointer>=1.9 in /home/haiqv/conda/envs/agent-llm/lib/python3.11/site-packages (from jsonpatch<2.0,>=1.33->langchain-core>=0.1->langgraph) (3.0.0)\n",
      "Requirement already satisfied: requests-toolbelt>=1.0.0 in /home/haiqv/conda/envs/agent-llm/lib/python3.11/site-packages (from langsmith>=0.3.45->langchain-core>=0.1->langgraph) (1.0.0)\n",
      "Requirement already satisfied: requests>=2.0.0 in /home/haiqv/conda/envs/agent-llm/lib/python3.11/site-packages (from langsmith>=0.3.45->langchain-core>=0.1->langgraph) (2.32.4)\n",
      "Requirement already satisfied: zstandard>=0.23.0 in /home/haiqv/conda/envs/agent-llm/lib/python3.11/site-packages (from langsmith>=0.3.45->langchain-core>=0.1->langgraph) (0.23.0)\n",
      "Requirement already satisfied: annotated-types>=0.6.0 in /home/haiqv/conda/envs/agent-llm/lib/python3.11/site-packages (from pydantic>=2.7.4->langgraph) (0.7.0)\n",
      "Requirement already satisfied: pydantic-core==2.33.2 in /home/haiqv/conda/envs/agent-llm/lib/python3.11/site-packages (from pydantic>=2.7.4->langgraph) (2.33.2)\n",
      "Requirement already satisfied: typing-inspection>=0.4.0 in /home/haiqv/conda/envs/agent-llm/lib/python3.11/site-packages (from pydantic>=2.7.4->langgraph) (0.4.1)\n",
      "Requirement already satisfied: charset_normalizer<4,>=2 in /home/haiqv/conda/envs/agent-llm/lib/python3.11/site-packages (from requests>=2.0.0->langsmith>=0.3.45->langchain-core>=0.1->langgraph) (3.4.3)\n",
      "Requirement already satisfied: urllib3<3,>=1.21.1 in /home/haiqv/conda/envs/agent-llm/lib/python3.11/site-packages (from requests>=2.0.0->langsmith>=0.3.45->langchain-core>=0.1->langgraph) (2.5.0)\n",
      "Requirement already satisfied: sniffio>=1.1 in /home/haiqv/conda/envs/agent-llm/lib/python3.11/site-packages (from anyio->httpx>=0.25.2->langgraph-sdk<0.3.0,>=0.2.0->langgraph) (1.3.1)\n"
     ]
    }
   ],
   "source": [
    "!pip install langgraph"
   ]
  },
  {
   "cell_type": "code",
   "execution_count": 2,
   "metadata": {},
   "outputs": [
    {
     "data": {
      "text/plain": [
       "True"
      ]
     },
     "execution_count": 2,
     "metadata": {},
     "output_type": "execute_result"
    }
   ],
   "source": [
    "import os\n",
    "from dotenv import load_dotenv\n",
    "load_dotenv(dotenv_path=\"../.env\")"
   ]
  },
  {
   "cell_type": "code",
   "execution_count": 3,
   "metadata": {},
   "outputs": [
    {
     "data": {
      "text/plain": [
       "AIMessage(content='안녕하세요! 어떻게 도와드릴까요?', additional_kwargs={'refusal': None}, response_metadata={'token_usage': {'completion_tokens': 10, 'prompt_tokens': 10, 'total_tokens': 20, 'completion_tokens_details': {'accepted_prediction_tokens': 0, 'audio_tokens': 0, 'reasoning_tokens': 0, 'rejected_prediction_tokens': 0}, 'prompt_tokens_details': {'audio_tokens': 0, 'cached_tokens': 0}}, 'model_name': 'gpt-4o-mini-2024-07-18', 'system_fingerprint': 'fp_560af6e559', 'id': 'chatcmpl-C55Ord7MkTXC6QTgx9UPmghGoY5Co', 'service_tier': 'default', 'finish_reason': 'stop', 'logprobs': None}, id='run--082d1379-30f6-4e3e-a2a5-e790a853a73d-0', usage_metadata={'input_tokens': 10, 'output_tokens': 10, 'total_tokens': 20, 'input_token_details': {'audio': 0, 'cache_read': 0}, 'output_token_details': {'audio': 0, 'reasoning': 0}})"
      ]
     },
     "execution_count": 3,
     "metadata": {},
     "output_type": "execute_result"
    }
   ],
   "source": [
    "from langchain_openai import ChatOpenAI\n",
    "\n",
    "# 모델 초기화\n",
    "model = ChatOpenAI(model=\"gpt-4o-mini\")\n",
    "model.invoke('안녕하세요!')"
   ]
  },
  {
   "cell_type": "markdown",
   "metadata": {},
   "source": [
    "#### 상태 정의하기\n",
    "\n",
    "랭그래프에서 상태는 언어 모델이 임무를 수행하면서 현재 상태를 명확히 관리할 수 있도록 돕는 요소입니다."
   ]
  },
  {
   "cell_type": "code",
   "execution_count": 4,
   "metadata": {},
   "outputs": [],
   "source": [
    "# 상태 정의하기\n",
    "\n",
    "from typing import Annotated # annotated는 타입 힌트를 사용할 때 사용하는 함수\n",
    "from typing_extensions import TypedDict # TypedDict는 딕셔너리 타입을 정의할 때 사용하는 함수\n",
    "\n",
    "from langgraph.graph import StateGraph, START, END\n",
    "from langgraph.graph.message import add_messages\n",
    "\n",
    "class State(TypedDict):\t# State 클래스는 TypedDict를 사용하여 딕셔너리 형태로 관리\n",
    "    \"\"\"\n",
    "    State 클래스는 TypedDict를 상속받습니다.\n",
    "\n",
    "    속성:\n",
    "        messages (Annotated[list[str], add_messages]): 메시지들은 \"list\" 타입을 가집니다.   # messages라는 변수만 포함되며, 이는 Annoted를 사용해 문자열로 구성된 리스트 형식임\n",
    "       'add_messages' 함수는 이 상태 키가 어떻게 업데이트되어야 하는지를 정의합니다.  # add_messages 함수를 추가. 이는 langgraph에서 제공하는 함수로, 문자열이 주어질 때 이를 추가하는 기능 수행\n",
    "        (이 경우, 메시지를 덮어쓰는 대신 리스트에 추가합니다)\n",
    "    \"\"\"\n",
    "    messages: Annotated[list[str], add_messages]\n",
    "\n",
    "# StateGraph 클래스를 사용하여 State 타입의 그래프를 생성합니다.\n",
    "graph_builder = StateGraph(State)   # 생성한 State 를 이용해 StateGraph를 만들어 graph_builder라는 변수에 담는다.\n",
    "\n",
    "# 이렇게 만들어진 graph_builder에 노드와 엣지들을 연결할 예정"
   ]
  },
  {
   "cell_type": "code",
   "execution_count": 5,
   "metadata": {},
   "outputs": [
    {
     "data": {
      "text/plain": [
       "<langgraph.graph.state.StateGraph at 0x7fe3d1596290>"
      ]
     },
     "execution_count": 5,
     "metadata": {},
     "output_type": "execute_result"
    }
   ],
   "source": [
    "# 노드 생성하기\n",
    "def generate(state: State):\n",
    "    \"\"\"\n",
    "    주어진 상태를 기반으로 챗봇의 응답 메시지를 생성합니다.\n",
    "\n",
    "    매개변수:\n",
    "    state (State): 현재 대화 상태를 나타내는 객체로, 이전 메시지들이 포함되어 있습니다.\n",
    "\t\t\n",
    "    반환값:\n",
    "    dict: 모델이 생성한 응답 메시지를 포함하는 딕셔너리. \n",
    "          형식은 {\"messages\": [응답 메시지]}입니다.\n",
    "    \"\"\" \n",
    "    return {\"messages\": [model.invoke(state[\"messages\"])]}\n",
    "\n",
    "graph_builder.add_node(\"generate\", generate)"
   ]
  },
  {
   "cell_type": "code",
   "execution_count": 6,
   "metadata": {},
   "outputs": [],
   "source": [
    "# 엣지 설정하기\n",
    "graph_builder.add_edge(START, \"generate\")\n",
    "graph_builder.add_edge(\"generate\", END)    \n",
    "\n",
    "graph = graph_builder.compile()"
   ]
  },
  {
   "cell_type": "code",
   "execution_count": 7,
   "metadata": {},
   "outputs": [
    {
     "data": {
      "image/png": "[encoded data removed]",
      "text/plain": [
       "<IPython.core.display.Image object>"
      ]
     },
     "metadata": {},
     "output_type": "display_data"
    }
   ],
   "source": [
    "# 그래프 도식화하기\n",
    "from IPython.display import Image, display\n",
    "\n",
    "try:\n",
    "    display(Image(graph.get_graph().draw_mermaid_png()))\n",
    "except Exception: \n",
    "    pass"
   ]
  },
  {
   "cell_type": "code",
   "execution_count": 8,
   "metadata": {},
   "outputs": [
    {
     "name": "stdout",
     "output_type": "stream",
     "text": [
      "<class 'dict'>\n",
      "{'messages': [HumanMessage(content='안녕하세요! 저는 마틴입니다.', additional_kwargs={}, response_metadata={}, id='03a4ab03-390f-4b34-ac80-f2500d0bf578'), AIMessage(content='안녕하세요, 마틴님! 만나서 반갑습니다. 어떻게 도와드릴까요?', additional_kwargs={'refusal': None}, response_metadata={'token_usage': {'completion_tokens': 20, 'prompt_tokens': 15, 'total_tokens': 35, 'completion_tokens_details': {'accepted_prediction_tokens': 0, 'audio_tokens': 0, 'reasoning_tokens': 0, 'rejected_prediction_tokens': 0}, 'prompt_tokens_details': {'audio_tokens': 0, 'cached_tokens': 0}}, 'model_name': 'gpt-4o-mini-2024-07-18', 'system_fingerprint': 'fp_51db84afab', 'id': 'chatcmpl-C55OsonVGLA4515QlmZtBOX4a6qnE', 'service_tier': 'default', 'finish_reason': 'stop', 'logprobs': None}, id='run--e810e62d-7eea-4e84-8f9d-1b0d6a37ef37-0', usage_metadata={'input_tokens': 15, 'output_tokens': 20, 'total_tokens': 35, 'input_token_details': {'audio': 0, 'cache_read': 0}, 'output_token_details': {'audio': 0, 'reasoning': 0}})]}\n"
     ]
    }
   ],
   "source": [
    "# 그래프를 이용해 답변 얻기\n",
    "response = graph.invoke({\"messages\": [\"안녕하세요! 저는 마틴입니다.\"]})\n",
    "\n",
    "print(type(response))  # 응답의 타입을 출력합니다.\n",
    "print(response)  # 응답 내용을 출력합니다."
   ]
  },
  {
   "cell_type": "code",
   "execution_count": 9,
   "metadata": {},
   "outputs": [
    {
     "data": {
      "text/plain": [
       "{'messages': [HumanMessage(content='안녕하세요! 저는 마틴입니다.', additional_kwargs={}, response_metadata={}, id='03a4ab03-390f-4b34-ac80-f2500d0bf578'),\n",
       "  AIMessage(content='안녕하세요, 마틴님! 만나서 반갑습니다. 어떻게 도와드릴까요?', additional_kwargs={'refusal': None}, response_metadata={'token_usage': {'completion_tokens': 20, 'prompt_tokens': 15, 'total_tokens': 35, 'completion_tokens_details': {'accepted_prediction_tokens': 0, 'audio_tokens': 0, 'reasoning_tokens': 0, 'rejected_prediction_tokens': 0}, 'prompt_tokens_details': {'audio_tokens': 0, 'cached_tokens': 0}}, 'model_name': 'gpt-4o-mini-2024-07-18', 'system_fingerprint': 'fp_51db84afab', 'id': 'chatcmpl-C55OsonVGLA4515QlmZtBOX4a6qnE', 'service_tier': 'default', 'finish_reason': 'stop', 'logprobs': None}, id='run--e810e62d-7eea-4e84-8f9d-1b0d6a37ef37-0', usage_metadata={'input_tokens': 15, 'output_tokens': 20, 'total_tokens': 35, 'input_token_details': {'audio': 0, 'cache_read': 0}, 'output_token_details': {'audio': 0, 'reasoning': 0}}),\n",
       "  HumanMessage(content='제 이름을 아시나요?', additional_kwargs={}, response_metadata={}, id='77bde890-f74f-4c8c-ab54-cd720a3dd4cd'),\n",
       "  AIMessage(content='네, 말씀해주신 이름은 마틴입니다. 더 궁금한 점이나 이야기하고 싶은 주제가 있으면 말씀해 주세요!', additional_kwargs={'refusal': None}, response_metadata={'token_usage': {'completion_tokens': 29, 'prompt_tokens': 50, 'total_tokens': 79, 'completion_tokens_details': {'accepted_prediction_tokens': 0, 'audio_tokens': 0, 'reasoning_tokens': 0, 'rejected_prediction_tokens': 0}, 'prompt_tokens_details': {'audio_tokens': 0, 'cached_tokens': 0}}, 'model_name': 'gpt-4o-mini-2024-07-18', 'system_fingerprint': 'fp_560af6e559', 'id': 'chatcmpl-C55PevmaMYXJW2jnVSoX9uk9KYA8x', 'service_tier': 'default', 'finish_reason': 'stop', 'logprobs': None}, id='run--fc63d061-872f-4b6f-8939-80177f228a11-0', usage_metadata={'input_tokens': 50, 'output_tokens': 29, 'total_tokens': 79, 'input_token_details': {'audio': 0, 'cache_read': 0}, 'output_token_details': {'audio': 0, 'reasoning': 0}})]}"
      ]
     },
     "execution_count": 9,
     "metadata": {},
     "output_type": "execute_result"
    }
   ],
   "source": [
    "response[\"messages\"].append(\"제 이름을 아시나요?\")\n",
    "graph.invoke(response)  # 이전 응답을 기반으로 그래프를 다시 실행합니다."
   ]
  },
  {
   "cell_type": "code",
   "execution_count": 10,
   "metadata": {},
   "outputs": [
    {
     "name": "stdout",
     "output_type": "stream",
     "text": [
      "한국과 일본은 역사적으로 복잡하고 때로는 갈등을 겪어온 관계입니다. 이 두 나라 사이의 관계는 문화적, 경제적, 정치적 여러 측면에서 긴밀하지만, 역사적 사건들로 인해 긴장 상태를 유지하기도 합니다. 아래는 이들 관계의 주요한 측면들입니다.\n",
      "\n",
      "### 역사적 배경\n",
      "1. **한일 병합 (1910-1945)**:\n",
      "   - 한국은 1910년에 일본에 의해 강제로 병합되었으며, 이 시기는 식민지 통치 하에 많은 고통을 받았습니다. 이 시기에 일본은 한국의 문화와 언어를 억압하고, 다양한 자원을 착취했습니다.\n",
      "\n",
      "2. **제2차 세계 대전 이후**:\n",
      "   - 한국은 1945년에 해방되었지만, 분단이라는 결과를 낳았습니다. 이후 일본은 한국과의 관계를 정리하기 위해 1965년에 한일기본조약을 체결하였고, 이 조약에 따라 일본은 한국에 대한 경제 지원을 약속했습니다.\n",
      "\n",
      "### 현대의 관계\n",
      "1. **경제적 관계**:\n",
      "   - 한국과 일본은 서로 중요한 경제적 파트너입니다. 두 나라는 무역을 통해 서로에게 의존하고 있으며, 기술과 산업에서도 협력하고 있습니다. 그러나 갈등이 생길 경우, 이러한 경제 관계에 부정적인 영향을 미칠 수 있습니다.\n",
      "\n",
      "2. **문화적 교류**:\n",
      "   - 두 나라 사이에 문화적 교류가 활발하게 이루어지고 있습니다. 한국의 K-팝과 드라마, 일본의 애니메이션과 만화가 서로의 나라에서 큰 인기를 끌고 있습니다. 이러한 문화적 요소들은 양국 간의 이해를 높이는 데 기여하고 있습니다.\n",
      "\n",
      "3. **정치적 갈등**:\n",
      "   - 역사적 사안, 특히 일본의 식민지 통치와 관련된 문제(예: 강제징용, 위안부 문제 등)는 여전히 민감한 이슈로 남아 있습니다. 이러한 문제들은 양국 간의 외교적 긴장을 유발할 수 있습니다.\n",
      "\n",
      "4. **안보 협력**:\n",
      "   - 북한의 위협 증가로 인해 한국과 일본은 군사 및 안보 협력을 위한 채널을 유지하고 있습니다. 미국과의 삼각 동맹이 중요한 역할을 하며, 북한의 핵 및 미사일 문제에 대해 함께 대처하고 있습니다.\n",
      "\n",
      "### 최근 동향\n",
      "- 최근 몇 년간 한국과 일본 간의 관계는 정치적, 역사적 문제로 인해 어려움을 겪고 있습니다. 특히 일본의 수출 규제 조치와 한국 대법원의 강제징용 판결 등은 두 나라 간의 외교적 갈등을 심화시켰습니다. 이러한 갈등에도 불구하고, 문화적, 경제적 교류는 지속되고 있으며, 양국 간의 상호 의존 관계는 여전히 존재합니다.\n",
      "\n",
      "한국과 일본의 관계는 앞으로도 계속해서 발전하고 변화할 가능성이 있으며, 역사적 상처를 극복하고 협력할 수 있는 방법을 모색하는 것이 중요합니다."
     ]
    }
   ],
   "source": [
    "# 스트림 방식으로 출력하기\n",
    "inputs = {\"messages\": [(\"human\", \"한국과 일본의 관계에 대해 자세히 알려줘\")]}\n",
    "for chunk, _ in graph.stream(inputs, stream_mode=\"messages\"):\n",
    "    print(chunk.content, end=\"\")"
   ]
  },
  {
   "cell_type": "code",
   "execution_count": null,
   "metadata": {},
   "outputs": [],
   "source": []
  }
 ],
 "metadata": {
  "language_info": {
   "name": "python"
  }
 },
 "nbformat": 4,
 "nbformat_minor": 2
}
