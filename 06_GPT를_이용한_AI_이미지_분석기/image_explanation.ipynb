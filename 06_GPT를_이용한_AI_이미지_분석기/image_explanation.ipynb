{
 "cells": [
  {
   "cell_type": "markdown",
   "id": "ac330d759facbb1a",
   "metadata": {},
   "source": [
    "## GPT Vision 에게 이미지 설명 요청하기"
   ]
  },
  {
   "cell_type": "code",
   "execution_count": 3,
   "id": "699e5d0ced7159af",
   "metadata": {
    "ExecuteTime": {
     "end_time": "2025-08-12T14:12:57.397695Z",
     "start_time": "2025-08-12T14:12:54.680675Z"
    }
   },
   "outputs": [
    {
     "name": "stdout",
     "output_type": "stream",
     "text": [
      "Collecting python-dotenv\n",
      "  Using cached python_dotenv-1.1.1-py3-none-any.whl.metadata (24 kB)\n",
      "Using cached python_dotenv-1.1.1-py3-none-any.whl (20 kB)\n",
      "Installing collected packages: python-dotenv\n",
      "Successfully installed python-dotenv-1.1.1\n"
     ]
    }
   ],
   "source": [
    "!pip install python-dotenv"
   ]
  },
  {
   "cell_type": "code",
   "execution_count": 4,
   "id": "initial_id",
   "metadata": {
    "ExecuteTime": {
     "end_time": "2025-08-12T14:13:02.609324Z",
     "start_time": "2025-08-12T14:13:00.624956Z"
    },
    "collapsed": true
   },
   "outputs": [],
   "source": [
    "from openai import OpenAI\n",
    "from dotenv import load_dotenv\n",
    "import os"
   ]
  },
  {
   "cell_type": "code",
   "execution_count": 5,
   "id": "85852d90f19a1a6d",
   "metadata": {
    "ExecuteTime": {
     "end_time": "2025-08-12T14:13:25.802575Z",
     "start_time": "2025-08-12T14:13:25.596086Z"
    }
   },
   "outputs": [],
   "source": [
    "load_dotenv(dotenv_path='../.env')\n",
    "api_key = os.getenv(\"OPENAI_API_KEY\")  # 환경 변수에서 API 키를 가져오기\n",
    "\n",
    "client = OpenAI(api_key=api_key)  # 오픈AI 클라이언트의 인스턴스 생성"
   ]
  },
  {
   "cell_type": "code",
   "execution_count": 6,
   "id": "e78f9b2e8f78d060",
   "metadata": {
    "ExecuteTime": {
     "end_time": "2025-08-12T14:13:32.788890Z",
     "start_time": "2025-08-12T14:13:32.784991Z"
    }
   },
   "outputs": [],
   "source": [
    "messages = [\n",
    "    {\n",
    "        \"role\": \"user\",\n",
    "        \"content\": [\n",
    "            {\"type\": \"text\", \"text\": \"이 이미지에 대해 설명해주세요.\"},\n",
    "            {\n",
    "                \"type\": \"image_url\",\n",
    "                \"image_url\": {\n",
    "                    \"url\": \"https://images.unsplash.com/photo-1736264335247-8ec5664c8328?q=80&w=1887&auto=format&fit=crop&ixlib=rb-4.0.3&ixid=M3wxMjA3fDB8MHxwaG90by1wYWdlfHx8fGVufDB8fHx8fA%3D%3D\",\n",
    "                },\n",
    "            },\n",
    "        ],\n",
    "    }\n",
    "]"
   ]
  },
  {
   "cell_type": "code",
   "execution_count": 7,
   "id": "1e503b5bc838197a",
   "metadata": {
    "ExecuteTime": {
     "end_time": "2025-08-12T14:13:47.151989Z",
     "start_time": "2025-08-12T14:13:40.637524Z"
    }
   },
   "outputs": [
    {
     "data": {
      "text/plain": [
       "ChatCompletion(id='chatcmpl-C3k2vZC6VMW8Yak7scvv2PPaOSSuj', choices=[Choice(finish_reason='stop', index=0, logprobs=None, message=ChatCompletionMessage(content='이미지에서 한 여성이 주방에서 요리하는 모습입니다. 그녀는 검은색 운동복을 입고 있으며, 휘핑기로 그릇에 담긴 계란을 저으며 웃고 있습니다. 근처에 팬에는 베이컨 같은 음식이 요리되고 있습니다. 주방의 분위기는 밝고 깔끔합니다.', refusal=None, role='assistant', annotations=[], audio=None, function_call=None, tool_calls=None))], created=1755008021, model='gpt-4o-2024-08-06', object='chat.completion', service_tier='default', system_fingerprint='fp_ff25b2783a', usage=CompletionUsage(completion_tokens=74, prompt_tokens=1119, total_tokens=1193, completion_tokens_details=CompletionTokensDetails(accepted_prediction_tokens=0, audio_tokens=0, reasoning_tokens=0, rejected_prediction_tokens=0), prompt_tokens_details=PromptTokensDetails(audio_tokens=0, cached_tokens=0)))"
      ]
     },
     "execution_count": 7,
     "metadata": {},
     "output_type": "execute_result"
    }
   ],
   "source": [
    "response = client.chat.completions.create(\n",
    "    model=\"gpt-4o\",  # 응답 생성에 사용할 모델 지정\n",
    "    messages=messages # 대화 기록을 입력으로 전달\n",
    ")\n",
    "\n",
    "response"
   ]
  },
  {
   "cell_type": "markdown",
   "id": "fb6757fadcb175b2",
   "metadata": {},
   "source": [
    "### 내가 가진 이미지로 설명 요청하기"
   ]
  },
  {
   "cell_type": "code",
   "execution_count": 8,
   "id": "7ca38e1271eff898",
   "metadata": {
    "ExecuteTime": {
     "end_time": "2025-08-12T14:20:38.051706Z",
     "start_time": "2025-08-12T14:20:38.047688Z"
    }
   },
   "outputs": [],
   "source": [
    "import base64\n",
    "\n",
    "# Function to encode the image\n",
    "def encode_image(image_path):\n",
    "    with open(image_path, \"rb\") as image_file:\n",
    "        return base64.b64encode(image_file.read()).decode(\"utf-8\")"
   ]
  },
  {
   "cell_type": "code",
   "execution_count": null,
   "id": "229ea2c0afff58a4",
   "metadata": {},
   "outputs": [],
   "source": [
    "image_path = \"./data/sample_cat2.jpg\"\n",
    "\n",
    "# 이미지를 base64로 인코딩\n",
    "base64_image = encode_image(image_path)\n",
    "\n",
    "print(base64_image)"
   ]
  },
  {
   "cell_type": "code",
   "execution_count": 11,
   "id": "581701e53493b8c7",
   "metadata": {
    "ExecuteTime": {
     "end_time": "2025-08-12T14:21:45.627131Z",
     "start_time": "2025-08-12T14:21:45.623605Z"
    }
   },
   "outputs": [],
   "source": [
    "messages = [\n",
    "    {\n",
    "        \"role\": \"user\",\n",
    "        \"content\": [\n",
    "            {\"type\": \"text\", \"text\": \"이 이미지에 대해 설명해주세요.\"},\n",
    "            {\n",
    "                \"type\": \"image_url\",\n",
    "                \"image_url\": {\n",
    "                    \"url\": f\"data:image/jpeg;base64,{base64_image}\",\n",
    "                },\n",
    "            },\n",
    "        ],\n",
    "    }\n",
    "]"
   ]
  },
  {
   "cell_type": "code",
   "execution_count": 12,
   "id": "338c90c0280d244c",
   "metadata": {
    "ExecuteTime": {
     "end_time": "2025-08-12T14:21:59.796843Z",
     "start_time": "2025-08-12T14:21:52.172431Z"
    }
   },
   "outputs": [
    {
     "data": {
      "text/plain": [
       "'이 이미지는 이색안 색소상을 가진 고양이를 보여줍니다. 고양이의 한쪽 눈은 파란색이고 다른 쪽 눈은 노란색입니다. 이런 독특한 눈 색깔은 흔히 흰색 털을 가진 고양이에서 볼 수 있습니다. 고양이는 카메라를 응시하고 있으며, 배경은 어두운 목재 바닥으로 보입니다.'"
      ]
     },
     "execution_count": 12,
     "metadata": {},
     "output_type": "execute_result"
    }
   ],
   "source": [
    "response = client.chat.completions.create(\n",
    "    model=\"gpt-4o\",  # 응답 생성에 사용할 모델 지정\n",
    "    messages=messages # 대화 기록을 입력으로 전달\n",
    ")\n",
    "\n",
    "response.choices[0].message.content"
   ]
  },
  {
   "cell_type": "markdown",
   "id": "ec4590522831dd1d",
   "metadata": {},
   "source": [
    "### 비교"
   ]
  },
  {
   "cell_type": "code",
   "execution_count": 13,
   "id": "c71ab5ea0c0415cb",
   "metadata": {
    "ExecuteTime": {
     "end_time": "2025-08-12T14:23:23.760260Z",
     "start_time": "2025-08-12T14:23:23.755640Z"
    }
   },
   "outputs": [],
   "source": [
    "first_base64 = encode_image(\"./data/sample_cat.jpg\")\n",
    "second_base64 = encode_image(\"./data/sample_cat2.jpg\")"
   ]
  },
  {
   "cell_type": "code",
   "execution_count": 16,
   "id": "331c045727bd6d0f",
   "metadata": {
    "ExecuteTime": {
     "end_time": "2025-08-12T14:24:08.169236Z",
     "start_time": "2025-08-12T14:24:08.165986Z"
    }
   },
   "outputs": [],
   "source": [
    "messages = [\n",
    "    {\n",
    "        \"role\": \"user\",\n",
    "        \"content\": [\n",
    "            {\"type\": \"text\", \"text\": \"두 고양이의 차이점을 설명해주세요.\"},\n",
    "            {\n",
    "                \"type\": \"image_url\",\n",
    "                \"image_url\": {\n",
    "                    \"url\": f\"data:image/jpeg;base64,{first_base64}\",\n",
    "                },\n",
    "            },\n",
    "            {\n",
    "                \"type\": \"image_url\",\n",
    "                \"image_url\": {\n",
    "                    \"url\": f\"data:image/jpeg;base64,{second_base64}\",\n",
    "                },\n",
    "            },\n",
    "        ],\n",
    "    }\n",
    "]"
   ]
  },
  {
   "cell_type": "code",
   "execution_count": 17,
   "id": "d134093356445c52",
   "metadata": {
    "ExecuteTime": {
     "end_time": "2025-08-12T14:24:18.714614Z",
     "start_time": "2025-08-12T14:24:09.164640Z"
    }
   },
   "outputs": [
    {
     "data": {
      "text/plain": [
       "'첫 번째 고양이와 두 번째 고양이의 차이점은 다음과 같습니다:\\n\\n1. **털 색상 및 패턴**: \\n    - 첫 번째 고양이는 줄무늬가 있는 갈색 털을 가지고 있습니다.\\n    - 두 번째 고양이는 전체적으로 흰색 털을 가지고 있습니다.\\n\\n2. **눈 색깔**:\\n    - 첫 번째 고양이는 녹색 눈을 가지고 있습니다.\\n    - 두 번째 고양이는 오드아이로, 한쪽 눈은 파란색이고 다른 쪽 눈은 노란색입니다.\\n\\n이러한 차이점 외에도 개체의 표정이나 자세 등에서 차이가 있을 수 있습니다.'"
      ]
     },
     "execution_count": 17,
     "metadata": {},
     "output_type": "execute_result"
    }
   ],
   "source": [
    "response = client.chat.completions.create(\n",
    "    model=\"gpt-4o\",  # 응답 생성에 사용할 모델 지정\n",
    "    messages=messages # 대화 기록을 입력으로 전달\n",
    ")\n",
    "\n",
    "response.choices[0].message.content"
   ]
  },
  {
   "cell_type": "markdown",
   "id": "1f49bb12ab32098a",
   "metadata": {},
   "source": [
    "### GPT 비전의 한계 살펴보기"
   ]
  },
  {
   "cell_type": "code",
   "execution_count": 21,
   "id": "7332073a554bee97",
   "metadata": {
    "ExecuteTime": {
     "end_time": "2025-08-12T14:30:19.627964Z",
     "start_time": "2025-08-12T14:30:05.072935Z"
    }
   },
   "outputs": [
    {
     "data": {
      "text/plain": [
       "'두 그래프는 2021년과 2022년의 각국 연구개발비와 GDP 대비 연구개발비 비중을 나타내고 있습니다. 한국을 중심으로 분석해보겠습니다.\\n\\n1. **연구개발비**:\\n   - **2021년**: 약 89,282백만 달러\\n   - **2022년**: 약 91,013백만 달러\\n   - 연구개발비가 증가하였습니다.\\n\\n2. **GDP 대비 연구개발비 비중**:\\n   - **2021년**: 4.93%\\n   - **2022년**: 4.93% (백분율 변화 없음)\\n   - 비중은 동일하게 유지되었습니다.\\n\\n3. **총체적 변화**:\\n   - 연구개발비는 증가했지만, GDP 대비 비중은 변동이 없습니다.\\n   - 이는 GDP 증가와 연구개발비 증가가 비슷한 비율로 이루어졌다는 의미입니다.\\n\\n이 변화를 통해 한국은 일정 수준의 연구개발 투자를 지속적으로 유지하고 있음을 알 수 있습니다. 이러한 지속적 투자는 기술 발전 및 경제 성장에 긍정적인 영향을 미칠 가능성이 큽니다.'"
      ]
     },
     "execution_count": 21,
     "metadata": {},
     "output_type": "execute_result"
    }
   ],
   "source": [
    "Foecd_rnd_2021_base64 = encode_image(\"./data/oecd_rnd_2021_large.png\")\n",
    "oecd_rnd_2022_base64 = encode_image(\"./data/oecd_rnd_2022_large.png\")\n",
    "\n",
    "messages = [\n",
    "    {\n",
    "        \"role\": \"user\",\n",
    "        \"content\": [\n",
    "            {\"type\": \"text\", \"text\": \"첫번째는 2021년 데이터이고, 두번째는 2022년 데이터입니다. 이 데이터에 대해 설명해주세요. 어떤 변화가 있었나요? 한국 중심으로 설명해주세요.\"},\n",
    "            {\n",
    "                \"type\": \"image_url\",\n",
    "                \"image_url\": {\n",
    "                    \"url\": f\"data:image/jpeg;base64,{oecd_rnd_2021_base64}\",\n",
    "                },\n",
    "            },\n",
    "            {\n",
    "                \"type\": \"image_url\",\n",
    "                \"image_url\": {\n",
    "                    \"url\": f\"data:image/jpeg;base64,{oecd_rnd_2022_base64}\",\n",
    "                },\n",
    "            },\n",
    "        ],\n",
    "    }\n",
    "]\n",
    "\n",
    "response = client.chat.completions.create(\n",
    "    model=\"gpt-4o\",  # 응답 생성에 사용할 모델 지정\n",
    "    messages=messages # 대화 기록을 입력으로 전달\n",
    ")\n",
    "\n",
    "response.choices[0].message.content"
   ]
  },
  {
   "cell_type": "markdown",
   "id": "169380d706f47049",
   "metadata": {},
   "source": [
    "#### 2022년 한국은 87225 백만 달러인데, 영국의 값을 한국으로 잘못 착각하고 있다."
   ]
  },
  {
   "cell_type": "markdown",
   "id": "1ab3849075b68e99",
   "metadata": {},
   "source": [
    "##### [추가] gpt-5 로 시도해보자"
   ]
  },
  {
   "cell_type": "code",
   "execution_count": 23,
   "id": "92119120353904cf",
   "metadata": {
    "ExecuteTime": {
     "end_time": "2025-08-12T14:36:56.679998Z",
     "start_time": "2025-08-12T14:35:14.550610Z"
    }
   },
   "outputs": [
    {
     "data": {
      "text/plain": [
       "'요약\\n- 기준: OECD MSTI, 금액은 달러 환산(2021: 1,143.96원/$ → 2022: 1,291.45원/$).\\n- 막대=연구개발비(백만 달러), 점=GDP 대비 연구개발비 비중.\\n\\n한국 중심 변화\\n- 절대 규모(달러): 89,282M$ → 87,225M$로 약 −2.3% 감소.\\n  - 원화가 약세(환율 상승)여서 달러 표시액이 줄어든 영향이 큼. 원화 기준으로는 증가했을 가능성이 높습니다.\\n- 세계 순위(규모): 5위 → 6위.\\n  - 영국(2021년 자료가 대폭 상향·개편) 91,013M$에 밀려 한 계단 하락.\\n- R&D 집약도(GDP 대비 비중): 4.93% → 5.21%로 +0.28%p 상승.\\n  - OECD 최상위권 유지(이스라엘 5.56% 다음 수준). “규모 대비 투자강도”는 오히려 강화됨.\\n\\n주요국 비교 맥락\\n- 미국: 720.9B$ → 806.0B$(+11.8%), 비중 3.45%→3.46%(유지).\\n- 중국: 353.5B$ → 433.5B$(+22.6%), 비중 2.40%→2.43%(소폭↑).\\n- 일본: 165.0B$ → 165.0B$(보합), 비중 3.27%→3.30%(소폭↑).\\n- 독일: 121.7B$ → 133.9B$(+10%), 비중 3.13%(유지).\\n- 영국: 49.2B$ → 91.0B$(대폭↑), 비중 1.71%→2.91%.\\n  - 영국의 통계 방식/추정치 개편 영향으로 한국의 “규모 순위” 하락에 직접적 요인.\\n\\n읽을 때 유의할 점\\n- 국가별 최신 연도가 서로 달라(한국 2022, 미국·중국 등 2021) 순위가 추후 변동될 수 있음.\\n- 환율 차이가 크므로 달러 기준 증감과 국내 통화 기준 증감이 다를 수 있음.\\n\\n정리\\n- 한국은 달러 기준 총액은 소폭 줄었지만, GDP 대비 비중은 5%를 넘겨 투자 강도가 더 높아졌습니다.\\n- 절대 규모 순위는 영국의 통계 상향으로 5위→6위로 내려갔으나, 연구개발 집약도 측면에서는 세계 최상위 수준을 유지·강화했습니다.'"
      ]
     },
     "execution_count": 23,
     "metadata": {},
     "output_type": "execute_result"
    }
   ],
   "source": [
    "response = client.chat.completions.create(\n",
    "    model=\"gpt-5\",  # 응답 생성에 사용할 모델 지정\n",
    "    messages=messages # 대화 기록을 입력으로 전달\n",
    ")\n",
    "\n",
    "response.choices[0].message.content"
   ]
  },
  {
   "cell_type": "markdown",
   "id": "7695b5d3f68937f3",
   "metadata": {},
   "source": [
    "gpt-5 는 한국을 잘 찾는듯"
   ]
  },
  {
   "cell_type": "code",
   "execution_count": 25,
   "id": "8dee9fca449b91ea",
   "metadata": {
    "ExecuteTime": {
     "end_time": "2025-08-12T14:38:40.693016Z",
     "start_time": "2025-08-12T14:38:25.916508Z"
    }
   },
   "outputs": [
    {
     "name": "stdout",
     "output_type": "stream",
     "text": [
      "Response(id='resp_689b51e10c1881909e3d63eb5fac8fa8008e3a3db5b78160', created_at=1755009505.0, error=None, incomplete_details=None, instructions=None, metadata={}, model='gpt-5-2025-08-07', object='response', output=[ResponseReasoningItem(id='rs_689b51e20ff88190a85c8fceda89b053008e3a3db5b78160', summary=[], type='reasoning', content=None, encrypted_content=None, status=None), ResponseOutputMessage(id='msg_689b51e255b48190a8f5b0ccc6e0a59b008e3a3db5b78160', content=[ResponseOutputText(annotations=[], text='대략적인 계산으로, 자유의 여신상 전체를 1mm 두께의 금으로 도금하려면 약 50~60톤의 금이 필요합니다.\\n\\n간단한 근거:\\n- 자유의 여신상(토치까지)의 높이는 약 46m(동상 자체)이고, 구조를 단순화해 표면적을 약 2,500~3,000 m² 정도로 추정할 수 있습니다(큰 조각상들의 일반적인 표면적 추정치와 유사).\\n- 도금 두께 1mm = 0.001 m → 필요한 금의 부피 = 표면적 × 두께 ≈ 2,500~3,000 m² × 0.001 m = 2.5~3.0 m³\\n- 금의 밀도 ≈ 19,320 kg/m³\\n- 질량 ≈ 2.5~3.0 m³ × 19,320 kg/m³ = 약 48,000~58,000 kg = 48~58톤\\n\\n참고:\\n- 실제 표면적은 세부 조각(주름, 왕관, 토치 구조, 책 등) 때문에 더 클 수 있어 여유를 두면 60톤 안팎으로 잡는 것이 현실적입니다.\\n- 금 가격 변동에 따라 비용은 크게 달라지나, 톤당 수천만 달러 수준으로 총 수십억 달러 규모가 될 수 있습니다.', type='output_text', logprobs=[])], role='assistant', status='completed', type='message')], parallel_tool_calls=True, temperature=1.0, tool_choice='auto', tools=[], top_p=1.0, background=False, max_output_tokens=None, max_tool_calls=None, previous_response_id=None, prompt=None, prompt_cache_key=None, reasoning=Reasoning(effort='minimal', generate_summary=None, summary=None), safety_identifier=None, service_tier='auto', status='completed', text=ResponseTextConfig(format=ResponseFormatText(type='text'), verbosity='medium'), top_logprobs=0, truncation='disabled', usage=ResponseUsage(input_tokens=29, input_tokens_details=InputTokensDetails(cached_tokens=0), output_tokens=320, output_tokens_details=OutputTokensDetails(reasoning_tokens=0), total_tokens=349), user=None, store=True)\n"
     ]
    }
   ],
   "source": [
    "from openai import OpenAI\n",
    "client = OpenAI()\n",
    "\n",
    "response = client.responses.create(\n",
    "    model=\"gpt-5\",\n",
    "    input=\"How much gold would it take to coat the Statue of Liberty in a 1mm layer? response in korean.\",\n",
    "    reasoning={\n",
    "        \"effort\": \"minimal\"\n",
    "    }\n",
    ")\n",
    "\n",
    "print(response)"
   ]
  },
  {
   "cell_type": "code",
   "execution_count": null,
   "id": "bab409af65187af1",
   "metadata": {},
   "outputs": [],
   "source": []
  }
 ],
 "metadata": {
  "kernelspec": {
   "display_name": "Python 3",
   "language": "python",
   "name": "python3"
  },
  "language_info": {
   "codemirror_mode": {
    "name": "ipython",
    "version": 2
   },
   "file_extension": ".py",
   "mimetype": "text/x-python",
   "name": "python",
   "nbconvert_exporter": "python",
   "pygments_lexer": "ipython2",
   "version": "2.7.6"
  }
 },
 "nbformat": 4,
 "nbformat_minor": 5
}
